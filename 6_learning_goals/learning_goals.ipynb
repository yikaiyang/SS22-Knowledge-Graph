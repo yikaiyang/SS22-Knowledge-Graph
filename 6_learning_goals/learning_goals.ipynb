{
 "cells": [
  {
   "cell_type": "code",
   "execution_count": 2,
   "metadata": {},
   "outputs": [],
   "source": [
    "from neo4j import GraphDatabase\n",
    "\n",
    "\n",
    "driver = None\n",
    "\n",
    "def init(uri, user, password):\n",
    "    return GraphDatabase.driver(uri, auth=(user, password))\n",
    "\n",
    "driver = init(\n",
    "    \"bolt://localhost:7687\", \n",
    "    \"neo4j\", \n",
    "    \"kgtransport\"\n",
    ")"
   ]
  },
  {
   "cell_type": "markdown",
   "metadata": {},
   "source": [
    "### (LO2) Logical Representation\n",
    "\n",
    "A set of CYPHER queries was written to showcase how locical queries can be applied to the KG."
   ]
  },
  {
   "cell_type": "markdown",
   "metadata": {},
   "source": [
    "Q1: For example the query: Find all street segments where the average traffic speed exceeds 15km/h on 11-5-2922 at 18:20:\n",
    "\n",
    "In First Order Logic:\n",
    "\n",
    "S(x) represents a street segment x.\n",
    "AT(x, t) represents the average traffic speed on street segment x at time t.\n",
    "T(t) represents the timestamp: 11-5-2922 18:20.\n",
    "\n",
    "∀x (S(x) → (A(x, T(11-5-2922, 18:20)) > 15km/h))\n",
    "\n",
    "can be depicted using the following CYPHER query:\n",
    "\n",
    "\"MATCH q=(r:Road)-[:ROAD_DATE]->(d:Date{name:'11-5-2022'}), (d)-[:DATE_TIME]->(t:Time{name:'18:20'}), (t)-[:HAS_TRAFFIC_SITUATION]->(tr:TrafficSituation WHERE (tr.speed > 16)) RETURN r LIMIT 25\"\n"
   ]
  },
  {
   "cell_type": "code",
   "execution_count": 15,
   "metadata": {},
   "outputs": [
    {
     "data": {
      "text/plain": [
       "[<Record r=<Node element_id='4:01c73c9a-aa6d-420a-96a7-3c39c7f51efc:826' labels=frozenset({'Road'}) properties={'latitude': 48.216403322294354, 'name': 'Innerer Gürtel-41', 'length': '41', 'longitude': 16.341783329844475}>>,\n",
       " <Record r=<Node element_id='4:01c73c9a-aa6d-420a-96a7-3c39c7f51efc:2570' labels=frozenset({'Road'}) properties={'latitude': 48.19758671986405, 'length': '478', 'name': 'Stadionbrücke - Erdberger Lände-478', 'longitude': 16.410578302545474}>>,\n",
       " <Record r=<Node element_id='4:01c73c9a-aa6d-420a-96a7-3c39c7f51efc:2569' labels=frozenset({'Road'}) properties={'latitude': 48.17802399683387, 'name': 'Quellenstraße-295', 'length': '295', 'longitude': 16.35751663062365}>>,\n",
       " <Record r=<Node element_id='4:01c73c9a-aa6d-420a-96a7-3c39c7f51efc:2568' labels=frozenset({'Road'}) properties={'latitude': 48.17552722008042, 'name': 'Quellenstraße-1511', 'length': '1511', 'longitude': 16.376334088929237}>>,\n",
       " <Record r=<Node element_id='4:01c73c9a-aa6d-420a-96a7-3c39c7f51efc:2566' labels=frozenset({'Road'}) properties={'latitude': 48.23180999199394, 'name': 'Innerer Gürtel-58', 'length': '58', 'longitude': 16.354007802146953}>>,\n",
       " <Record r=<Node element_id='4:01c73c9a-aa6d-420a-96a7-3c39c7f51efc:2567' labels=frozenset({'Road'}) properties={'latitude': 48.22455298528075, 'name': 'Innerer Gürtel-58', 'length': '58', 'longitude': 16.34942400176078}>>,\n",
       " <Record r=<Node element_id='4:01c73c9a-aa6d-420a-96a7-3c39c7f51efc:2565' labels=frozenset({'Road'}) properties={'latitude': 48.18052001763135, 'name': 'Matzleinsdorfer Platz-21', 'length': '21', 'longitude': 16.35894164443016}>>,\n",
       " <Record r=<Node element_id='4:01c73c9a-aa6d-420a-96a7-3c39c7f51efc:2564' labels=frozenset({'Road'}) properties={'latitude': 48.20577998645604, 'name': 'Rotundenbrücke-29', 'length': '29', 'longitude': 16.396400034427643}>>,\n",
       " <Record r=<Node element_id='4:01c73c9a-aa6d-420a-96a7-3c39c7f51efc:2563' labels=frozenset({'Road'}) properties={'latitude': 48.18548002280295, 'name': 'Äußerer Gürtel-13', 'length': '13', 'longitude': 16.343935020267963}>>,\n",
       " <Record r=<Node element_id='4:01c73c9a-aa6d-420a-96a7-3c39c7f51efc:2562' labels=frozenset({'Road'}) properties={'latitude': 48.18311624523873, 'length': '570', 'name': 'Landgutgasse - Margaretengürtel-570', 'longitude': 16.364921098057597}>>,\n",
       " <Record r=<Node element_id='4:01c73c9a-aa6d-420a-96a7-3c39c7f51efc:2561' labels=frozenset({'Road'}) properties={'latitude': 48.211171898254086, 'name': 'Obere Weißgerberstraße-351', 'length': '351', 'longitude': 16.385155500568864}>>,\n",
       " <Record r=<Node element_id='4:01c73c9a-aa6d-420a-96a7-3c39c7f51efc:2560' labels=frozenset({'Road'}) properties={'latitude': 48.20625000167638, 'name': 'Gürtel-43', 'length': '43', 'longitude': 16.336320019327104}>>,\n",
       " <Record r=<Node element_id='4:01c73c9a-aa6d-420a-96a7-3c39c7f51efc:2559' labels=frozenset({'Road'}) properties={'latitude': 48.18110872933176, 'name': 'Siebenbrunnengasse-148', 'length': '148', 'longitude': 16.348837511613965}>>,\n",
       " <Record r=<Node element_id='4:01c73c9a-aa6d-420a-96a7-3c39c7f51efc:2558' labels=frozenset({'Road'}) properties={'latitude': 48.1964385691875, 'name': 'Erdberger Lände-87', 'length': '87', 'longitude': 16.4102733897097}>>,\n",
       " <Record r=<Node element_id='4:01c73c9a-aa6d-420a-96a7-3c39c7f51efc:2557' labels=frozenset({'Road'}) properties={'latitude': 48.207211515653206, 'name': 'Hintere Zollamtsstraße-703', 'length': '703', 'longitude': 16.387294801561428}>>,\n",
       " <Record r=<Node element_id='4:01c73c9a-aa6d-420a-96a7-3c39c7f51efc:2556' labels=frozenset({'Road'}) properties={'latitude': 48.21259434257323, 'name': 'Untere Donaustraße-139', 'length': '139', 'longitude': 16.383148099218186}>>,\n",
       " <Record r=<Node element_id='4:01c73c9a-aa6d-420a-96a7-3c39c7f51efc:2555' labels=frozenset({'Road'}) properties={'latitude': 48.1956953912886, 'name': 'Mariahilfer Straße-625', 'length': '625', 'longitude': 16.339953558725295}>>,\n",
       " <Record r=<Node element_id='4:01c73c9a-aa6d-420a-96a7-3c39c7f51efc:2554' labels=frozenset({'Road'}) properties={'latitude': 48.22618211711278, 'name': 'Gürtel-537', 'length': '537', 'longitude': 16.34862289989762}>>,\n",
       " <Record r=<Node element_id='4:01c73c9a-aa6d-420a-96a7-3c39c7f51efc:2553' labels=frozenset({'Road'}) properties={'latitude': 48.21537165902555, 'name': 'Alser Straße-162', 'length': '162', 'longitude': 16.340585560537875}>>,\n",
       " <Record r=<Node element_id='4:01c73c9a-aa6d-420a-96a7-3c39c7f51efc:2552' labels=frozenset({'Road'}) properties={'latitude': 48.188386507861225, 'name': 'Fasangasse-288', 'length': '288', 'longitude': 16.384355001979404}>>,\n",
       " <Record r=<Node element_id='4:01c73c9a-aa6d-420a-96a7-3c39c7f51efc:2551' labels=frozenset({'Road'}) properties={'latitude': 48.21105518427183, 'name': 'Neulerchenfelder Straße-517', 'length': '517', 'longitude': 16.338723817775065}>>,\n",
       " <Record r=<Node element_id='4:01c73c9a-aa6d-420a-96a7-3c39c7f51efc:2550' labels=frozenset({'Road'}) properties={'latitude': 48.21064548655635, 'name': 'Josefstädter Straße-289', 'length': '289', 'longitude': 16.339455354249193}>>,\n",
       " <Record r=<Node element_id='4:01c73c9a-aa6d-420a-96a7-3c39c7f51efc:2549' labels=frozenset({'Road'}) properties={'latitude': 48.22286006139108, 'name': 'Kreuzgasse-484', 'length': '484', 'longitude': 16.341738086124813}>>,\n",
       " <Record r=<Node element_id='4:01c73c9a-aa6d-420a-96a7-3c39c7f51efc:2548' labels=frozenset({'Road'}) properties={'latitude': 48.21271655427717, 'name': 'Schwedenbrücke-742', 'length': '742', 'longitude': 16.379227685985782}>>,\n",
       " <Record r=<Node element_id='4:01c73c9a-aa6d-420a-96a7-3c39c7f51efc:2547' labels=frozenset({'Road'}) properties={'latitude': 48.19714499171823, 'name': 'Stadionbrücke-51', 'length': '51', 'longitude': 16.41161499079317}>>]"
      ]
     },
     "execution_count": 15,
     "metadata": {},
     "output_type": "execute_result"
    }
   ],
   "source": [
    "query = \"MATCH q=(r:Road)-[:ROAD_DATE]->(d:Date{name:'11-5-2022'}), (d)-[:DATE_TIME]->(t:Time{name:'18:20'}), (t)-[:HAS_TRAFFIC_SITUATION]->(tr:TrafficSituation WHERE (tr.speed > 16)) RETURN r LIMIT 25\"\n",
    "\n",
    "result = driver.execute_query(\n",
    "    query\n",
    ")\n",
    "result[0]"
   ]
  },
  {
   "cell_type": "markdown",
   "metadata": {},
   "source": [
    "Q2: Find all street segments where the average traffic speed is between 5-10km/h"
   ]
  },
  {
   "cell_type": "code",
   "execution_count": 16,
   "metadata": {},
   "outputs": [
    {
     "data": {
      "text/plain": [
       "[<Record r=<Node element_id='4:01c73c9a-aa6d-420a-96a7-3c39c7f51efc:846' labels=frozenset({'Road'}) properties={'latitude': 48.212599977850914, 'name': 'Schwedenbrücke-19', 'length': '19', 'longitude': 16.379236662760377}>>,\n",
       " <Record r=<Node element_id='4:01c73c9a-aa6d-420a-96a7-3c39c7f51efc:2570' labels=frozenset({'Road'}) properties={'latitude': 48.19758671986405, 'length': '478', 'name': 'Stadionbrücke - Erdberger Lände-478', 'longitude': 16.410578302545474}>>,\n",
       " <Record r=<Node element_id='4:01c73c9a-aa6d-420a-96a7-3c39c7f51efc:2569' labels=frozenset({'Road'}) properties={'latitude': 48.17802399683387, 'name': 'Quellenstraße-295', 'length': '295', 'longitude': 16.35751663062365}>>,\n",
       " <Record r=<Node element_id='4:01c73c9a-aa6d-420a-96a7-3c39c7f51efc:2568' labels=frozenset({'Road'}) properties={'latitude': 48.17552722008042, 'name': 'Quellenstraße-1511', 'length': '1511', 'longitude': 16.376334088929237}>>,\n",
       " <Record r=<Node element_id='4:01c73c9a-aa6d-420a-96a7-3c39c7f51efc:2567' labels=frozenset({'Road'}) properties={'latitude': 48.22455298528075, 'name': 'Innerer Gürtel-58', 'length': '58', 'longitude': 16.34942400176078}>>,\n",
       " <Record r=<Node element_id='4:01c73c9a-aa6d-420a-96a7-3c39c7f51efc:2566' labels=frozenset({'Road'}) properties={'latitude': 48.23180999199394, 'name': 'Innerer Gürtel-58', 'length': '58', 'longitude': 16.354007802146953}>>,\n",
       " <Record r=<Node element_id='4:01c73c9a-aa6d-420a-96a7-3c39c7f51efc:2565' labels=frozenset({'Road'}) properties={'latitude': 48.18052001763135, 'name': 'Matzleinsdorfer Platz-21', 'length': '21', 'longitude': 16.35894164443016}>>,\n",
       " <Record r=<Node element_id='4:01c73c9a-aa6d-420a-96a7-3c39c7f51efc:2564' labels=frozenset({'Road'}) properties={'latitude': 48.20577998645604, 'name': 'Rotundenbrücke-29', 'length': '29', 'longitude': 16.396400034427643}>>,\n",
       " <Record r=<Node element_id='4:01c73c9a-aa6d-420a-96a7-3c39c7f51efc:2563' labels=frozenset({'Road'}) properties={'latitude': 48.18548002280295, 'name': 'Äußerer Gürtel-13', 'length': '13', 'longitude': 16.343935020267963}>>,\n",
       " <Record r=<Node element_id='4:01c73c9a-aa6d-420a-96a7-3c39c7f51efc:2562' labels=frozenset({'Road'}) properties={'latitude': 48.18311624523873, 'length': '570', 'name': 'Landgutgasse - Margaretengürtel-570', 'longitude': 16.364921098057597}>>,\n",
       " <Record r=<Node element_id='4:01c73c9a-aa6d-420a-96a7-3c39c7f51efc:2561' labels=frozenset({'Road'}) properties={'latitude': 48.211171898254086, 'name': 'Obere Weißgerberstraße-351', 'length': '351', 'longitude': 16.385155500568864}>>,\n",
       " <Record r=<Node element_id='4:01c73c9a-aa6d-420a-96a7-3c39c7f51efc:2560' labels=frozenset({'Road'}) properties={'latitude': 48.20625000167638, 'name': 'Gürtel-43', 'length': '43', 'longitude': 16.336320019327104}>>,\n",
       " <Record r=<Node element_id='4:01c73c9a-aa6d-420a-96a7-3c39c7f51efc:2559' labels=frozenset({'Road'}) properties={'latitude': 48.18110872933176, 'name': 'Siebenbrunnengasse-148', 'length': '148', 'longitude': 16.348837511613965}>>,\n",
       " <Record r=<Node element_id='4:01c73c9a-aa6d-420a-96a7-3c39c7f51efc:2558' labels=frozenset({'Road'}) properties={'latitude': 48.1964385691875, 'name': 'Erdberger Lände-87', 'length': '87', 'longitude': 16.4102733897097}>>,\n",
       " <Record r=<Node element_id='4:01c73c9a-aa6d-420a-96a7-3c39c7f51efc:2557' labels=frozenset({'Road'}) properties={'latitude': 48.207211515653206, 'name': 'Hintere Zollamtsstraße-703', 'length': '703', 'longitude': 16.387294801561428}>>,\n",
       " <Record r=<Node element_id='4:01c73c9a-aa6d-420a-96a7-3c39c7f51efc:2556' labels=frozenset({'Road'}) properties={'latitude': 48.21259434257323, 'name': 'Untere Donaustraße-139', 'length': '139', 'longitude': 16.383148099218186}>>,\n",
       " <Record r=<Node element_id='4:01c73c9a-aa6d-420a-96a7-3c39c7f51efc:2555' labels=frozenset({'Road'}) properties={'latitude': 48.1956953912886, 'name': 'Mariahilfer Straße-625', 'length': '625', 'longitude': 16.339953558725295}>>,\n",
       " <Record r=<Node element_id='4:01c73c9a-aa6d-420a-96a7-3c39c7f51efc:2554' labels=frozenset({'Road'}) properties={'latitude': 48.22618211711278, 'name': 'Gürtel-537', 'length': '537', 'longitude': 16.34862289989762}>>,\n",
       " <Record r=<Node element_id='4:01c73c9a-aa6d-420a-96a7-3c39c7f51efc:2553' labels=frozenset({'Road'}) properties={'latitude': 48.21537165902555, 'name': 'Alser Straße-162', 'length': '162', 'longitude': 16.340585560537875}>>,\n",
       " <Record r=<Node element_id='4:01c73c9a-aa6d-420a-96a7-3c39c7f51efc:2552' labels=frozenset({'Road'}) properties={'latitude': 48.188386507861225, 'name': 'Fasangasse-288', 'length': '288', 'longitude': 16.384355001979404}>>,\n",
       " <Record r=<Node element_id='4:01c73c9a-aa6d-420a-96a7-3c39c7f51efc:2551' labels=frozenset({'Road'}) properties={'latitude': 48.21105518427183, 'name': 'Neulerchenfelder Straße-517', 'length': '517', 'longitude': 16.338723817775065}>>,\n",
       " <Record r=<Node element_id='4:01c73c9a-aa6d-420a-96a7-3c39c7f51efc:2550' labels=frozenset({'Road'}) properties={'latitude': 48.21064548655635, 'name': 'Josefstädter Straße-289', 'length': '289', 'longitude': 16.339455354249193}>>,\n",
       " <Record r=<Node element_id='4:01c73c9a-aa6d-420a-96a7-3c39c7f51efc:2549' labels=frozenset({'Road'}) properties={'latitude': 48.22286006139108, 'name': 'Kreuzgasse-484', 'length': '484', 'longitude': 16.341738086124813}>>,\n",
       " <Record r=<Node element_id='4:01c73c9a-aa6d-420a-96a7-3c39c7f51efc:2548' labels=frozenset({'Road'}) properties={'latitude': 48.21271655427717, 'name': 'Schwedenbrücke-742', 'length': '742', 'longitude': 16.379227685985782}>>,\n",
       " <Record r=<Node element_id='4:01c73c9a-aa6d-420a-96a7-3c39c7f51efc:2547' labels=frozenset({'Road'}) properties={'latitude': 48.19714499171823, 'name': 'Stadionbrücke-51', 'length': '51', 'longitude': 16.41161499079317}>>]"
      ]
     },
     "execution_count": 16,
     "metadata": {},
     "output_type": "execute_result"
    }
   ],
   "source": [
    "query = \"MATCH q=(r:Road)-[:ROAD_DATE]->(d:Date), (d)-[:DATE_TIME]->(t:Time), (t)-[:HAS_TRAFFIC_SITUATION]->(tr:TrafficSituation WHERE (tr.speed > 5 AND tr.speed < 10)) RETURN r LIMIT 25\"\n",
    "\n",
    "result = driver.execute_query(\n",
    "    query\n",
    ")\n",
    "\n",
    "result[0]"
   ]
  },
  {
   "cell_type": "markdown",
   "metadata": {},
   "source": [
    "Q3: An urban planner may be interested to find out whether the roads in the viccinity of schools are safe. \n",
    "\n",
    "\"Find all streets which are located nearby a school and the roads are exceeding the speed of 16km/h\"\n",
    "\n",
    "In first order logic:\n",
    "\n",
    "Predicates:\n",
    "\n",
    "Street(x): x is a street.\n",
    "School(x): x is a school.\n",
    "IsNearby(x, y): x is located nearby y.\n",
    "HasTrafficSituation(x, z): x has a speed of of z km/h.\n",
    "\n",
    "Variables:\n",
    "\n",
    "x, y: Variables to represent streets, schools, and roads.\n",
    "\n",
    "∀x∀y(Street(x) ∧ School(y) ∧ IsNearby(x,y) ∧ Speed(x,z) ∧ z > 16)\n",
    "\n",
    "In CYPHER: \n",
    "\n",
    "For that the query the planner needs to:\n",
    "\n",
    "1) Find all streets which are located nearby a school. \n",
    "\n",
    "For that the category id needs to be conjugated in the cypther query:\n",
    "<ul>\n",
    "    <li>Primary School (12057)</li>\n",
    "    <li>Secondary School (12058)</li>\n",
    "    <li>High School (12059)</li>\n",
    "    <li>Middle School (12060)</li>\n",
    "    <li>Private School (12061)</li>\n",
    "</ul>\n",
    "\n",
    "2) Identify the roads which are exceeding the avg. speed of 16km/h\n",
    "\n",
    "\n",
    "This query can be written in CYPHER as:\n",
    "\n",
    "MATCH (p:POI)-[:IS_LOCATED]->(r:Road), \n",
    "(r:Road)-[:ROAD_DATE]->(d:Date), \n",
    "(d)-[:DATE_TIME]->(t:Time), \n",
    "(t)-[:HAS_TRAFFIC_SITUATION]->(tr:TrafficSituation) \n",
    "WHERE (tr.speed > 16)\n",
    "    AND p.category = '12057' \n",
    "    OR p.category = '12058'\n",
    "    OR p.category = '12059' \n",
    "    OR p.category = '12060' \n",
    "    OR p.category = '12061' \n",
    "RETURN DISTINCT r LIMIT 100\n",
    "\n"
   ]
  },
  {
   "cell_type": "code",
   "execution_count": 36,
   "metadata": {},
   "outputs": [
    {
     "data": {
      "text/plain": [
       "[<Record r=<Node element_id='4:01c73c9a-aa6d-420a-96a7-3c39c7f51efc:1181' labels=frozenset({'Road'}) properties={'latitude': 48.2178949797526, 'name': 'Schottenring-122', 'length': '122', 'longitude': 16.37047501746565}>>,\n",
       " <Record r=<Node element_id='4:01c73c9a-aa6d-420a-96a7-3c39c7f51efc:1203' labels=frozenset({'Road'}) properties={'latitude': 48.21447886065471, 'name': 'Salztorbrücke-572', 'length': '572', 'longitude': 16.37393297251947}>>,\n",
       " <Record r=<Node element_id='4:01c73c9a-aa6d-420a-96a7-3c39c7f51efc:845' labels=frozenset({'Road'}) properties={'latitude': 48.21932472698845, 'name': 'Roßauer Brücke-936', 'length': '936', 'longitude': 16.368342810108615}>>,\n",
       " <Record r=<Node element_id='4:01c73c9a-aa6d-420a-96a7-3c39c7f51efc:850' labels=frozenset({'Road'}) properties={'latitude': 48.218269986100495, 'name': 'Roßauer Lände-8', 'length': '8', 'longitude': 16.369805010035634}>>,\n",
       " <Record r=<Node element_id='4:01c73c9a-aa6d-420a-96a7-3c39c7f51efc:1342' labels=frozenset({'Road'}) properties={'latitude': 48.21809778281022, 'name': 'Schlickplatz-273', 'length': '273', 'longitude': 16.365590317582246}>>,\n",
       " <Record r=<Node element_id='4:01c73c9a-aa6d-420a-96a7-3c39c7f51efc:1143' labels=frozenset({'Road'}) properties={'latitude': 48.218364994972944, 'name': 'Roßauer Kaserne-23', 'length': '23', 'longitude': 16.36987001169473}>>,\n",
       " <Record r=<Node element_id='4:01c73c9a-aa6d-420a-96a7-3c39c7f51efc:905' labels=frozenset({'Road'}) properties={'latitude': 48.21447865449727, 'name': 'Salztorbrücke-450', 'length': '450', 'longitude': 16.373933278778168}>>,\n",
       " <Record r=<Node element_id='4:01c73c9a-aa6d-420a-96a7-3c39c7f51efc:850' labels=frozenset({'Road'}) properties={'latitude': 48.218269986100495, 'name': 'Roßauer Lände-8', 'length': '8', 'longitude': 16.369805010035634}>>,\n",
       " <Record r=<Node element_id='4:01c73c9a-aa6d-420a-96a7-3c39c7f51efc:1302' labels=frozenset({'Road'}) properties={'latitude': 48.214423321187496, 'name': 'Obere Donaustraße-46', 'length': '46', 'longitude': 16.375349974259734}>>,\n",
       " <Record r=<Node element_id='4:01c73c9a-aa6d-420a-96a7-3c39c7f51efc:1336' labels=frozenset({'Road'}) properties={'latitude': 48.21749604751218, 'name': 'Franz-Josefs-Kai - Ringturm-372', 'length': '372', 'longitude': 16.370493669463837}>>,\n",
       " <Record r=<Node element_id='4:01c73c9a-aa6d-420a-96a7-3c39c7f51efc:1018' labels=frozenset({'Road'}) properties={'latitude': 48.21485304531288, 'name': 'Alser Straße-482', 'length': '482', 'longitude': 16.34117532069838}>>,\n",
       " <Record r=<Node element_id='4:01c73c9a-aa6d-420a-96a7-3c39c7f51efc:1094' labels=frozenset({'Road'}) properties={'latitude': 48.210700574563816, 'name': 'Albertgasse-264', 'length': '264', 'longitude': 16.342669000150636}>>,\n",
       " <Record r=<Node element_id='4:01c73c9a-aa6d-420a-96a7-3c39c7f51efc:1335' labels=frozenset({'Road'}) properties={'latitude': 48.21101000066847, 'name': 'Gürtel-69', 'length': '69', 'longitude': 16.33998500648886}>>,\n",
       " <Record r=<Node element_id='4:01c73c9a-aa6d-420a-96a7-3c39c7f51efc:1028' labels=frozenset({'Road'}) properties={'latitude': 48.21105512083267, 'length': '511', 'name': 'Lerchenfelder Gürtel - Josefstädter Straße-511', 'longitude': 16.33872378519794}>>,\n",
       " <Record r=<Node element_id='4:01c73c9a-aa6d-420a-96a7-3c39c7f51efc:899' labels=frozenset({'Road'}) properties={'latitude': 48.21064548655635, 'length': '289', 'name': 'Lerchenfelder Gürtel - Neulerchenfelder Straße-289', 'longitude': 16.339455354249193}>>,\n",
       " <Record r=<Node element_id='4:01c73c9a-aa6d-420a-96a7-3c39c7f51efc:1349' labels=frozenset({'Road'}) properties={'latitude': 48.20869397449618, 'name': 'Marxergasse-312', 'length': '312', 'longitude': 16.384234299960855}>>,\n",
       " <Record r=<Node element_id='4:01c73c9a-aa6d-420a-96a7-3c39c7f51efc:2557' labels=frozenset({'Road'}) properties={'latitude': 48.207211515653206, 'name': 'Hintere Zollamtsstraße-703', 'length': '703', 'longitude': 16.387294801561428}>>,\n",
       " <Record r=<Node element_id='4:01c73c9a-aa6d-420a-96a7-3c39c7f51efc:853' labels=frozenset({'Road'}) properties={'latitude': 48.21179333686208, 'name': 'Schwedenplatz-86', 'length': '86', 'longitude': 16.378762741417933}>>,\n",
       " <Record r=<Node element_id='4:01c73c9a-aa6d-420a-96a7-3c39c7f51efc:889' labels=frozenset({'Road'}) properties={'latitude': 48.2124322405085, 'name': 'Marienbrücke-270', 'length': '270', 'longitude': 16.37621635759327}>>,\n",
       " <Record r=<Node element_id='4:01c73c9a-aa6d-420a-96a7-3c39c7f51efc:1224' labels=frozenset({'Road'}) properties={'latitude': 48.19228289943234, 'name': 'Theresianumgasse-541', 'length': '541', 'longitude': 16.378944366264882}>>,\n",
       " <Record r=<Node element_id='4:01c73c9a-aa6d-420a-96a7-3c39c7f51efc:1292' labels=frozenset({'Road'}) properties={'latitude': 48.20944959850749, 'name': 'Oskar-Kokoschka-Platz-245', 'length': '245', 'longitude': 16.382371265790425}>>,\n",
       " <Record r=<Node element_id='4:01c73c9a-aa6d-420a-96a7-3c39c7f51efc:936' labels=frozenset({'Road'}) properties={'latitude': 48.211224996484816, 'name': 'Julius-Raab-Platz - Urania-35', 'length': '35', 'longitude': 16.382834971882403}>>,\n",
       " <Record r=<Node element_id='4:01c73c9a-aa6d-420a-96a7-3c39c7f51efc:1184' labels=frozenset({'Road'}) properties={'latitude': 48.2117416820256, 'name': 'Schwedenplatz-180', 'length': '180', 'longitude': 16.3783250778215}>>,\n",
       " <Record r=<Node element_id='4:01c73c9a-aa6d-420a-96a7-3c39c7f51efc:862' labels=frozenset({'Road'}) properties={'latitude': 48.2113650161773, 'name': 'Franz-Josefs-Kai-17', 'length': '17', 'longitude': 16.382984966039658}>>,\n",
       " <Record r=<Node element_id='4:01c73c9a-aa6d-420a-96a7-3c39c7f51efc:1064' labels=frozenset({'Road'}) properties={'latitude': 48.21245499886573, 'name': 'Taborstraße-17', 'length': '17', 'longitude': 16.379054985009134}>>,\n",
       " <Record r=<Node element_id='4:01c73c9a-aa6d-420a-96a7-3c39c7f51efc:913' labels=frozenset({'Road'}) properties={'latitude': 48.21249074235675, 'name': 'Schwedenplatz-306', 'length': '306', 'longitude': 16.37937872405746}>>,\n",
       " <Record r=<Node element_id='4:01c73c9a-aa6d-420a-96a7-3c39c7f51efc:933' labels=frozenset({'Road'}) properties={'latitude': 48.21443944238126, 'name': 'Obere Donaustraße-77', 'length': '77', 'longitude': 16.375419427640736}>>,\n",
       " <Record r=<Node element_id='4:01c73c9a-aa6d-420a-96a7-3c39c7f51efc:846' labels=frozenset({'Road'}) properties={'latitude': 48.212599977850914, 'name': 'Schwedenbrücke-19', 'length': '19', 'longitude': 16.379236662760377}>>,\n",
       " <Record r=<Node element_id='4:01c73c9a-aa6d-420a-96a7-3c39c7f51efc:940' labels=frozenset({'Road'}) properties={'latitude': 48.21283398382366, 'name': 'Marienbrücke-115', 'length': '115', 'longitude': 16.377780010923743}>>,\n",
       " <Record r=<Node element_id='4:01c73c9a-aa6d-420a-96a7-3c39c7f51efc:1074' labels=frozenset({'Road'}) properties={'latitude': 48.212914446161854, 'name': 'Lilienbrunngasse-66', 'length': '66', 'longitude': 16.37714285041309}>>,\n",
       " <Record r=<Node element_id='4:01c73c9a-aa6d-420a-96a7-3c39c7f51efc:1292' labels=frozenset({'Road'}) properties={'latitude': 48.20944959850749, 'name': 'Oskar-Kokoschka-Platz-245', 'length': '245', 'longitude': 16.382371265790425}>>,\n",
       " <Record r=<Node element_id='4:01c73c9a-aa6d-420a-96a7-3c39c7f51efc:993' labels=frozenset({'Road'}) properties={'latitude': 48.1884197131265, 'name': 'Prinz-Eugen-Straße-292', 'length': '292', 'longitude': 16.381382575118916}>>,\n",
       " <Record r=<Node element_id='4:01c73c9a-aa6d-420a-96a7-3c39c7f51efc:1107' labels=frozenset({'Road'}) properties={'latitude': 48.1882794621655, 'name': 'Hauptbahnhof-372', 'length': '372', 'longitude': 16.381169509786158}>>,\n",
       " <Record r=<Node element_id='4:01c73c9a-aa6d-420a-96a7-3c39c7f51efc:1224' labels=frozenset({'Road'}) properties={'latitude': 48.19228289943234, 'name': 'Theresianumgasse-541', 'length': '541', 'longitude': 16.378944366264882}>>,\n",
       " <Record r=<Node element_id='4:01c73c9a-aa6d-420a-96a7-3c39c7f51efc:1259' labels=frozenset({'Road'}) properties={'latitude': 48.202287790461696, 'name': 'Landstraßer Hauptstraße-1601', 'length': '1601', 'longitude': 16.391378222363528}>>,\n",
       " <Record r=<Node element_id='4:01c73c9a-aa6d-420a-96a7-3c39c7f51efc:1094' labels=frozenset({'Road'}) properties={'latitude': 48.210700574563816, 'name': 'Albertgasse-264', 'length': '264', 'longitude': 16.342669000150636}>>,\n",
       " <Record r=<Node element_id='4:01c73c9a-aa6d-420a-96a7-3c39c7f51efc:1057' labels=frozenset({'Road'}) properties={'latitude': 48.208531653508544, 'name': 'Innerer Gürtel-30', 'length': '30', 'longitude': 16.33872000966221}>>,\n",
       " <Record r=<Node element_id='4:01c73c9a-aa6d-420a-96a7-3c39c7f51efc:1157' labels=frozenset({'Road'}) properties={'latitude': 48.20833970947812, 'name': 'Innerer Gürtel-355', 'length': '355', 'longitude': 16.33966543349541}>>,\n",
       " <Record r=<Node element_id='4:01c73c9a-aa6d-420a-96a7-3c39c7f51efc:2551' labels=frozenset({'Road'}) properties={'latitude': 48.21105518427183, 'name': 'Neulerchenfelder Straße-517', 'length': '517', 'longitude': 16.338723817775065}>>,\n",
       " <Record r=<Node element_id='4:01c73c9a-aa6d-420a-96a7-3c39c7f51efc:1307' labels=frozenset({'Road'}) properties={'latitude': 48.208979909308255, 'name': 'Thaliastraße-243', 'length': '243', 'longitude': 16.338394867256284}>>,\n",
       " <Record r=<Node element_id='4:01c73c9a-aa6d-420a-96a7-3c39c7f51efc:1350' labels=frozenset({'Road'}) properties={'latitude': 48.21686943992973, 'name': 'Hernalser Hauptstraße-92', 'length': '92', 'longitude': 16.34142389986664}>>,\n",
       " <Record r=<Node element_id='4:01c73c9a-aa6d-420a-96a7-3c39c7f51efc:976' labels=frozenset({'Road'}) properties={'latitude': 48.215789990499616, 'name': 'Kinderspitalgasse-135', 'length': '135', 'longitude': 16.34167999494821}>>,\n",
       " <Record r=<Node element_id='4:01c73c9a-aa6d-420a-96a7-3c39c7f51efc:878' labels=frozenset({'Road'}) properties={'latitude': 48.21706029614644, 'name': 'Innerer Gürtel-705', 'length': '705', 'longitude': 16.34307655244461}>>,\n",
       " <Record r=<Node element_id='4:01c73c9a-aa6d-420a-96a7-3c39c7f51efc:868' labels=frozenset({'Road'}) properties={'latitude': 48.217701810009686, 'name': 'Jörgerstraße-400', 'length': '400', 'longitude': 16.34186417505973}>>,\n",
       " <Record r=<Node element_id='4:01c73c9a-aa6d-420a-96a7-3c39c7f51efc:1321' labels=frozenset({'Road'}) properties={'latitude': 48.21521166712046, 'name': 'Albertgasse-180', 'length': '180', 'longitude': 16.342903995886445}>>,\n",
       " <Record r=<Node element_id='4:01c73c9a-aa6d-420a-96a7-3c39c7f51efc:852' labels=frozenset({'Road'}) properties={'latitude': 48.2194500323385, 'name': 'Augartenbrücke-38', 'length': '38', 'longitude': 16.371174990199506}>>,\n",
       " <Record r=<Node element_id='4:01c73c9a-aa6d-420a-96a7-3c39c7f51efc:1219' labels=frozenset({'Road'}) properties={'latitude': 48.220119997859, 'name': 'Rembrandtstraße-23', 'length': '23', 'longitude': 16.369724962860346}>>,\n",
       " <Record r=<Node element_id='4:01c73c9a-aa6d-420a-96a7-3c39c7f51efc:1143' labels=frozenset({'Road'}) properties={'latitude': 48.218364994972944, 'name': 'Roßauer Kaserne-23', 'length': '23', 'longitude': 16.36987001169473}>>,\n",
       " <Record r=<Node element_id='4:01c73c9a-aa6d-420a-96a7-3c39c7f51efc:1000' labels=frozenset({'Road'}) properties={'latitude': 48.22405550289312, 'name': 'Brigittenauer Lände-479', 'length': '479', 'longitude': 16.369224434077648}>>,\n",
       " <Record r=<Node element_id='4:01c73c9a-aa6d-420a-96a7-3c39c7f51efc:866' labels=frozenset({'Road'}) properties={'latitude': 48.219988609974585, 'name': 'Roßauer Brücke-129', 'length': '129', 'longitude': 16.37009927498487}>>,\n",
       " <Record r=<Node element_id='4:01c73c9a-aa6d-420a-96a7-3c39c7f51efc:1236' labels=frozenset({'Road'}) properties={'latitude': 48.19830166641623, 'name': 'Äußerer Gürtel-59', 'length': '59', 'longitude': 16.338585005141795}>>,\n",
       " <Record r=<Node element_id='4:01c73c9a-aa6d-420a-96a7-3c39c7f51efc:833' labels=frozenset({'Road'}) properties={'latitude': 48.198089324496685, 'name': 'Stollgasse-278', 'length': '278', 'longitude': 16.339130566455424}>>,\n",
       " <Record r=<Node element_id='4:01c73c9a-aa6d-420a-96a7-3c39c7f51efc:855' labels=frozenset({'Road'}) properties={'latitude': 48.195834359759466, 'name': 'Westbahnhof-222', 'length': '222', 'longitude': 16.339282168106486}>>,\n",
       " <Record r=<Node element_id='4:01c73c9a-aa6d-420a-96a7-3c39c7f51efc:857' labels=frozenset({'Road'}) properties={'latitude': 48.19126041570966, 'name': 'Stumpergasse-758', 'length': '758', 'longitude': 16.34743534981798}>>,\n",
       " <Record r=<Node element_id='4:01c73c9a-aa6d-420a-96a7-3c39c7f51efc:1194' labels=frozenset({'Road'}) properties={'latitude': 48.19835500326008, 'name': 'Innerer Gürtel-29', 'length': '29', 'longitude': 16.338835009373724}>>,\n",
       " <Record r=<Node element_id='4:01c73c9a-aa6d-420a-96a7-3c39c7f51efc:1206' labels=frozenset({'Road'}) properties={'latitude': 48.188419735338535, 'name': 'Hauptbahnhof-225', 'length': '225', 'longitude': 16.381381164025516}>>,\n",
       " <Record r=<Node element_id='4:01c73c9a-aa6d-420a-96a7-3c39c7f51efc:995' labels=frozenset({'Road'}) properties={'latitude': 48.18544338821685, 'name': 'Südtiroler Platz-826', 'length': '826', 'longitude': 16.37165367573227}>>,\n",
       " <Record r=<Node element_id='4:01c73c9a-aa6d-420a-96a7-3c39c7f51efc:1090' labels=frozenset({'Road'}) properties={'latitude': 48.18834001198411, 'name': 'Gürtel-14', 'length': '14', 'longitude': 16.381184994243085}>>,\n",
       " <Record r=<Node element_id='4:01c73c9a-aa6d-420a-96a7-3c39c7f51efc:1304' labels=frozenset({'Road'}) properties={'latitude': 48.1895163168927, 'name': 'Rainergasse-453', 'length': '453', 'longitude': 16.37226804397554}>>,\n",
       " <Record r=<Node element_id='4:01c73c9a-aa6d-420a-96a7-3c39c7f51efc:1164' labels=frozenset({'Road'}) properties={'latitude': 48.186816309642815, 'name': 'Südtiroler Platz-1019', 'length': '1019', 'longitude': 16.3760690312657}>>,\n",
       " <Record r=<Node element_id='4:01c73c9a-aa6d-420a-96a7-3c39c7f51efc:1202' labels=frozenset({'Road'}) properties={'latitude': 48.18893541530153, 'name': 'Reinprechtsdorfer Straße-643', 'length': '643', 'longitude': 16.350011613059007}>>,\n",
       " <Record r=<Node element_id='4:01c73c9a-aa6d-420a-96a7-3c39c7f51efc:896' labels=frozenset({'Road'}) properties={'latitude': 48.18877353031389, 'name': 'Margaretengürtel-702', 'length': '702', 'longitude': 16.342466941310303}>>,\n",
       " <Record r=<Node element_id='4:01c73c9a-aa6d-420a-96a7-3c39c7f51efc:857' labels=frozenset({'Road'}) properties={'latitude': 48.19126041570966, 'name': 'Stumpergasse-758', 'length': '758', 'longitude': 16.34743534981798}>>,\n",
       " <Record r=<Node element_id='4:01c73c9a-aa6d-420a-96a7-3c39c7f51efc:833' labels=frozenset({'Road'}) properties={'latitude': 48.198089324496685, 'name': 'Stollgasse-278', 'length': '278', 'longitude': 16.339130566455424}>>,\n",
       " <Record r=<Node element_id='4:01c73c9a-aa6d-420a-96a7-3c39c7f51efc:855' labels=frozenset({'Road'}) properties={'latitude': 48.195834359759466, 'name': 'Westbahnhof-222', 'length': '222', 'longitude': 16.339282168106486}>>,\n",
       " <Record r=<Node element_id='4:01c73c9a-aa6d-420a-96a7-3c39c7f51efc:2542' labels=frozenset({'Road'}) properties={'latitude': 48.22770668193698, 'name': 'Brigittenauer Lände-37', 'length': '37', 'longitude': 16.36649664491415}>>,\n",
       " <Record r=<Node element_id='4:01c73c9a-aa6d-420a-96a7-3c39c7f51efc:892' labels=frozenset({'Road'}) properties={'latitude': 48.225456089262345, 'name': 'Julius-Tandler-Platz-274', 'length': '274', 'longitude': 16.36075905185967}>>,\n",
       " <Record r=<Node element_id='4:01c73c9a-aa6d-420a-96a7-3c39c7f51efc:1076' labels=frozenset({'Road'}) properties={'latitude': 48.22707676600354, 'name': 'Spittelauer Lände-105', 'length': '105', 'longitude': 16.364888955140486}>>,\n",
       " <Record r=<Node element_id='4:01c73c9a-aa6d-420a-96a7-3c39c7f51efc:998' labels=frozenset({'Road'}) properties={'latitude': 48.2269526016513, 'name': 'Friedensbrücke-712', 'length': '712', 'longitude': 16.364717299779443}>>,\n",
       " <Record r=<Node element_id='4:01c73c9a-aa6d-420a-96a7-3c39c7f51efc:1329' labels=frozenset({'Road'}) properties={'latitude': 48.224066662369296, 'name': 'Obere Donaustraße-94', 'length': '94', 'longitude': 16.36922166449949}>>,\n",
       " <Record r=<Node element_id='4:01c73c9a-aa6d-420a-96a7-3c39c7f51efc:883' labels=frozenset({'Road'}) properties={'latitude': 48.18608389236033, 'name': 'Sechshauser Gürtel-353', 'length': '353', 'longitude': 16.339096193467935}>>,\n",
       " <Record r=<Node element_id='4:01c73c9a-aa6d-420a-96a7-3c39c7f51efc:919' labels=frozenset({'Road'}) properties={'latitude': 48.18168773463686, 'name': 'Längenfeldgasse-524', 'length': '524', 'longitude': 16.33906505982384}>>,\n",
       " <Record r=<Node element_id='4:01c73c9a-aa6d-420a-96a7-3c39c7f51efc:963' labels=frozenset({'Road'}) properties={'latitude': 48.18400980484692, 'name': 'Ruckergasse-998', 'length': '998', 'longitude': 16.328694987485466}>>,\n",
       " <Record r=<Node element_id='4:01c73c9a-aa6d-420a-96a7-3c39c7f51efc:885' labels=frozenset({'Road'}) properties={'latitude': 48.18821950974916, 'name': 'Wienzeile-271', 'length': '271', 'longitude': 16.339046055965113}>>,\n",
       " <Record r=<Node element_id='4:01c73c9a-aa6d-420a-96a7-3c39c7f51efc:1170' labels=frozenset({'Road'}) properties={'latitude': 48.19021311771376, 'name': 'Gürtel-590', 'length': '590', 'longitude': 16.337264213749688}>>,\n",
       " <Record r=<Node element_id='4:01c73c9a-aa6d-420a-96a7-3c39c7f51efc:1194' labels=frozenset({'Road'}) properties={'latitude': 48.19835500326008, 'name': 'Innerer Gürtel-29', 'length': '29', 'longitude': 16.338835009373724}>>,\n",
       " <Record r=<Node element_id='4:01c73c9a-aa6d-420a-96a7-3c39c7f51efc:869' labels=frozenset({'Road'}) properties={'latitude': 48.20088997017592, 'name': 'Innerer Gürtel-56', 'length': '56', 'longitude': 16.337841670028865}>>,\n",
       " <Record r=<Node element_id='4:01c73c9a-aa6d-420a-96a7-3c39c7f51efc:1043' labels=frozenset({'Road'}) properties={'latitude': 48.20114331319928, 'name': 'Neubaugürtel - Märzstraße-84', 'length': '84', 'longitude': 16.337176663801074}>>,\n",
       " <Record r=<Node element_id='4:01c73c9a-aa6d-420a-96a7-3c39c7f51efc:921' labels=frozenset({'Road'}) properties={'latitude': 48.1983016862715, 'name': 'Stollgasse-337', 'length': '337', 'longitude': 16.33820841949071}>>,\n",
       " <Record r=<Node element_id='4:01c73c9a-aa6d-420a-96a7-3c39c7f51efc:1236' labels=frozenset({'Road'}) properties={'latitude': 48.19830166641623, 'name': 'Äußerer Gürtel-59', 'length': '59', 'longitude': 16.338585005141795}>>,\n",
       " <Record r=<Node element_id='4:01c73c9a-aa6d-420a-96a7-3c39c7f51efc:2560' labels=frozenset({'Road'}) properties={'latitude': 48.20625000167638, 'name': 'Gürtel-43', 'length': '43', 'longitude': 16.336320019327104}>>,\n",
       " <Record r=<Node element_id='4:01c73c9a-aa6d-420a-96a7-3c39c7f51efc:1055' labels=frozenset({'Road'}) properties={'latitude': 48.206980830291286, 'length': '293', 'name': 'Lerchenfelder Gürtel - Neustiftgasse-293', 'longitude': 16.337098348885775}>>,\n",
       " <Record r=<Node element_id='4:01c73c9a-aa6d-420a-96a7-3c39c7f51efc:1078' labels=frozenset({'Road'}) properties={'latitude': 48.20887320112977, 'name': 'Gürtel-990', 'length': '990', 'longitude': 16.3366349805269}>>,\n",
       " <Record r=<Node element_id='4:01c73c9a-aa6d-420a-96a7-3c39c7f51efc:911' labels=frozenset({'Road'}) properties={'latitude': 48.20463918149471, 'name': 'Neubaugürtel - Burggasse-225', 'length': '225', 'longitude': 16.336724591092207}>>,\n",
       " <Record r=<Node element_id='4:01c73c9a-aa6d-420a-96a7-3c39c7f51efc:1151' labels=frozenset({'Road'}) properties={'latitude': 48.20616999641061, 'length': '19', 'name': 'Lerchenfelder Gürtel - Neustiftgasse-19', 'longitude': 16.337295002304018}>>,\n",
       " <Record r=<Node element_id='4:01c73c9a-aa6d-420a-96a7-3c39c7f51efc:1239' labels=frozenset({'Road'}) properties={'latitude': 48.18252444267273, 'length': '274', 'name': 'Landgutgasse - Margaretengürtel-274', 'longitude': 16.363552240654826}>>,\n",
       " <Record r=<Node element_id='4:01c73c9a-aa6d-420a-96a7-3c39c7f51efc:1097' labels=frozenset({'Road'}) properties={'latitude': 48.18168462695258, 'name': 'Wiedner Hauptstraße-574', 'length': '574', 'longitude': 16.358140913585615}>>,\n",
       " <Record r=<Node element_id='4:01c73c9a-aa6d-420a-96a7-3c39c7f51efc:938' labels=frozenset({'Road'}) properties={'latitude': 48.18441888228358, 'name': 'Kliebergasse-443', 'length': '443', 'longitude': 16.36155761335689}>>,\n",
       " <Record r=<Node element_id='4:01c73c9a-aa6d-420a-96a7-3c39c7f51efc:857' labels=frozenset({'Road'}) properties={'latitude': 48.19126041570966, 'name': 'Stumpergasse-758', 'length': '758', 'longitude': 16.34743534981798}>>,\n",
       " <Record r=<Node element_id='4:01c73c9a-aa6d-420a-96a7-3c39c7f51efc:2562' labels=frozenset({'Road'}) properties={'latitude': 48.18311624523873, 'length': '570', 'name': 'Landgutgasse - Margaretengürtel-570', 'longitude': 16.364921098057597}>>,\n",
       " <Record r=<Node element_id='4:01c73c9a-aa6d-420a-96a7-3c39c7f51efc:980' labels=frozenset({'Road'}) properties={'latitude': 48.20363605235707, 'name': 'Wassergasse-1092', 'length': '1092', 'longitude': 16.399911569054208}>>,\n",
       " <Record r=<Node element_id='4:01c73c9a-aa6d-420a-96a7-3c39c7f51efc:1067' labels=frozenset({'Road'}) properties={'latitude': 48.19661540232576, 'name': 'Baumgasse-800', 'length': '800', 'longitude': 16.39598068822939}>>,\n",
       " <Record r=<Node element_id='4:01c73c9a-aa6d-420a-96a7-3c39c7f51efc:907' labels=frozenset({'Road'}) properties={'latitude': 48.20349650154356, 'name': 'Wassergasse-278', 'length': '278', 'longitude': 16.397639165176077}>>,\n",
       " <Record r=<Node element_id='4:01c73c9a-aa6d-420a-96a7-3c39c7f51efc:1315' labels=frozenset({'Road'}) properties={'latitude': 48.20579990606989, 'name': 'Rotundenbrücke-1493', 'length': '1493', 'longitude': 16.39806129962679}>>,\n",
       " <Record r=<Node element_id='4:01c73c9a-aa6d-420a-96a7-3c39c7f51efc:1075' labels=frozenset({'Road'}) properties={'latitude': 48.194488928082045, 'name': 'Rennweg-669', 'length': '669', 'longitude': 16.38643044748022}>>,\n",
       " <Record r=<Node element_id='4:01c73c9a-aa6d-420a-96a7-3c39c7f51efc:1264' labels=frozenset({'Road'}) properties={'latitude': 48.21822363178324, 'name': 'Hernalser Hauptstraße-636', 'length': '636', 'longitude': 16.331227874569205}>>,\n",
       " <Record r=<Node element_id='4:01c73c9a-aa6d-420a-96a7-3c39c7f51efc:1172' labels=frozenset({'Road'}) properties={'latitude': 48.21761370481303, 'name': 'Martinstraße-149', 'length': '149', 'longitude': 16.339642234767478}>>,\n",
       " <Record r=<Node element_id='4:01c73c9a-aa6d-420a-96a7-3c39c7f51efc:1350' labels=frozenset({'Road'}) properties={'latitude': 48.21686943992973, 'name': 'Hernalser Hauptstraße-92', 'length': '92', 'longitude': 16.34142389986664}>>,\n",
       " <Record r=<Node element_id='4:01c73c9a-aa6d-420a-96a7-3c39c7f51efc:2553' labels=frozenset({'Road'}) properties={'latitude': 48.21537165902555, 'name': 'Alser Straße-162', 'length': '162', 'longitude': 16.340585560537875}>>,\n",
       " <Record r=<Node element_id='4:01c73c9a-aa6d-420a-96a7-3c39c7f51efc:1088' labels=frozenset({'Road'}) properties={'latitude': 48.21145735122264, 'name': 'Haberlgasse-364', 'length': '364', 'longitude': 16.33302198909223}>>]"
      ]
     },
     "execution_count": 36,
     "metadata": {},
     "output_type": "execute_result"
    }
   ],
   "source": [
    "# Query for 1)\n",
    "\n",
    "query = \"MATCH (p:POI)-[:IS_LOCATED]->(r:Road) WHERE p.category = '12057' OR p.category = '12058' OR p.category = '12059' OR p.category = '12060' OR p.category = '12061' RETURN r LIMIT 100\"\n",
    "\n",
    "result = driver.execute_query(\n",
    "    query\n",
    ")\n",
    "\n",
    "result[0]"
   ]
  },
  {
   "cell_type": "code",
   "execution_count": 46,
   "metadata": {},
   "outputs": [
    {
     "data": {
      "text/plain": [
       "[<Record r=<Node element_id='4:01c73c9a-aa6d-420a-96a7-3c39c7f51efc:1181' labels=frozenset({'Road'}) properties={'latitude': 48.2178949797526, 'name': 'Schottenring-122', 'length': '122', 'longitude': 16.37047501746565}>>,\n",
       " <Record r=<Node element_id='4:01c73c9a-aa6d-420a-96a7-3c39c7f51efc:1203' labels=frozenset({'Road'}) properties={'latitude': 48.21447886065471, 'name': 'Salztorbrücke-572', 'length': '572', 'longitude': 16.37393297251947}>>,\n",
       " <Record r=<Node element_id='4:01c73c9a-aa6d-420a-96a7-3c39c7f51efc:845' labels=frozenset({'Road'}) properties={'latitude': 48.21932472698845, 'name': 'Roßauer Brücke-936', 'length': '936', 'longitude': 16.368342810108615}>>,\n",
       " <Record r=<Node element_id='4:01c73c9a-aa6d-420a-96a7-3c39c7f51efc:850' labels=frozenset({'Road'}) properties={'latitude': 48.218269986100495, 'name': 'Roßauer Lände-8', 'length': '8', 'longitude': 16.369805010035634}>>,\n",
       " <Record r=<Node element_id='4:01c73c9a-aa6d-420a-96a7-3c39c7f51efc:1342' labels=frozenset({'Road'}) properties={'latitude': 48.21809778281022, 'name': 'Schlickplatz-273', 'length': '273', 'longitude': 16.365590317582246}>>,\n",
       " <Record r=<Node element_id='4:01c73c9a-aa6d-420a-96a7-3c39c7f51efc:1143' labels=frozenset({'Road'}) properties={'latitude': 48.218364994972944, 'name': 'Roßauer Kaserne-23', 'length': '23', 'longitude': 16.36987001169473}>>,\n",
       " <Record r=<Node element_id='4:01c73c9a-aa6d-420a-96a7-3c39c7f51efc:905' labels=frozenset({'Road'}) properties={'latitude': 48.21447865449727, 'name': 'Salztorbrücke-450', 'length': '450', 'longitude': 16.373933278778168}>>,\n",
       " <Record r=<Node element_id='4:01c73c9a-aa6d-420a-96a7-3c39c7f51efc:1302' labels=frozenset({'Road'}) properties={'latitude': 48.214423321187496, 'name': 'Obere Donaustraße-46', 'length': '46', 'longitude': 16.375349974259734}>>,\n",
       " <Record r=<Node element_id='4:01c73c9a-aa6d-420a-96a7-3c39c7f51efc:1336' labels=frozenset({'Road'}) properties={'latitude': 48.21749604751218, 'name': 'Franz-Josefs-Kai - Ringturm-372', 'length': '372', 'longitude': 16.370493669463837}>>,\n",
       " <Record r=<Node element_id='4:01c73c9a-aa6d-420a-96a7-3c39c7f51efc:1018' labels=frozenset({'Road'}) properties={'latitude': 48.21485304531288, 'name': 'Alser Straße-482', 'length': '482', 'longitude': 16.34117532069838}>>,\n",
       " <Record r=<Node element_id='4:01c73c9a-aa6d-420a-96a7-3c39c7f51efc:1094' labels=frozenset({'Road'}) properties={'latitude': 48.210700574563816, 'name': 'Albertgasse-264', 'length': '264', 'longitude': 16.342669000150636}>>,\n",
       " <Record r=<Node element_id='4:01c73c9a-aa6d-420a-96a7-3c39c7f51efc:1335' labels=frozenset({'Road'}) properties={'latitude': 48.21101000066847, 'name': 'Gürtel-69', 'length': '69', 'longitude': 16.33998500648886}>>,\n",
       " <Record r=<Node element_id='4:01c73c9a-aa6d-420a-96a7-3c39c7f51efc:1028' labels=frozenset({'Road'}) properties={'latitude': 48.21105512083267, 'length': '511', 'name': 'Lerchenfelder Gürtel - Josefstädter Straße-511', 'longitude': 16.33872378519794}>>,\n",
       " <Record r=<Node element_id='4:01c73c9a-aa6d-420a-96a7-3c39c7f51efc:899' labels=frozenset({'Road'}) properties={'latitude': 48.21064548655635, 'length': '289', 'name': 'Lerchenfelder Gürtel - Neulerchenfelder Straße-289', 'longitude': 16.339455354249193}>>,\n",
       " <Record r=<Node element_id='4:01c73c9a-aa6d-420a-96a7-3c39c7f51efc:1349' labels=frozenset({'Road'}) properties={'latitude': 48.20869397449618, 'name': 'Marxergasse-312', 'length': '312', 'longitude': 16.384234299960855}>>,\n",
       " <Record r=<Node element_id='4:01c73c9a-aa6d-420a-96a7-3c39c7f51efc:2557' labels=frozenset({'Road'}) properties={'latitude': 48.207211515653206, 'name': 'Hintere Zollamtsstraße-703', 'length': '703', 'longitude': 16.387294801561428}>>,\n",
       " <Record r=<Node element_id='4:01c73c9a-aa6d-420a-96a7-3c39c7f51efc:853' labels=frozenset({'Road'}) properties={'latitude': 48.21179333686208, 'name': 'Schwedenplatz-86', 'length': '86', 'longitude': 16.378762741417933}>>,\n",
       " <Record r=<Node element_id='4:01c73c9a-aa6d-420a-96a7-3c39c7f51efc:889' labels=frozenset({'Road'}) properties={'latitude': 48.2124322405085, 'name': 'Marienbrücke-270', 'length': '270', 'longitude': 16.37621635759327}>>,\n",
       " <Record r=<Node element_id='4:01c73c9a-aa6d-420a-96a7-3c39c7f51efc:1224' labels=frozenset({'Road'}) properties={'latitude': 48.19228289943234, 'name': 'Theresianumgasse-541', 'length': '541', 'longitude': 16.378944366264882}>>,\n",
       " <Record r=<Node element_id='4:01c73c9a-aa6d-420a-96a7-3c39c7f51efc:1292' labels=frozenset({'Road'}) properties={'latitude': 48.20944959850749, 'name': 'Oskar-Kokoschka-Platz-245', 'length': '245', 'longitude': 16.382371265790425}>>,\n",
       " <Record r=<Node element_id='4:01c73c9a-aa6d-420a-96a7-3c39c7f51efc:936' labels=frozenset({'Road'}) properties={'latitude': 48.211224996484816, 'name': 'Julius-Raab-Platz - Urania-35', 'length': '35', 'longitude': 16.382834971882403}>>,\n",
       " <Record r=<Node element_id='4:01c73c9a-aa6d-420a-96a7-3c39c7f51efc:1184' labels=frozenset({'Road'}) properties={'latitude': 48.2117416820256, 'name': 'Schwedenplatz-180', 'length': '180', 'longitude': 16.3783250778215}>>,\n",
       " <Record r=<Node element_id='4:01c73c9a-aa6d-420a-96a7-3c39c7f51efc:862' labels=frozenset({'Road'}) properties={'latitude': 48.2113650161773, 'name': 'Franz-Josefs-Kai-17', 'length': '17', 'longitude': 16.382984966039658}>>,\n",
       " <Record r=<Node element_id='4:01c73c9a-aa6d-420a-96a7-3c39c7f51efc:1064' labels=frozenset({'Road'}) properties={'latitude': 48.21245499886573, 'name': 'Taborstraße-17', 'length': '17', 'longitude': 16.379054985009134}>>,\n",
       " <Record r=<Node element_id='4:01c73c9a-aa6d-420a-96a7-3c39c7f51efc:913' labels=frozenset({'Road'}) properties={'latitude': 48.21249074235675, 'name': 'Schwedenplatz-306', 'length': '306', 'longitude': 16.37937872405746}>>,\n",
       " <Record r=<Node element_id='4:01c73c9a-aa6d-420a-96a7-3c39c7f51efc:933' labels=frozenset({'Road'}) properties={'latitude': 48.21443944238126, 'name': 'Obere Donaustraße-77', 'length': '77', 'longitude': 16.375419427640736}>>,\n",
       " <Record r=<Node element_id='4:01c73c9a-aa6d-420a-96a7-3c39c7f51efc:846' labels=frozenset({'Road'}) properties={'latitude': 48.212599977850914, 'name': 'Schwedenbrücke-19', 'length': '19', 'longitude': 16.379236662760377}>>,\n",
       " <Record r=<Node element_id='4:01c73c9a-aa6d-420a-96a7-3c39c7f51efc:940' labels=frozenset({'Road'}) properties={'latitude': 48.21283398382366, 'name': 'Marienbrücke-115', 'length': '115', 'longitude': 16.377780010923743}>>,\n",
       " <Record r=<Node element_id='4:01c73c9a-aa6d-420a-96a7-3c39c7f51efc:1074' labels=frozenset({'Road'}) properties={'latitude': 48.212914446161854, 'name': 'Lilienbrunngasse-66', 'length': '66', 'longitude': 16.37714285041309}>>,\n",
       " <Record r=<Node element_id='4:01c73c9a-aa6d-420a-96a7-3c39c7f51efc:993' labels=frozenset({'Road'}) properties={'latitude': 48.1884197131265, 'name': 'Prinz-Eugen-Straße-292', 'length': '292', 'longitude': 16.381382575118916}>>,\n",
       " <Record r=<Node element_id='4:01c73c9a-aa6d-420a-96a7-3c39c7f51efc:1107' labels=frozenset({'Road'}) properties={'latitude': 48.1882794621655, 'name': 'Hauptbahnhof-372', 'length': '372', 'longitude': 16.381169509786158}>>,\n",
       " <Record r=<Node element_id='4:01c73c9a-aa6d-420a-96a7-3c39c7f51efc:1259' labels=frozenset({'Road'}) properties={'latitude': 48.202287790461696, 'name': 'Landstraßer Hauptstraße-1601', 'length': '1601', 'longitude': 16.391378222363528}>>,\n",
       " <Record r=<Node element_id='4:01c73c9a-aa6d-420a-96a7-3c39c7f51efc:1057' labels=frozenset({'Road'}) properties={'latitude': 48.208531653508544, 'name': 'Innerer Gürtel-30', 'length': '30', 'longitude': 16.33872000966221}>>,\n",
       " <Record r=<Node element_id='4:01c73c9a-aa6d-420a-96a7-3c39c7f51efc:1157' labels=frozenset({'Road'}) properties={'latitude': 48.20833970947812, 'name': 'Innerer Gürtel-355', 'length': '355', 'longitude': 16.33966543349541}>>,\n",
       " <Record r=<Node element_id='4:01c73c9a-aa6d-420a-96a7-3c39c7f51efc:2551' labels=frozenset({'Road'}) properties={'latitude': 48.21105518427183, 'name': 'Neulerchenfelder Straße-517', 'length': '517', 'longitude': 16.338723817775065}>>,\n",
       " <Record r=<Node element_id='4:01c73c9a-aa6d-420a-96a7-3c39c7f51efc:1307' labels=frozenset({'Road'}) properties={'latitude': 48.208979909308255, 'name': 'Thaliastraße-243', 'length': '243', 'longitude': 16.338394867256284}>>,\n",
       " <Record r=<Node element_id='4:01c73c9a-aa6d-420a-96a7-3c39c7f51efc:1350' labels=frozenset({'Road'}) properties={'latitude': 48.21686943992973, 'name': 'Hernalser Hauptstraße-92', 'length': '92', 'longitude': 16.34142389986664}>>,\n",
       " <Record r=<Node element_id='4:01c73c9a-aa6d-420a-96a7-3c39c7f51efc:976' labels=frozenset({'Road'}) properties={'latitude': 48.215789990499616, 'name': 'Kinderspitalgasse-135', 'length': '135', 'longitude': 16.34167999494821}>>,\n",
       " <Record r=<Node element_id='4:01c73c9a-aa6d-420a-96a7-3c39c7f51efc:878' labels=frozenset({'Road'}) properties={'latitude': 48.21706029614644, 'name': 'Innerer Gürtel-705', 'length': '705', 'longitude': 16.34307655244461}>>,\n",
       " <Record r=<Node element_id='4:01c73c9a-aa6d-420a-96a7-3c39c7f51efc:868' labels=frozenset({'Road'}) properties={'latitude': 48.217701810009686, 'name': 'Jörgerstraße-400', 'length': '400', 'longitude': 16.34186417505973}>>,\n",
       " <Record r=<Node element_id='4:01c73c9a-aa6d-420a-96a7-3c39c7f51efc:1321' labels=frozenset({'Road'}) properties={'latitude': 48.21521166712046, 'name': 'Albertgasse-180', 'length': '180', 'longitude': 16.342903995886445}>>,\n",
       " <Record r=<Node element_id='4:01c73c9a-aa6d-420a-96a7-3c39c7f51efc:852' labels=frozenset({'Road'}) properties={'latitude': 48.2194500323385, 'name': 'Augartenbrücke-38', 'length': '38', 'longitude': 16.371174990199506}>>,\n",
       " <Record r=<Node element_id='4:01c73c9a-aa6d-420a-96a7-3c39c7f51efc:1219' labels=frozenset({'Road'}) properties={'latitude': 48.220119997859, 'name': 'Rembrandtstraße-23', 'length': '23', 'longitude': 16.369724962860346}>>,\n",
       " <Record r=<Node element_id='4:01c73c9a-aa6d-420a-96a7-3c39c7f51efc:1000' labels=frozenset({'Road'}) properties={'latitude': 48.22405550289312, 'name': 'Brigittenauer Lände-479', 'length': '479', 'longitude': 16.369224434077648}>>,\n",
       " <Record r=<Node element_id='4:01c73c9a-aa6d-420a-96a7-3c39c7f51efc:866' labels=frozenset({'Road'}) properties={'latitude': 48.219988609974585, 'name': 'Roßauer Brücke-129', 'length': '129', 'longitude': 16.37009927498487}>>,\n",
       " <Record r=<Node element_id='4:01c73c9a-aa6d-420a-96a7-3c39c7f51efc:1236' labels=frozenset({'Road'}) properties={'latitude': 48.19830166641623, 'name': 'Äußerer Gürtel-59', 'length': '59', 'longitude': 16.338585005141795}>>,\n",
       " <Record r=<Node element_id='4:01c73c9a-aa6d-420a-96a7-3c39c7f51efc:833' labels=frozenset({'Road'}) properties={'latitude': 48.198089324496685, 'name': 'Stollgasse-278', 'length': '278', 'longitude': 16.339130566455424}>>,\n",
       " <Record r=<Node element_id='4:01c73c9a-aa6d-420a-96a7-3c39c7f51efc:855' labels=frozenset({'Road'}) properties={'latitude': 48.195834359759466, 'name': 'Westbahnhof-222', 'length': '222', 'longitude': 16.339282168106486}>>,\n",
       " <Record r=<Node element_id='4:01c73c9a-aa6d-420a-96a7-3c39c7f51efc:857' labels=frozenset({'Road'}) properties={'latitude': 48.19126041570966, 'name': 'Stumpergasse-758', 'length': '758', 'longitude': 16.34743534981798}>>,\n",
       " <Record r=<Node element_id='4:01c73c9a-aa6d-420a-96a7-3c39c7f51efc:1194' labels=frozenset({'Road'}) properties={'latitude': 48.19835500326008, 'name': 'Innerer Gürtel-29', 'length': '29', 'longitude': 16.338835009373724}>>,\n",
       " <Record r=<Node element_id='4:01c73c9a-aa6d-420a-96a7-3c39c7f51efc:1206' labels=frozenset({'Road'}) properties={'latitude': 48.188419735338535, 'name': 'Hauptbahnhof-225', 'length': '225', 'longitude': 16.381381164025516}>>,\n",
       " <Record r=<Node element_id='4:01c73c9a-aa6d-420a-96a7-3c39c7f51efc:995' labels=frozenset({'Road'}) properties={'latitude': 48.18544338821685, 'name': 'Südtiroler Platz-826', 'length': '826', 'longitude': 16.37165367573227}>>,\n",
       " <Record r=<Node element_id='4:01c73c9a-aa6d-420a-96a7-3c39c7f51efc:1090' labels=frozenset({'Road'}) properties={'latitude': 48.18834001198411, 'name': 'Gürtel-14', 'length': '14', 'longitude': 16.381184994243085}>>,\n",
       " <Record r=<Node element_id='4:01c73c9a-aa6d-420a-96a7-3c39c7f51efc:1304' labels=frozenset({'Road'}) properties={'latitude': 48.1895163168927, 'name': 'Rainergasse-453', 'length': '453', 'longitude': 16.37226804397554}>>,\n",
       " <Record r=<Node element_id='4:01c73c9a-aa6d-420a-96a7-3c39c7f51efc:1164' labels=frozenset({'Road'}) properties={'latitude': 48.186816309642815, 'name': 'Südtiroler Platz-1019', 'length': '1019', 'longitude': 16.3760690312657}>>,\n",
       " <Record r=<Node element_id='4:01c73c9a-aa6d-420a-96a7-3c39c7f51efc:1202' labels=frozenset({'Road'}) properties={'latitude': 48.18893541530153, 'name': 'Reinprechtsdorfer Straße-643', 'length': '643', 'longitude': 16.350011613059007}>>,\n",
       " <Record r=<Node element_id='4:01c73c9a-aa6d-420a-96a7-3c39c7f51efc:896' labels=frozenset({'Road'}) properties={'latitude': 48.18877353031389, 'name': 'Margaretengürtel-702', 'length': '702', 'longitude': 16.342466941310303}>>,\n",
       " <Record r=<Node element_id='4:01c73c9a-aa6d-420a-96a7-3c39c7f51efc:2542' labels=frozenset({'Road'}) properties={'latitude': 48.22770668193698, 'name': 'Brigittenauer Lände-37', 'length': '37', 'longitude': 16.36649664491415}>>,\n",
       " <Record r=<Node element_id='4:01c73c9a-aa6d-420a-96a7-3c39c7f51efc:892' labels=frozenset({'Road'}) properties={'latitude': 48.225456089262345, 'name': 'Julius-Tandler-Platz-274', 'length': '274', 'longitude': 16.36075905185967}>>,\n",
       " <Record r=<Node element_id='4:01c73c9a-aa6d-420a-96a7-3c39c7f51efc:1076' labels=frozenset({'Road'}) properties={'latitude': 48.22707676600354, 'name': 'Spittelauer Lände-105', 'length': '105', 'longitude': 16.364888955140486}>>,\n",
       " <Record r=<Node element_id='4:01c73c9a-aa6d-420a-96a7-3c39c7f51efc:998' labels=frozenset({'Road'}) properties={'latitude': 48.2269526016513, 'name': 'Friedensbrücke-712', 'length': '712', 'longitude': 16.364717299779443}>>,\n",
       " <Record r=<Node element_id='4:01c73c9a-aa6d-420a-96a7-3c39c7f51efc:1329' labels=frozenset({'Road'}) properties={'latitude': 48.224066662369296, 'name': 'Obere Donaustraße-94', 'length': '94', 'longitude': 16.36922166449949}>>,\n",
       " <Record r=<Node element_id='4:01c73c9a-aa6d-420a-96a7-3c39c7f51efc:883' labels=frozenset({'Road'}) properties={'latitude': 48.18608389236033, 'name': 'Sechshauser Gürtel-353', 'length': '353', 'longitude': 16.339096193467935}>>,\n",
       " <Record r=<Node element_id='4:01c73c9a-aa6d-420a-96a7-3c39c7f51efc:919' labels=frozenset({'Road'}) properties={'latitude': 48.18168773463686, 'name': 'Längenfeldgasse-524', 'length': '524', 'longitude': 16.33906505982384}>>,\n",
       " <Record r=<Node element_id='4:01c73c9a-aa6d-420a-96a7-3c39c7f51efc:963' labels=frozenset({'Road'}) properties={'latitude': 48.18400980484692, 'name': 'Ruckergasse-998', 'length': '998', 'longitude': 16.328694987485466}>>,\n",
       " <Record r=<Node element_id='4:01c73c9a-aa6d-420a-96a7-3c39c7f51efc:885' labels=frozenset({'Road'}) properties={'latitude': 48.18821950974916, 'name': 'Wienzeile-271', 'length': '271', 'longitude': 16.339046055965113}>>,\n",
       " <Record r=<Node element_id='4:01c73c9a-aa6d-420a-96a7-3c39c7f51efc:1170' labels=frozenset({'Road'}) properties={'latitude': 48.19021311771376, 'name': 'Gürtel-590', 'length': '590', 'longitude': 16.337264213749688}>>,\n",
       " <Record r=<Node element_id='4:01c73c9a-aa6d-420a-96a7-3c39c7f51efc:869' labels=frozenset({'Road'}) properties={'latitude': 48.20088997017592, 'name': 'Innerer Gürtel-56', 'length': '56', 'longitude': 16.337841670028865}>>,\n",
       " <Record r=<Node element_id='4:01c73c9a-aa6d-420a-96a7-3c39c7f51efc:1043' labels=frozenset({'Road'}) properties={'latitude': 48.20114331319928, 'name': 'Neubaugürtel - Märzstraße-84', 'length': '84', 'longitude': 16.337176663801074}>>,\n",
       " <Record r=<Node element_id='4:01c73c9a-aa6d-420a-96a7-3c39c7f51efc:921' labels=frozenset({'Road'}) properties={'latitude': 48.1983016862715, 'name': 'Stollgasse-337', 'length': '337', 'longitude': 16.33820841949071}>>,\n",
       " <Record r=<Node element_id='4:01c73c9a-aa6d-420a-96a7-3c39c7f51efc:2560' labels=frozenset({'Road'}) properties={'latitude': 48.20625000167638, 'name': 'Gürtel-43', 'length': '43', 'longitude': 16.336320019327104}>>,\n",
       " <Record r=<Node element_id='4:01c73c9a-aa6d-420a-96a7-3c39c7f51efc:1055' labels=frozenset({'Road'}) properties={'latitude': 48.206980830291286, 'length': '293', 'name': 'Lerchenfelder Gürtel - Neustiftgasse-293', 'longitude': 16.337098348885775}>>,\n",
       " <Record r=<Node element_id='4:01c73c9a-aa6d-420a-96a7-3c39c7f51efc:1078' labels=frozenset({'Road'}) properties={'latitude': 48.20887320112977, 'name': 'Gürtel-990', 'length': '990', 'longitude': 16.3366349805269}>>,\n",
       " <Record r=<Node element_id='4:01c73c9a-aa6d-420a-96a7-3c39c7f51efc:911' labels=frozenset({'Road'}) properties={'latitude': 48.20463918149471, 'name': 'Neubaugürtel - Burggasse-225', 'length': '225', 'longitude': 16.336724591092207}>>,\n",
       " <Record r=<Node element_id='4:01c73c9a-aa6d-420a-96a7-3c39c7f51efc:1151' labels=frozenset({'Road'}) properties={'latitude': 48.20616999641061, 'length': '19', 'name': 'Lerchenfelder Gürtel - Neustiftgasse-19', 'longitude': 16.337295002304018}>>,\n",
       " <Record r=<Node element_id='4:01c73c9a-aa6d-420a-96a7-3c39c7f51efc:1239' labels=frozenset({'Road'}) properties={'latitude': 48.18252444267273, 'length': '274', 'name': 'Landgutgasse - Margaretengürtel-274', 'longitude': 16.363552240654826}>>,\n",
       " <Record r=<Node element_id='4:01c73c9a-aa6d-420a-96a7-3c39c7f51efc:1097' labels=frozenset({'Road'}) properties={'latitude': 48.18168462695258, 'name': 'Wiedner Hauptstraße-574', 'length': '574', 'longitude': 16.358140913585615}>>,\n",
       " <Record r=<Node element_id='4:01c73c9a-aa6d-420a-96a7-3c39c7f51efc:938' labels=frozenset({'Road'}) properties={'latitude': 48.18441888228358, 'name': 'Kliebergasse-443', 'length': '443', 'longitude': 16.36155761335689}>>,\n",
       " <Record r=<Node element_id='4:01c73c9a-aa6d-420a-96a7-3c39c7f51efc:2562' labels=frozenset({'Road'}) properties={'latitude': 48.18311624523873, 'length': '570', 'name': 'Landgutgasse - Margaretengürtel-570', 'longitude': 16.364921098057597}>>,\n",
       " <Record r=<Node element_id='4:01c73c9a-aa6d-420a-96a7-3c39c7f51efc:980' labels=frozenset({'Road'}) properties={'latitude': 48.20363605235707, 'name': 'Wassergasse-1092', 'length': '1092', 'longitude': 16.399911569054208}>>,\n",
       " <Record r=<Node element_id='4:01c73c9a-aa6d-420a-96a7-3c39c7f51efc:1067' labels=frozenset({'Road'}) properties={'latitude': 48.19661540232576, 'name': 'Baumgasse-800', 'length': '800', 'longitude': 16.39598068822939}>>,\n",
       " <Record r=<Node element_id='4:01c73c9a-aa6d-420a-96a7-3c39c7f51efc:907' labels=frozenset({'Road'}) properties={'latitude': 48.20349650154356, 'name': 'Wassergasse-278', 'length': '278', 'longitude': 16.397639165176077}>>,\n",
       " <Record r=<Node element_id='4:01c73c9a-aa6d-420a-96a7-3c39c7f51efc:1315' labels=frozenset({'Road'}) properties={'latitude': 48.20579990606989, 'name': 'Rotundenbrücke-1493', 'length': '1493', 'longitude': 16.39806129962679}>>,\n",
       " <Record r=<Node element_id='4:01c73c9a-aa6d-420a-96a7-3c39c7f51efc:1075' labels=frozenset({'Road'}) properties={'latitude': 48.194488928082045, 'name': 'Rennweg-669', 'length': '669', 'longitude': 16.38643044748022}>>,\n",
       " <Record r=<Node element_id='4:01c73c9a-aa6d-420a-96a7-3c39c7f51efc:1264' labels=frozenset({'Road'}) properties={'latitude': 48.21822363178324, 'name': 'Hernalser Hauptstraße-636', 'length': '636', 'longitude': 16.331227874569205}>>,\n",
       " <Record r=<Node element_id='4:01c73c9a-aa6d-420a-96a7-3c39c7f51efc:1172' labels=frozenset({'Road'}) properties={'latitude': 48.21761370481303, 'name': 'Martinstraße-149', 'length': '149', 'longitude': 16.339642234767478}>>,\n",
       " <Record r=<Node element_id='4:01c73c9a-aa6d-420a-96a7-3c39c7f51efc:2553' labels=frozenset({'Road'}) properties={'latitude': 48.21537165902555, 'name': 'Alser Straße-162', 'length': '162', 'longitude': 16.340585560537875}>>,\n",
       " <Record r=<Node element_id='4:01c73c9a-aa6d-420a-96a7-3c39c7f51efc:1088' labels=frozenset({'Road'}) properties={'latitude': 48.21145735122264, 'name': 'Haberlgasse-364', 'length': '364', 'longitude': 16.33302198909223}>>,\n",
       " <Record r=<Node element_id='4:01c73c9a-aa6d-420a-96a7-3c39c7f51efc:1235' labels=frozenset({'Road'}) properties={'latitude': 48.22559498716146, 'name': 'Fuchsthallergasse-101', 'length': '101', 'longitude': 16.349161667749286}>>,\n",
       " <Record r=<Node element_id='4:01c73c9a-aa6d-420a-96a7-3c39c7f51efc:2554' labels=frozenset({'Road'}) properties={'latitude': 48.22618211711278, 'name': 'Gürtel-537', 'length': '537', 'longitude': 16.34862289989762}>>,\n",
       " <Record r=<Node element_id='4:01c73c9a-aa6d-420a-96a7-3c39c7f51efc:2535' labels=frozenset({'Road'}) properties={'latitude': 48.226966607384384, 'name': 'Martinstraße-460', 'length': '460', 'longitude': 16.343495800625533}>>,\n",
       " <Record r=<Node element_id='4:01c73c9a-aa6d-420a-96a7-3c39c7f51efc:1352' labels=frozenset({'Road'}) properties={'latitude': 48.21802107852955, 'name': 'Jörgerstraße-545', 'length': '545', 'longitude': 16.33935972447911}>>,\n",
       " <Record r=<Node element_id='4:01c73c9a-aa6d-420a-96a7-3c39c7f51efc:2549' labels=frozenset({'Road'}) properties={'latitude': 48.22286006139108, 'name': 'Kreuzgasse-484', 'length': '484', 'longitude': 16.341738086124813}>>,\n",
       " <Record r=<Node element_id='4:01c73c9a-aa6d-420a-96a7-3c39c7f51efc:867' labels=frozenset({'Road'}) properties={'latitude': 48.1885282019367, 'name': 'Gurtel-555', 'length': '555', 'longitude': 16.3810963056646}>>,\n",
       " <Record r=<Node element_id='4:01c73c9a-aa6d-420a-96a7-3c39c7f51efc:1344' labels=frozenset({'Road'}) properties={'latitude': 48.18874505671935, 'name': 'Gürtel-680', 'length': '680', 'longitude': 16.385192114435153}>>,\n",
       " <Record r=<Node element_id='4:01c73c9a-aa6d-420a-96a7-3c39c7f51efc:2552' labels=frozenset({'Road'}) properties={'latitude': 48.188386507861225, 'name': 'Fasangasse-288', 'length': '288', 'longitude': 16.384355001979404}>>,\n",
       " <Record r=<Node element_id='4:01c73c9a-aa6d-420a-96a7-3c39c7f51efc:914' labels=frozenset({'Road'}) properties={'latitude': 48.19342789973652, 'name': 'Rennweg-622', 'length': '622', 'longitude': 16.390568439860058}>>,\n",
       " <Record r=<Node element_id='4:01c73c9a-aa6d-420a-96a7-3c39c7f51efc:909' labels=frozenset({'Road'}) properties={'latitude': 48.21118501480669, 'name': 'Weißgerberlände-34', 'length': '34', 'longitude': 16.394164999946952}>>,\n",
       " <Record r=<Node element_id='4:01c73c9a-aa6d-420a-96a7-3c39c7f51efc:1148' labels=frozenset({'Road'}) properties={'latitude': 48.20599834900349, 'name': 'Schüttelstraße - Prater-43', 'length': '43', 'longitude': 16.397608327679336}>>,\n",
       " <Record r=<Node element_id='4:01c73c9a-aa6d-420a-96a7-3c39c7f51efc:2538' labels=frozenset({'Road'}) properties={'latitude': 48.20579990607511, 'name': 'Rotundenbrücke-1325', 'length': '1325', 'longitude': 16.39806129962283}>>]"
      ]
     },
     "execution_count": 46,
     "metadata": {},
     "output_type": "execute_result"
    }
   ],
   "source": [
    "# Query for 2)\n",
    "\n",
    "query = \"\"\"\n",
    "MATCH (p:POI)-[:IS_LOCATED]->(r:Road), \n",
    "(r:Road)-[:ROAD_DATE]->(d:Date), \n",
    "(d)-[:DATE_TIME]->(t:Time), \n",
    "(t)-[:HAS_TRAFFIC_SITUATION]->(tr:TrafficSituation) \n",
    "WHERE (tr.speed > 16)\n",
    "    AND p.category = '12057' \n",
    "    OR p.category = '12058'\n",
    "    OR p.category = '12059' \n",
    "    OR p.category = '12060' \n",
    "    OR p.category = '12061' \n",
    "RETURN DISTINCT r LIMIT 100\"\"\"\n",
    "\n",
    "result = driver.execute_query(\n",
    "    query\n",
    ")\n",
    "\n",
    "result[0]"
   ]
  },
  {
   "cell_type": "markdown",
   "metadata": {},
   "source": [
    "## LO 9 / LO 11 \n",
    "\n",
    "Scenario 1:\n",
    "\n",
    "A traffic planner may be interested in all roads affected by an incident. Thus the traffic planner selects an incident on the map and tries to predict roads affected by it by using the relationship 'IS_NEARBY':\n",
    "\n",
    "In the following an implementation of the code is shown. Subsequently a UI is introduced where the user is able to select different models without having to interact with the code."
   ]
  },
  {
   "cell_type": "code",
   "execution_count": 86,
   "metadata": {},
   "outputs": [
    {
     "name": "stdout",
     "output_type": "stream",
     "text": [
      "/Users/yikaiyang/Projects/SS22-Knowledge-Graph\n"
     ]
    },
    {
     "data": {
      "text/plain": [
       "[953, 1188, 889, 1205, 1246]"
      ]
     },
     "execution_count": 86,
     "metadata": {},
     "output_type": "execute_result"
    }
   ],
   "source": [
    "#from pykeen.models import predict\n",
    "import torch\n",
    "from pykeen.triples import TriplesFactory\n",
    "from pykeen import predict\n",
    "from pathlib import Path\n",
    "from pykeen.utils import set_random_seed\n",
    "import os\n",
    "import pandas as pd\n",
    "\n",
    "working_dir = Path(os.getcwd()).parent\n",
    "print(working_dir)\n",
    "\n",
    "set_random_seed(0)\n",
    "\n",
    "PATH = os.path.join(working_dir, '4_kge/results/RotatE/trained_model.pkl')\n",
    "TRIPLES_PATH = os.path.join(working_dir, '4_kge/triples')\n",
    "\n",
    "\n",
    "ENTITY_TO_ID_FILE_PATH = os.path.join(working_dir, '4_kge/triples/entity_to_id.tsv')\n",
    "\n",
    "tf = TriplesFactory.from_path_binary(TRIPLES_PATH)\n",
    "\n",
    "def predict_tail(head_node_id, relationship, count=5):\n",
    "    head_node_id = int(head_node_id)\n",
    "    pykeen_id = head_node_id\n",
    "    pred = None\n",
    "    if pykeen_id is not None:\n",
    "        model = torch.load(PATH)\n",
    "        pred = predict.predict_target(\n",
    "            model,\n",
    "            head=pykeen_id,\n",
    "            relation=relationship,\n",
    "            triples_factory= tf\n",
    "        )\n",
    "        pred = pred.df['tail_label'].head(count).to_list()\n",
    "    return pred\n",
    "\n",
    "## \n",
    "\n",
    "predict_tail(751,'IS_NEARBY')\n"
   ]
  },
  {
   "cell_type": "code",
   "execution_count": 70,
   "metadata": {},
   "outputs": [
    {
     "data": {
      "text/plain": [
       "[<Record n=<Node element_id='4:01c73c9a-aa6d-420a-96a7-3c39c7f51efc:953' labels=frozenset({'Road'}) properties={'latitude': 48.17999243229613, 'name': 'Gaudenzdorfer Gürtel-706', 'length': '706', 'longitude': 16.349012335247938}>>,\n",
       " <Record n=<Node element_id='4:01c73c9a-aa6d-420a-96a7-3c39c7f51efc:1188' labels=frozenset({'Road'}) properties={'latitude': 48.18176523403963, 'length': '319', 'name': 'Siebenbrunnengasse - Margaretengürtel-319', 'longitude': 16.34730918245623}>>,\n",
       " <Record n=<Node element_id='4:01c73c9a-aa6d-420a-96a7-3c39c7f51efc:889' labels=frozenset({'Road'}) properties={'latitude': 48.2124322405085, 'name': 'Marienbrücke-270', 'length': '270', 'longitude': 16.37621635759327}>>,\n",
       " <Record n=<Node element_id='4:01c73c9a-aa6d-420a-96a7-3c39c7f51efc:1205' labels=frozenset({'Road'}) properties={'latitude': 48.181312675508586, 'name': 'Äußerer Gürtel-598', 'length': '598', 'longitude': 16.34725094868386}>>,\n",
       " <Record n=<Node element_id='4:01c73c9a-aa6d-420a-96a7-3c39c7f51efc:1246' labels=frozenset({'Road'}) properties={'latitude': 48.21232555951509, 'name': 'Aspernbrückengasse-92', 'length': '92', 'longitude': 16.383118593625518}>>]"
      ]
     },
     "execution_count": 70,
     "metadata": {},
     "output_type": "execute_result"
    }
   ],
   "source": [
    "# Subsequently the nodes with the IDs = [976, 878, 835, 1180, 1051] have to be fetched from the Neo4J database\n",
    "\n",
    "query = \"\"\"\n",
    "MATCH (n) WHERE ID(n) IN [953, 1188, 889, 1205, 1246] RETURN n\"\"\"\n",
    "\n",
    "result = driver.execute_query(\n",
    "    query\n",
    ")\n",
    "\n",
    "result[0]"
   ]
  },
  {
   "cell_type": "markdown",
   "metadata": {},
   "source": [
    "The query yields the results: 'Gaudenzdorfer Gürtel-706', 'Siebenbrunnengasse - Margaretengürtel-319', 'Marienbrücke-270', 'Äußerer Gürtel-598', 'Aspernbrückengasse-92' using the model RotatE."
   ]
  },
  {
   "cell_type": "markdown",
   "metadata": {},
   "source": [
    "## LO 9 / LO 11 \n",
    "Scenario 2:\n",
    "\n",
    "In this scenario, a similar scenario is applied that was presented by the paper from Tan et. al. to demonstrate how KGEs can forecast traffic outcomes given a specific time:\n",
    "\n",
    "Since there are no entities which categorizes the time component as two entities (Before_7:15) and (After_7:15) in the KG the entities (7:20) and (9:00) were chosen as replacements.\n"
   ]
  },
  {
   "cell_type": "code",
   "execution_count": 73,
   "metadata": {},
   "outputs": [
    {
     "data": {
      "text/plain": [
       "[<Record ID(n)=802>]"
      ]
     },
     "execution_count": 73,
     "metadata": {},
     "output_type": "execute_result"
    }
   ],
   "source": [
    "# First we need to find out the Node ID of the time entity '7:20'\n",
    "query = \"\"\"MATCH (n:Time {name: '7:20'}) RETURN ID(n)\"\"\"\n",
    "\n",
    "result = driver.execute_query(\n",
    "    query\n",
    ")\n",
    "\n",
    "result[0]"
   ]
  },
  {
   "cell_type": "code",
   "execution_count": 75,
   "metadata": {},
   "outputs": [
    {
     "data": {
      "text/plain": [
       "[<Record ID(n)=807>]"
      ]
     },
     "execution_count": 75,
     "metadata": {},
     "output_type": "execute_result"
    }
   ],
   "source": [
    "# Then we need to find out the Node ID of the time entity '9:00'\n",
    "query = \"\"\"MATCH (n:Time {name: '9:0'}) RETURN ID(n)\"\"\"\n",
    "\n",
    "result = driver.execute_query(\n",
    "    query\n",
    ")\n",
    "result[0]"
   ]
  },
  {
   "cell_type": "code",
   "execution_count": 90,
   "metadata": {},
   "outputs": [
    {
     "name": "stdout",
     "output_type": "stream",
     "text": [
      "[2564, 1315, 1016, 1091, 1163]\n",
      "[1233, 1016, 1080, 1025, 857]\n"
     ]
    }
   ],
   "source": [
    "# Predictions for time entity '7:20'\n",
    "print(predict_tail(802,'HAS_TRAFFIC_SITUATION'))\n",
    "\n",
    "# Predictions for time entity '9:00'\n",
    "print(predict_tail(807,'HAS_TRAFFIC_SITUATION'))"
   ]
  },
  {
   "cell_type": "code",
   "execution_count": 81,
   "metadata": {},
   "outputs": [
    {
     "data": {
      "text/plain": [
       "[<Record n=<Node element_id='4:01c73c9a-aa6d-420a-96a7-3c39c7f51efc:2564' labels=frozenset({'Road'}) properties={'latitude': 48.20577998645604, 'name': 'Rotundenbrücke-29', 'length': '29', 'longitude': 16.396400034427643}>>,\n",
       " <Record n=<Node element_id='4:01c73c9a-aa6d-420a-96a7-3c39c7f51efc:1315' labels=frozenset({'Road'}) properties={'latitude': 48.20579990606989, 'name': 'Rotundenbrücke-1493', 'length': '1493', 'longitude': 16.39806129962679}>>,\n",
       " <Record n=<Node element_id='4:01c73c9a-aa6d-420a-96a7-3c39c7f51efc:1016' labels=frozenset({'Road'}) properties={'latitude': 48.1809655437246, 'name': 'Gürtel-38', 'length': '38', 'longitude': 16.359032783657312}>>,\n",
       " <Record n=<Node element_id='4:01c73c9a-aa6d-420a-96a7-3c39c7f51efc:1091' labels=frozenset({'Road'}) properties={'latitude': 48.23382147814147, 'name': 'Gürtelbrücke-363', 'length': '363', 'longitude': 16.356311397585085}>>,\n",
       " <Record n=<Node element_id='4:01c73c9a-aa6d-420a-96a7-3c39c7f51efc:1163' labels=frozenset({'Road'}) properties={'latitude': 48.22566126356833, 'length': '105', 'name': 'Währinger Gürtel - Sechsschimmelgasse-105', 'longitude': 16.34993500658311}>>]"
      ]
     },
     "execution_count": 81,
     "metadata": {},
     "output_type": "execute_result"
    }
   ],
   "source": [
    "# Predictions for time entity '7:20'\n",
    "query = \"\"\"\n",
    "MATCH (n) WHERE ID(n) IN [2564, 1315, 1016, 1091, 1163] RETURN n\"\"\"\n",
    "\n",
    "result = driver.execute_query(\n",
    "    query\n",
    ")\n",
    "\n",
    "result[0]"
   ]
  },
  {
   "cell_type": "code",
   "execution_count": 89,
   "metadata": {},
   "outputs": [
    {
     "data": {
      "text/plain": [
       "[<Record n=<Node element_id='4:01c73c9a-aa6d-420a-96a7-3c39c7f51efc:1233' labels=frozenset({'Road'}) properties={'latitude': 48.18252444267273, 'name': 'Landgutgasse-274', 'length': '274', 'longitude': 16.363552240654826}>>,\n",
       " <Record n=<Node element_id='4:01c73c9a-aa6d-420a-96a7-3c39c7f51efc:1016' labels=frozenset({'Road'}) properties={'latitude': 48.1809655437246, 'name': 'Gürtel-38', 'length': '38', 'longitude': 16.359032783657312}>>,\n",
       " <Record n=<Node element_id='4:01c73c9a-aa6d-420a-96a7-3c39c7f51efc:1080' labels=frozenset({'Road'}) properties={'latitude': 48.180151964115794, 'name': 'Matzleinsdorfer Platz-74', 'length': '74', 'longitude': 16.35941115411697}>>,\n",
       " <Record n=<Node element_id='4:01c73c9a-aa6d-420a-96a7-3c39c7f51efc:1025' labels=frozenset({'Road'}) properties={'latitude': 48.22606667255362, 'name': 'Äußerer Gürtel-56', 'length': '56', 'longitude': 16.34950779688855}>>,\n",
       " <Record n=<Node element_id='4:01c73c9a-aa6d-420a-96a7-3c39c7f51efc:857' labels=frozenset({'Road'}) properties={'latitude': 48.19126041570966, 'name': 'Stumpergasse-758', 'length': '758', 'longitude': 16.34743534981798}>>,\n",
       " <Record n=<Node element_id='4:01c73c9a-aa6d-420a-96a7-3c39c7f51efc:1079' labels=frozenset({'Road'}) properties={'latitude': 48.18113208556279, 'name': 'Matzleinsdorfer Platz-881', 'length': '881', 'longitude': 16.35979049711756}>>,\n",
       " <Record n=<Node element_id='4:01c73c9a-aa6d-420a-96a7-3c39c7f51efc:1260' labels=frozenset({'Road'}) properties={'latitude': 48.22593314772738, 'name': 'Innerer Gürtel-344', 'length': '344', 'longitude': 16.350833608968447}>>,\n",
       " <Record n=<Node element_id='4:01c73c9a-aa6d-420a-96a7-3c39c7f51efc:921' labels=frozenset({'Road'}) properties={'latitude': 48.1983016862715, 'name': 'Stollgasse-337', 'length': '337', 'longitude': 16.33820841949071}>>,\n",
       " <Record n=<Node element_id='4:01c73c9a-aa6d-420a-96a7-3c39c7f51efc:2559' labels=frozenset({'Road'}) properties={'latitude': 48.18110872933176, 'name': 'Siebenbrunnengasse-148', 'length': '148', 'longitude': 16.348837511613965}>>,\n",
       " <Record n=<Node element_id='4:01c73c9a-aa6d-420a-96a7-3c39c7f51efc:844' labels=frozenset({'Road'}) properties={'latitude': 48.18876335965211, 'name': 'Rennweg-369', 'length': '369', 'longitude': 16.399750927937458}>>]"
      ]
     },
     "execution_count": 89,
     "metadata": {},
     "output_type": "execute_result"
    }
   ],
   "source": [
    "query = \"\"\"\n",
    "MATCH (n) WHERE ID(n) IN [1233, 1016, 1080, 1025, 857] RETURN n\"\"\"\n",
    "\n",
    "result = driver.execute_query(\n",
    "    query\n",
    ")\n",
    "\n",
    "result[0]"
   ]
  },
  {
   "cell_type": "markdown",
   "metadata": {},
   "source": []
  }
 ],
 "metadata": {
  "kernelspec": {
   "display_name": "ss22-knowledge-graph-phk8xMS3-py3.9",
   "language": "python",
   "name": "python3"
  },
  "language_info": {
   "codemirror_mode": {
    "name": "ipython",
    "version": 3
   },
   "file_extension": ".py",
   "mimetype": "text/x-python",
   "name": "python",
   "nbconvert_exporter": "python",
   "pygments_lexer": "ipython3",
   "version": "3.9.16"
  },
  "orig_nbformat": 4
 },
 "nbformat": 4,
 "nbformat_minor": 2
}
