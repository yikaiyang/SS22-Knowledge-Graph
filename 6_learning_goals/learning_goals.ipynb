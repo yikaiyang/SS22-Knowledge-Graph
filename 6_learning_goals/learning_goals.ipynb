{
 "cells": [
  {
   "cell_type": "code",
   "execution_count": 1,
   "metadata": {},
   "outputs": [],
   "source": [
    "from neo4j import GraphDatabase\n",
    "\n",
    "\n",
    "driver = None\n",
    "\n",
    "def init(uri, user, password):\n",
    "    return GraphDatabase.driver(uri, auth=(user, password))\n",
    "\n",
    "driver = init(\n",
    "    \"bolt://localhost:7687\", \n",
    "    \"neo4j\", \n",
    "    \"kgtransport\"\n",
    ")"
   ]
  },
  {
   "cell_type": "markdown",
   "metadata": {},
   "source": [
    "(LO2) Logical Representation\n",
    "\n",
    "A set of CYPHER queries was written to showcase how locical queries can be applied to the KG."
   ]
  },
  {
   "cell_type": "markdown",
   "metadata": {},
   "source": [
    "For example the query: Find all street segments where the average traffic speed exceeds 15km/h on 11-5-2922 at 18:20:\n",
    "\n",
    "In pseudo First Order Logic:\n",
    "\n",
    "S(x) represents a street segment x.\n",
    "AT(x, t) represents the average traffic speed on street segment x at time t.\n",
    "T(t) represents the timestamp: 11-5-2922 18:20.\n",
    "\n",
    "∀x (S(x) → (A(x, T(11-5-2922, 18:20)) > 15km/h))\n"
   ]
  },
  {
   "cell_type": "code",
   "execution_count": 6,
   "metadata": {},
   "outputs": [
    {
     "name": "stdout",
     "output_type": "stream",
     "text": [
      "EagerResult(records=[<Record q=<Path start=<Node element_id='4:01c73c9a-aa6d-420a-96a7-3c39c7f51efc:826' labels=frozenset({'Road'}) properties={'latitude': 48.216403322294354, 'name': 'Innerer Gürtel-41', 'length': '41', 'longitude': 16.341783329844475}> end=<Node element_id='4:01c73c9a-aa6d-420a-96a7-3c39c7f51efc:779' labels=frozenset({'Date'}) properties={'month': 5, 'year': 2022, 'name': '11-5-2022', 'day': 11}> size=1>>, <Record q=<Path start=<Node element_id='4:01c73c9a-aa6d-420a-96a7-3c39c7f51efc:2570' labels=frozenset({'Road'}) properties={'latitude': 48.19758671986405, 'length': '478', 'name': 'Stadionbrücke - Erdberger Lände-478', 'longitude': 16.410578302545474}> end=<Node element_id='4:01c73c9a-aa6d-420a-96a7-3c39c7f51efc:779' labels=frozenset({'Date'}) properties={'month': 5, 'year': 2022, 'name': '11-5-2022', 'day': 11}> size=1>>, <Record q=<Path start=<Node element_id='4:01c73c9a-aa6d-420a-96a7-3c39c7f51efc:2569' labels=frozenset({'Road'}) properties={'latitude': 48.17802399683387, 'name': 'Quellenstraße-295', 'length': '295', 'longitude': 16.35751663062365}> end=<Node element_id='4:01c73c9a-aa6d-420a-96a7-3c39c7f51efc:779' labels=frozenset({'Date'}) properties={'month': 5, 'year': 2022, 'name': '11-5-2022', 'day': 11}> size=1>>, <Record q=<Path start=<Node element_id='4:01c73c9a-aa6d-420a-96a7-3c39c7f51efc:2568' labels=frozenset({'Road'}) properties={'latitude': 48.17552722008042, 'name': 'Quellenstraße-1511', 'length': '1511', 'longitude': 16.376334088929237}> end=<Node element_id='4:01c73c9a-aa6d-420a-96a7-3c39c7f51efc:779' labels=frozenset({'Date'}) properties={'month': 5, 'year': 2022, 'name': '11-5-2022', 'day': 11}> size=1>>, <Record q=<Path start=<Node element_id='4:01c73c9a-aa6d-420a-96a7-3c39c7f51efc:2566' labels=frozenset({'Road'}) properties={'latitude': 48.23180999199394, 'name': 'Innerer Gürtel-58', 'length': '58', 'longitude': 16.354007802146953}> end=<Node element_id='4:01c73c9a-aa6d-420a-96a7-3c39c7f51efc:779' labels=frozenset({'Date'}) properties={'month': 5, 'year': 2022, 'name': '11-5-2022', 'day': 11}> size=1>>, <Record q=<Path start=<Node element_id='4:01c73c9a-aa6d-420a-96a7-3c39c7f51efc:2567' labels=frozenset({'Road'}) properties={'latitude': 48.22455298528075, 'name': 'Innerer Gürtel-58', 'length': '58', 'longitude': 16.34942400176078}> end=<Node element_id='4:01c73c9a-aa6d-420a-96a7-3c39c7f51efc:779' labels=frozenset({'Date'}) properties={'month': 5, 'year': 2022, 'name': '11-5-2022', 'day': 11}> size=1>>, <Record q=<Path start=<Node element_id='4:01c73c9a-aa6d-420a-96a7-3c39c7f51efc:2565' labels=frozenset({'Road'}) properties={'latitude': 48.18052001763135, 'name': 'Matzleinsdorfer Platz-21', 'length': '21', 'longitude': 16.35894164443016}> end=<Node element_id='4:01c73c9a-aa6d-420a-96a7-3c39c7f51efc:779' labels=frozenset({'Date'}) properties={'month': 5, 'year': 2022, 'name': '11-5-2022', 'day': 11}> size=1>>, <Record q=<Path start=<Node element_id='4:01c73c9a-aa6d-420a-96a7-3c39c7f51efc:2564' labels=frozenset({'Road'}) properties={'latitude': 48.20577998645604, 'name': 'Rotundenbrücke-29', 'length': '29', 'longitude': 16.396400034427643}> end=<Node element_id='4:01c73c9a-aa6d-420a-96a7-3c39c7f51efc:779' labels=frozenset({'Date'}) properties={'month': 5, 'year': 2022, 'name': '11-5-2022', 'day': 11}> size=1>>, <Record q=<Path start=<Node element_id='4:01c73c9a-aa6d-420a-96a7-3c39c7f51efc:2563' labels=frozenset({'Road'}) properties={'latitude': 48.18548002280295, 'name': 'Äußerer Gürtel-13', 'length': '13', 'longitude': 16.343935020267963}> end=<Node element_id='4:01c73c9a-aa6d-420a-96a7-3c39c7f51efc:779' labels=frozenset({'Date'}) properties={'month': 5, 'year': 2022, 'name': '11-5-2022', 'day': 11}> size=1>>, <Record q=<Path start=<Node element_id='4:01c73c9a-aa6d-420a-96a7-3c39c7f51efc:2562' labels=frozenset({'Road'}) properties={'latitude': 48.18311624523873, 'length': '570', 'name': 'Landgutgasse - Margaretengürtel-570', 'longitude': 16.364921098057597}> end=<Node element_id='4:01c73c9a-aa6d-420a-96a7-3c39c7f51efc:779' labels=frozenset({'Date'}) properties={'month': 5, 'year': 2022, 'name': '11-5-2022', 'day': 11}> size=1>>, <Record q=<Path start=<Node element_id='4:01c73c9a-aa6d-420a-96a7-3c39c7f51efc:2561' labels=frozenset({'Road'}) properties={'latitude': 48.211171898254086, 'name': 'Obere Weißgerberstraße-351', 'length': '351', 'longitude': 16.385155500568864}> end=<Node element_id='4:01c73c9a-aa6d-420a-96a7-3c39c7f51efc:779' labels=frozenset({'Date'}) properties={'month': 5, 'year': 2022, 'name': '11-5-2022', 'day': 11}> size=1>>, <Record q=<Path start=<Node element_id='4:01c73c9a-aa6d-420a-96a7-3c39c7f51efc:2560' labels=frozenset({'Road'}) properties={'latitude': 48.20625000167638, 'name': 'Gürtel-43', 'length': '43', 'longitude': 16.336320019327104}> end=<Node element_id='4:01c73c9a-aa6d-420a-96a7-3c39c7f51efc:779' labels=frozenset({'Date'}) properties={'month': 5, 'year': 2022, 'name': '11-5-2022', 'day': 11}> size=1>>, <Record q=<Path start=<Node element_id='4:01c73c9a-aa6d-420a-96a7-3c39c7f51efc:2559' labels=frozenset({'Road'}) properties={'latitude': 48.18110872933176, 'name': 'Siebenbrunnengasse-148', 'length': '148', 'longitude': 16.348837511613965}> end=<Node element_id='4:01c73c9a-aa6d-420a-96a7-3c39c7f51efc:779' labels=frozenset({'Date'}) properties={'month': 5, 'year': 2022, 'name': '11-5-2022', 'day': 11}> size=1>>, <Record q=<Path start=<Node element_id='4:01c73c9a-aa6d-420a-96a7-3c39c7f51efc:2558' labels=frozenset({'Road'}) properties={'latitude': 48.1964385691875, 'name': 'Erdberger Lände-87', 'length': '87', 'longitude': 16.4102733897097}> end=<Node element_id='4:01c73c9a-aa6d-420a-96a7-3c39c7f51efc:779' labels=frozenset({'Date'}) properties={'month': 5, 'year': 2022, 'name': '11-5-2022', 'day': 11}> size=1>>, <Record q=<Path start=<Node element_id='4:01c73c9a-aa6d-420a-96a7-3c39c7f51efc:2557' labels=frozenset({'Road'}) properties={'latitude': 48.207211515653206, 'name': 'Hintere Zollamtsstraße-703', 'length': '703', 'longitude': 16.387294801561428}> end=<Node element_id='4:01c73c9a-aa6d-420a-96a7-3c39c7f51efc:779' labels=frozenset({'Date'}) properties={'month': 5, 'year': 2022, 'name': '11-5-2022', 'day': 11}> size=1>>, <Record q=<Path start=<Node element_id='4:01c73c9a-aa6d-420a-96a7-3c39c7f51efc:2556' labels=frozenset({'Road'}) properties={'latitude': 48.21259434257323, 'name': 'Untere Donaustraße-139', 'length': '139', 'longitude': 16.383148099218186}> end=<Node element_id='4:01c73c9a-aa6d-420a-96a7-3c39c7f51efc:779' labels=frozenset({'Date'}) properties={'month': 5, 'year': 2022, 'name': '11-5-2022', 'day': 11}> size=1>>, <Record q=<Path start=<Node element_id='4:01c73c9a-aa6d-420a-96a7-3c39c7f51efc:2555' labels=frozenset({'Road'}) properties={'latitude': 48.1956953912886, 'name': 'Mariahilfer Straße-625', 'length': '625', 'longitude': 16.339953558725295}> end=<Node element_id='4:01c73c9a-aa6d-420a-96a7-3c39c7f51efc:779' labels=frozenset({'Date'}) properties={'month': 5, 'year': 2022, 'name': '11-5-2022', 'day': 11}> size=1>>, <Record q=<Path start=<Node element_id='4:01c73c9a-aa6d-420a-96a7-3c39c7f51efc:2554' labels=frozenset({'Road'}) properties={'latitude': 48.22618211711278, 'name': 'Gürtel-537', 'length': '537', 'longitude': 16.34862289989762}> end=<Node element_id='4:01c73c9a-aa6d-420a-96a7-3c39c7f51efc:779' labels=frozenset({'Date'}) properties={'month': 5, 'year': 2022, 'name': '11-5-2022', 'day': 11}> size=1>>, <Record q=<Path start=<Node element_id='4:01c73c9a-aa6d-420a-96a7-3c39c7f51efc:2553' labels=frozenset({'Road'}) properties={'latitude': 48.21537165902555, 'name': 'Alser Straße-162', 'length': '162', 'longitude': 16.340585560537875}> end=<Node element_id='4:01c73c9a-aa6d-420a-96a7-3c39c7f51efc:779' labels=frozenset({'Date'}) properties={'month': 5, 'year': 2022, 'name': '11-5-2022', 'day': 11}> size=1>>, <Record q=<Path start=<Node element_id='4:01c73c9a-aa6d-420a-96a7-3c39c7f51efc:2552' labels=frozenset({'Road'}) properties={'latitude': 48.188386507861225, 'name': 'Fasangasse-288', 'length': '288', 'longitude': 16.384355001979404}> end=<Node element_id='4:01c73c9a-aa6d-420a-96a7-3c39c7f51efc:779' labels=frozenset({'Date'}) properties={'month': 5, 'year': 2022, 'name': '11-5-2022', 'day': 11}> size=1>>, <Record q=<Path start=<Node element_id='4:01c73c9a-aa6d-420a-96a7-3c39c7f51efc:2551' labels=frozenset({'Road'}) properties={'latitude': 48.21105518427183, 'name': 'Neulerchenfelder Straße-517', 'length': '517', 'longitude': 16.338723817775065}> end=<Node element_id='4:01c73c9a-aa6d-420a-96a7-3c39c7f51efc:779' labels=frozenset({'Date'}) properties={'month': 5, 'year': 2022, 'name': '11-5-2022', 'day': 11}> size=1>>, <Record q=<Path start=<Node element_id='4:01c73c9a-aa6d-420a-96a7-3c39c7f51efc:2550' labels=frozenset({'Road'}) properties={'latitude': 48.21064548655635, 'name': 'Josefstädter Straße-289', 'length': '289', 'longitude': 16.339455354249193}> end=<Node element_id='4:01c73c9a-aa6d-420a-96a7-3c39c7f51efc:779' labels=frozenset({'Date'}) properties={'month': 5, 'year': 2022, 'name': '11-5-2022', 'day': 11}> size=1>>, <Record q=<Path start=<Node element_id='4:01c73c9a-aa6d-420a-96a7-3c39c7f51efc:2549' labels=frozenset({'Road'}) properties={'latitude': 48.22286006139108, 'name': 'Kreuzgasse-484', 'length': '484', 'longitude': 16.341738086124813}> end=<Node element_id='4:01c73c9a-aa6d-420a-96a7-3c39c7f51efc:779' labels=frozenset({'Date'}) properties={'month': 5, 'year': 2022, 'name': '11-5-2022', 'day': 11}> size=1>>, <Record q=<Path start=<Node element_id='4:01c73c9a-aa6d-420a-96a7-3c39c7f51efc:2548' labels=frozenset({'Road'}) properties={'latitude': 48.21271655427717, 'name': 'Schwedenbrücke-742', 'length': '742', 'longitude': 16.379227685985782}> end=<Node element_id='4:01c73c9a-aa6d-420a-96a7-3c39c7f51efc:779' labels=frozenset({'Date'}) properties={'month': 5, 'year': 2022, 'name': '11-5-2022', 'day': 11}> size=1>>, <Record q=<Path start=<Node element_id='4:01c73c9a-aa6d-420a-96a7-3c39c7f51efc:2547' labels=frozenset({'Road'}) properties={'latitude': 48.19714499171823, 'name': 'Stadionbrücke-51', 'length': '51', 'longitude': 16.41161499079317}> end=<Node element_id='4:01c73c9a-aa6d-420a-96a7-3c39c7f51efc:779' labels=frozenset({'Date'}) properties={'month': 5, 'year': 2022, 'name': '11-5-2022', 'day': 11}> size=1>>], summary=<neo4j._work.summary.ResultSummary object at 0x146587af0>, keys=['q'])\n"
     ]
    }
   ],
   "source": [
    "query = \"MATCH q=(r:Road)-[:ROAD_DATE]->(d:Date{name:'11-5-2022'}), (d)-[:DATE_TIME]->(t:Time{name:'18:20'}), (t)-[:HAS_TRAFFIC_SITUATION]->(tr:TrafficSituation WHERE (tr.speed > 15 AND tr.speed < 17)) RETURN q LIMIT 25\"\n",
    "\n",
    "result = driver.execute_query(\n",
    "    query\n",
    ")\n",
    "print(result)"
   ]
  },
  {
   "cell_type": "markdown",
   "metadata": {},
   "source": [
    "Find all street segments where the average traffic speed is between 15-17km/h\n",
    "\n",
    "MATCH q=(r:Road)-[:ROAD_DATE]->(d:Date), (d)-[:DATE_TIME]->(t:Time), (t)-[:HAS_TRAFFIC_SITUATION]->(tr:TrafficSituation WHERE (tr.speed > 15 AND tr.speed < 17)) RETURN q LIMIT 25\n"
   ]
  },
  {
   "cell_type": "code",
   "execution_count": null,
   "metadata": {},
   "outputs": [],
   "source": [
    "result[0]"
   ]
  },
  {
   "cell_type": "markdown",
   "metadata": {},
   "source": [
    "Find all streets which are located nearby a school."
   ]
  },
  {
   "cell_type": "code",
   "execution_count": null,
   "metadata": {},
   "outputs": [],
   "source": []
  },
  {
   "cell_type": "markdown",
   "metadata": {},
   "source": [
    "MATCH q=(r:Road)-[:ROAD_DATE]->(d:Date), (d)-[:DATE_TIME]->(t:Time), (t)-[:HAS_TRAFFIC_SITUATION]->(tr:TrafficSituation WHERE tr.speed > 15) RETURN q LIMIT 25"
   ]
  },
  {
   "cell_type": "markdown",
   "metadata": {},
   "source": [
    "Recursive Query:"
   ]
  },
  {
   "cell_type": "code",
   "execution_count": null,
   "metadata": {},
   "outputs": [],
   "source": []
  }
 ],
 "metadata": {
  "kernelspec": {
   "display_name": "ss22-knowledge-graph-phk8xMS3-py3.9",
   "language": "python",
   "name": "python3"
  },
  "language_info": {
   "codemirror_mode": {
    "name": "ipython",
    "version": 3
   },
   "file_extension": ".py",
   "mimetype": "text/x-python",
   "name": "python",
   "nbconvert_exporter": "python",
   "pygments_lexer": "ipython3",
   "version": "3.9.16"
  },
  "orig_nbformat": 4
 },
 "nbformat": 4,
 "nbformat_minor": 2
}
