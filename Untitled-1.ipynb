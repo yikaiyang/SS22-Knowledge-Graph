{
 "cells": [
  {
   "cell_type": "code",
   "execution_count": null,
   "metadata": {},
   "outputs": [],
   "source": [
    "#https://analyticsindiamag.com/complete-guide-to-pykeen-python-knowledge-embeddings-for-knowledge-graphs/\n",
    "! pip install pykeen\n",
    "from pykeen.datasets import OpenBioLink\n",
    "from pykeen.models import TransE\n",
    "from torch.optim import Adam\n",
    "from pykeen.training import SLCWATrainingLoop\n",
    "# Pick an evaluator \n",
    "from pykeen.evaluation import RankBasedEvaluator\n"
   ]
  },
  {
   "cell_type": "markdown",
   "metadata": {},
   "source": []
  },
  {
   "cell_type": "code",
   "execution_count": null,
   "metadata": {},
   "outputs": [],
   "source": [
    "dataset = OpenBioLink()\n",
    "training_triples_factory = dataset.training\n",
    "\n",
    "# Pick a model\n",
    "model = TransE(triples_factory=training_triples_factory)\n",
    "# Pick an optimizer from Torch\n",
    "optimizer = Adam(params=model.get_grad_params())\n",
    "\n",
    "# Pick a training approach (sLCWA or LCWA)\n",
    "training_loop = SLCWATrainingLoop(\n",
    "    model=model, \n",
    "    triples_factory = training_triples_factory,\n",
    "    optimizer=optimizer\n",
    ")\n",
    "training_loop.train(\n",
    "    triples_factory=training_triples_factory,\n",
    "    num_epochs=1, \n",
    "    batch_size=256)\n",
    "\n",
    "evaluator = RankBasedEvaluator()\n",
    "# Get triples to test\n",
    "mapped_triples = dataset.testing.mapped_triples\n",
    "# Evaluate\n",
    "results = evaluator.evaluate(model, mapped_triples, batch_size=1024)\n",
    "print(results)"
   ]
  },
  {
   "cell_type": "markdown",
   "metadata": {},
   "source": []
  }
 ],
 "metadata": {
  "interpreter": {
   "hash": "aaaeec61e4847bfe8beb7e8bab940983d838d1347f377d95a2336623c1b8a09c"
  },
  "kernelspec": {
   "display_name": "Python 3.9.12 ('kg-transportation')",
   "language": "python",
   "name": "python3"
  },
  "language_info": {
   "codemirror_mode": {
    "name": "ipython",
    "version": 3
   },
   "file_extension": ".py",
   "mimetype": "text/x-python",
   "name": "python",
   "nbconvert_exporter": "python",
   "pygments_lexer": "ipython3",
   "version": "3.9.12"
  },
  "orig_nbformat": 4
 },
 "nbformat": 4,
 "nbformat_minor": 2
}
