{
 "cells": [
  {
   "cell_type": "code",
   "execution_count": 11,
   "metadata": {},
   "outputs": [
    {
     "name": "stdout",
     "output_type": "stream",
     "text": [
      "The autoreload extension is already loaded. To reload it, use:\n",
      "  %reload_ext autoreload\n"
     ]
    }
   ],
   "source": [
    "%load_ext autoreload"
   ]
  },
  {
   "attachments": {},
   "cell_type": "markdown",
   "metadata": {},
   "source": [
    "<b>Triplet extraction</b>\n",
    "Before training it is necessary to extract the data from the database system (Neo4J). For that the script '\n",
    "\n",
    "*Important: Make sure that the database system is running and also already populated using the data from the previous step (3_data_integration).*"
   ]
  },
  {
   "cell_type": "code",
   "execution_count": 12,
   "metadata": {},
   "outputs": [
    {
     "name": "stderr",
     "output_type": "stream",
     "text": [
      "INFO:pykeen.triples.triples_factory:Stored TriplesFactory(num_entities=1901, num_relations=9, create_inverse_triples=False, num_triples=13006) to file:///Users/yikaiyang/Projects/SS22-Knowledge-Graph/4_kge/triples\n"
     ]
    }
   ],
   "source": [
    "from pykeen_triples_extractor import extract_triples_from_db\n",
    "extract_triples_from_db()"
   ]
  },
  {
   "attachments": {},
   "cell_type": "markdown",
   "metadata": {},
   "source": [
    "<b>Training:</b>\n",
    "For training the library PyKEEN is used which implements multiple KGE-models. In my case the models 'TransD', 'TransE', 'TransH', 'RotatE' are used.\n",
    "\n",
    "*Important: Please make sure that all dependencies specified in the requirements.txt are installed prior, and the running jupyter notebook kernel has those installed.*"
   ]
  },
  {
   "cell_type": "markdown",
   "metadata": {},
   "source": [
    "Train with EPOCHS set to 50."
   ]
  },
  {
   "attachments": {},
   "cell_type": "markdown",
   "metadata": {},
   "source": []
  },
  {
   "cell_type": "code",
   "execution_count": 5,
   "metadata": {},
   "outputs": [
    {
     "name": "stderr",
     "output_type": "stream",
     "text": [
      "INFO:pykeen.triples.splitting:done splitting triples to groups of sizes [8505, 2602]\n",
      "WARNING:pykeen.utils:No cuda devices were available. The model runs on CPU\n",
      "INFO:pykeen.pipeline.api:Using device: None\n"
     ]
    },
    {
     "name": "stdout",
     "output_type": "stream",
     "text": [
      "TriplesFactory(num_entities=1901, num_relations=9, create_inverse_triples=False, num_triples=10404)\n"
     ]
    },
    {
     "name": "stderr",
     "output_type": "stream",
     "text": [
      "Training epochs on cpu: 100%|██████████| 50/50 [00:06<00:00,  7.20epoch/s, loss=0.0773, prev_loss=0.0793]\n",
      "INFO:pykeen.evaluation.evaluator:Currently automatic memory optimization only supports GPUs, but you're using a CPU. Therefore, the batch_size will be set to the default value.\n",
      "INFO:pykeen.evaluation.evaluator:No evaluation batch_size provided. Setting batch_size to '32'.\n",
      "Evaluating on cpu: 100%|██████████| 2.60k/2.60k [00:01<00:00, 1.44ktriple/s]\n",
      "INFO:pykeen.evaluation.evaluator:Evaluation took 1.83s seconds\n",
      "INFO:pykeen.triples.triples_factory:Stored TriplesFactory(num_entities=1901, num_relations=9, create_inverse_triples=False, num_triples=10404) to file:///Users/yikaiyang/Projects/SS22-Knowledge-Graph/4_kge/results/TransE/training_triples\n",
      "INFO:pykeen.pipeline.api:Saved to directory: file:///Users/yikaiyang/Projects/SS22-Knowledge-Graph/4_kge/results/TransE\n",
      "INFO:pykeen.triples.splitting:done splitting triples to groups of sizes [8505, 2602]\n",
      "WARNING:pykeen.utils:No cuda devices were available. The model runs on CPU\n",
      "INFO:pykeen.pipeline.api:Using device: None\n"
     ]
    },
    {
     "name": "stdout",
     "output_type": "stream",
     "text": [
      "PipelineResult(random_seed=0, model=TransE(\n",
      "  (loss): MarginRankingLoss(\n",
      "    (margin_activation): ReLU()\n",
      "  )\n",
      "  (interaction): TransEInteraction()\n",
      "  (entity_representations): ModuleList(\n",
      "    (0): Embedding(\n",
      "      (_embeddings): Embedding(1901, 50)\n",
      "    )\n",
      "  )\n",
      "  (relation_representations): ModuleList(\n",
      "    (0): Embedding(\n",
      "      (_embeddings): Embedding(9, 50)\n",
      "    )\n",
      "  )\n",
      "  (weight_regularizers): ModuleList()\n",
      "), training=TriplesFactory(num_entities=1901, num_relations=9, create_inverse_triples=False, num_triples=10404), training_loop=<pykeen.training.slcwa.SLCWATrainingLoop object at 0x107b13970>, losses=[1.0786568566066463, 0.9232651940206202, 0.8187671245598211, 0.7244564919936948, 0.6704642903514024, 0.6115075945854187, 0.5599342562803408, 0.4996411342446397, 0.46094465183048716, 0.42520467464516803, 0.38052714888642475, 0.3496545938456931, 0.32538308530319027, 0.29277964118050365, 0.2663945512073796, 0.2402598567125274, 0.21765898313464188, 0.20477246547617564, 0.18374136653615208, 0.1818058447140019, 0.16439190216180755, 0.1570801556837268, 0.14705393935849026, 0.13754110238174114, 0.1349879239753979, 0.13327319701997245, 0.1260312225033597, 0.11667157854975724, 0.11402407015969114, 0.11135051599363001, 0.10435216256031175, 0.10735002532601357, 0.0989465758931346, 0.09546609004823173, 0.0967964290118799, 0.09434202476972486, 0.08964814827209566, 0.08973686169923806, 0.09052701648779032, 0.08638280843634431, 0.0847445443817755, 0.08458189893423057, 0.08428280637031649, 0.08455212795879782, 0.08094955662765153, 0.07394026056295488, 0.07676128829579527, 0.07513451903331571, 0.07928436603851435, 0.07732628840135365], metric_results=<pykeen.evaluation.rank_based_evaluator.RankBasedMetricResults object at 0x1610d5cd0>, train_seconds=7.140964984893799, evaluate_seconds=1.8322861194610596, stopper=<pykeen.stoppers.stopper.NopStopper object at 0x1610d5130>, configuration={'dataset': '<user defined>', 'training': '<user defined>', 'testing': '<user defined>', 'validation': '<user defined>', 'model': 'TransE', 'model_kwargs': {'random_seed': 0, 'loss': MarginRankingLoss(\n",
      "  (margin_activation): ReLU()\n",
      "), 'embedding_dim': 50, 'scoring_fct_norm': 1, 'entity_initializer': <function xavier_uniform_ at 0x15fcd2310>, 'entity_constrainer': <function normalize at 0x159a99820>, 'relation_initializer': <pykeen.utils.compose object at 0x15fccf370>, 'relation_constrainer': None, 'regularizer': None, 'regularizer_kwargs': None}, 'loss_kwargs': None, 'regularizer_kwargs': None, 'optimizer': 'Adam', 'optimizer_kwargs': {'lr': 0.001, 'betas': (0.9, 0.999), 'eps': 1e-08, 'weight_decay': 0, 'amsgrad': False, 'maximize': False, 'foreach': None, 'capturable': False, 'differentiable': False, 'fused': None}, 'training_loop': 'SLCWATrainingLoop', 'training_loop_kwargs': {}, 'evaluator': 'RankBasedEvaluator', 'evaluator_kwargs': {}, 'num_epochs': 50, 'batch_size': 256, 'evaluation_kwargs': {'additional_filter_triples': {'training': {'sha512': 'ae5f3c56c78ec2b46a7db702e4a673634bb05268559d4f66c6c5fc736618f347238a4e247f4e9cacd1128efafab0cac7698f79a3743c31f99b170e3bdf4365a9'}}}}, metadata={}, version='1.10.1', git_hash='UNHASHED')\n",
      "TriplesFactory(num_entities=1901, num_relations=9, create_inverse_triples=False, num_triples=10404)\n"
     ]
    },
    {
     "name": "stderr",
     "output_type": "stream",
     "text": [
      "Training epochs on cpu: 100%|██████████| 50/50 [00:10<00:00,  4.75epoch/s, loss=0.129, prev_loss=0.119]\n",
      "INFO:pykeen.evaluation.evaluator:Currently automatic memory optimization only supports GPUs, but you're using a CPU. Therefore, the batch_size will be set to the default value.\n",
      "INFO:pykeen.evaluation.evaluator:No evaluation batch_size provided. Setting batch_size to '32'.\n",
      "Evaluating on cpu: 100%|██████████| 2.60k/2.60k [00:01<00:00, 2.51ktriple/s]\n",
      "INFO:pykeen.evaluation.evaluator:Evaluation took 1.06s seconds\n",
      "INFO:pykeen.triples.triples_factory:Stored TriplesFactory(num_entities=1901, num_relations=9, create_inverse_triples=False, num_triples=10404) to file:///Users/yikaiyang/Projects/SS22-Knowledge-Graph/4_kge/results/TransH/training_triples\n",
      "INFO:pykeen.pipeline.api:Saved to directory: file:///Users/yikaiyang/Projects/SS22-Knowledge-Graph/4_kge/results/TransH\n",
      "INFO:pykeen.triples.splitting:done splitting triples to groups of sizes [8505, 2602]\n",
      "WARNING:pykeen.utils:No cuda devices were available. The model runs on CPU\n",
      "INFO:pykeen.pipeline.api:Using device: None\n"
     ]
    },
    {
     "name": "stdout",
     "output_type": "stream",
     "text": [
      "PipelineResult(random_seed=0, model=TransH(\n",
      "  (loss): MarginRankingLoss(\n",
      "    (margin_activation): ReLU()\n",
      "  )\n",
      "  (interaction): TransHInteraction()\n",
      "  (entity_representations): ModuleList(\n",
      "    (0): Embedding(\n",
      "      (_embeddings): Embedding(1901, 50)\n",
      "    )\n",
      "  )\n",
      "  (relation_representations): ModuleList(\n",
      "    (0-1): 2 x Embedding(\n",
      "      (_embeddings): Embedding(9, 50)\n",
      "    )\n",
      "  )\n",
      "  (weight_regularizers): ModuleList(\n",
      "    (0): NormLimitRegularizer()\n",
      "    (1): OrthogonalityRegularizer()\n",
      "  )\n",
      "), training=TriplesFactory(num_entities=1901, num_relations=9, create_inverse_triples=False, num_triples=10404), training_loop=<pykeen.training.slcwa.SLCWATrainingLoop object at 0x1611eff40>, losses=[0.9734620088484229, 0.9059476896030146, 0.8258919526891011, 0.7343478377272443, 0.6609812785939473, 0.5964538934754162, 0.522462314948803, 0.45863630495420316, 0.39010018182963857, 0.33947166146301644, 0.3021462683270617, 0.2683003682915757, 0.25445901402613014, 0.23576457216972257, 0.23306415975093842, 0.2287175153813711, 0.22650780001791512, 0.21578336997729977, 0.21605672741808543, 0.20424762004759253, 0.20259157331978403, 0.2037687105376546, 0.19301342491696521, 0.18961654240038336, 0.18670803490208415, 0.1821997401917853, 0.18601474747425173, 0.1638985919516261, 0.1711431011194136, 0.16919352041512, 0.1646543232406058, 0.16157114905555073, 0.15138397438497078, 0.15285134242802131, 0.14749954077528743, 0.1460530070996866, 0.14237670037077693, 0.14092929970200468, 0.13717775301235477, 0.13215619452842853, 0.132401201419714, 0.13203485982447136, 0.12886105550498497, 0.12775134749528838, 0.12403603988449748, 0.12484811355427998, 0.12427807363068186, 0.12514602011296808, 0.11936531724726282, 0.12876108870273684], metric_results=<pykeen.evaluation.rank_based_evaluator.RankBasedMetricResults object at 0x107ad0a30>, train_seconds=10.618300914764404, evaluate_seconds=1.0593311786651611, stopper=<pykeen.stoppers.stopper.NopStopper object at 0x1610dcc10>, configuration={'dataset': '<user defined>', 'training': '<user defined>', 'testing': '<user defined>', 'validation': '<user defined>', 'model': 'TransH', 'model_kwargs': {'random_seed': 0, 'loss': MarginRankingLoss(\n",
      "  (margin_activation): ReLU()\n",
      "), 'embedding_dim': 50, 'scoring_fct_norm': 2, 'entity_initializer': <function xavier_normal_ at 0x159a9e5e0>, 'entity_regularizer': None, 'entity_regularizer_kwargs': None, 'relation_initializer': <function xavier_normal_ at 0x159a9e5e0>, 'relation_regularizer': None, 'relation_regularizer_kwargs': None}, 'loss_kwargs': None, 'regularizer_kwargs': None, 'optimizer': 'Adam', 'optimizer_kwargs': {'lr': 0.001, 'betas': (0.9, 0.999), 'eps': 1e-08, 'weight_decay': 0, 'amsgrad': False, 'maximize': False, 'foreach': None, 'capturable': False, 'differentiable': False, 'fused': None}, 'training_loop': 'SLCWATrainingLoop', 'training_loop_kwargs': {}, 'evaluator': 'RankBasedEvaluator', 'evaluator_kwargs': {}, 'num_epochs': 50, 'batch_size': 256, 'evaluation_kwargs': {'additional_filter_triples': {'training': {'sha512': 'ae5f3c56c78ec2b46a7db702e4a673634bb05268559d4f66c6c5fc736618f347238a4e247f4e9cacd1128efafab0cac7698f79a3743c31f99b170e3bdf4365a9'}}}}, metadata={}, version='1.10.1', git_hash='UNHASHED')\n",
      "TriplesFactory(num_entities=1901, num_relations=9, create_inverse_triples=False, num_triples=10404)\n"
     ]
    },
    {
     "name": "stderr",
     "output_type": "stream",
     "text": [
      "Training epochs on cpu: 100%|██████████| 50/50 [00:10<00:00,  4.92epoch/s, loss=0.108, prev_loss=0.11] \n",
      "INFO:pykeen.evaluation.evaluator:Currently automatic memory optimization only supports GPUs, but you're using a CPU. Therefore, the batch_size will be set to the default value.\n",
      "INFO:pykeen.evaluation.evaluator:No evaluation batch_size provided. Setting batch_size to '32'.\n",
      "Evaluating on cpu: 100%|██████████| 2.60k/2.60k [00:01<00:00, 1.40ktriple/s]\n",
      "INFO:pykeen.evaluation.evaluator:Evaluation took 1.88s seconds\n",
      "INFO:pykeen.triples.triples_factory:Stored TriplesFactory(num_entities=1901, num_relations=9, create_inverse_triples=False, num_triples=10404) to file:///Users/yikaiyang/Projects/SS22-Knowledge-Graph/4_kge/results/TransD/training_triples\n",
      "INFO:pykeen.pipeline.api:Saved to directory: file:///Users/yikaiyang/Projects/SS22-Knowledge-Graph/4_kge/results/TransD\n",
      "INFO:pykeen.triples.splitting:done splitting triples to groups of sizes [8505, 2602]\n",
      "WARNING:pykeen.utils:No cuda devices were available. The model runs on CPU\n",
      "INFO:pykeen.pipeline.api:Using device: None\n"
     ]
    },
    {
     "name": "stdout",
     "output_type": "stream",
     "text": [
      "PipelineResult(random_seed=0, model=TransD(\n",
      "  (loss): MarginRankingLoss(\n",
      "    (margin_activation): ReLU()\n",
      "  )\n",
      "  (interaction): TransDInteraction()\n",
      "  (entity_representations): ModuleList(\n",
      "    (0-1): 2 x Embedding(\n",
      "      (_embeddings): Embedding(1901, 50)\n",
      "    )\n",
      "  )\n",
      "  (relation_representations): ModuleList(\n",
      "    (0-1): 2 x Embedding(\n",
      "      (_embeddings): Embedding(9, 50)\n",
      "    )\n",
      "  )\n",
      "  (weight_regularizers): ModuleList()\n",
      "), training=TriplesFactory(num_entities=1901, num_relations=9, create_inverse_triples=False, num_triples=10404), training_loop=<pykeen.training.slcwa.SLCWATrainingLoop object at 0x15d455ca0>, losses=[0.9314373673462286, 0.8011449997018023, 0.707262372098318, 0.6158957292393941, 0.5231469782387338, 0.4305992875157333, 0.37620697079635246, 0.3346212411799082, 0.3044402366731225, 0.29394114162863755, 0.27943384211237837, 0.2688746797602351, 0.25965149373542973, 0.24813363864654447, 0.2385030581456859, 0.23952739776634588, 0.23244279877441684, 0.2209218039018352, 0.2146696273873492, 0.2083004793015922, 0.20479424043399533, 0.20206744496415302, 0.18663345604408077, 0.18872379929554173, 0.18070889355205907, 0.17703691415670442, 0.1734419657689769, 0.16758903642980064, 0.16402030718035815, 0.16158110266778528, 0.15777296591095807, 0.15005361016203717, 0.15375297807338761, 0.14211851849061688, 0.14250045142522672, 0.14439368684117387, 0.13654917151462742, 0.13853332109567595, 0.1279352183749036, 0.12679647690639262, 0.13064439322163418, 0.12068673804765795, 0.12370300438345933, 0.12350438862312131, 0.11873604593480505, 0.11397740844546295, 0.11767610289701601, 0.1138836301681472, 0.10969992990537387, 0.10804403736823942], metric_results=<pykeen.evaluation.rank_based_evaluator.RankBasedMetricResults object at 0x11fc4b5e0>, train_seconds=10.252753019332886, evaluate_seconds=1.8836660385131836, stopper=<pykeen.stoppers.stopper.NopStopper object at 0x1610dc2b0>, configuration={'dataset': '<user defined>', 'training': '<user defined>', 'testing': '<user defined>', 'validation': '<user defined>', 'model': 'TransD', 'model_kwargs': {'random_seed': 0, 'loss': MarginRankingLoss(\n",
      "  (margin_activation): ReLU()\n",
      "), 'embedding_dim': 50, 'relation_dim': None, 'interaction_kwargs': None, 'entity_initializer': <function xavier_uniform_ at 0x15fcd2310>, 'relation_initializer': <pykeen.utils.compose object at 0x15fccf370>, 'entity_constrainer': <function clamp_norm at 0x15d2b78b0>, 'relation_constrainer': <function clamp_norm at 0x15d2b78b0>}, 'loss_kwargs': None, 'regularizer_kwargs': None, 'optimizer': 'Adam', 'optimizer_kwargs': {'lr': 0.001, 'betas': (0.9, 0.999), 'eps': 1e-08, 'weight_decay': 0, 'amsgrad': False, 'maximize': False, 'foreach': None, 'capturable': False, 'differentiable': False, 'fused': None}, 'training_loop': 'SLCWATrainingLoop', 'training_loop_kwargs': {}, 'evaluator': 'RankBasedEvaluator', 'evaluator_kwargs': {}, 'num_epochs': 50, 'batch_size': 256, 'evaluation_kwargs': {'additional_filter_triples': {'training': {'sha512': 'ae5f3c56c78ec2b46a7db702e4a673634bb05268559d4f66c6c5fc736618f347238a4e247f4e9cacd1128efafab0cac7698f79a3743c31f99b170e3bdf4365a9'}}}}, metadata={}, version='1.10.1', git_hash='UNHASHED')\n",
      "TriplesFactory(num_entities=1901, num_relations=9, create_inverse_triples=False, num_triples=10404)\n"
     ]
    },
    {
     "name": "stderr",
     "output_type": "stream",
     "text": [
      "Training epochs on cpu: 100%|██████████| 50/50 [00:13<00:00,  3.78epoch/s, loss=0.0659, prev_loss=0.0641]\n",
      "INFO:pykeen.evaluation.evaluator:Currently automatic memory optimization only supports GPUs, but you're using a CPU. Therefore, the batch_size will be set to the default value.\n",
      "INFO:pykeen.evaluation.evaluator:No evaluation batch_size provided. Setting batch_size to '32'.\n",
      "Evaluating on cpu: 100%|██████████| 2.60k/2.60k [00:02<00:00, 971triple/s]\n",
      "INFO:pykeen.evaluation.evaluator:Evaluation took 2.70s seconds\n",
      "INFO:pykeen.triples.triples_factory:Stored TriplesFactory(num_entities=1901, num_relations=9, create_inverse_triples=False, num_triples=10404) to file:///Users/yikaiyang/Projects/SS22-Knowledge-Graph/4_kge/results/RotatE/training_triples\n",
      "INFO:pykeen.pipeline.api:Saved to directory: file:///Users/yikaiyang/Projects/SS22-Knowledge-Graph/4_kge/results/RotatE\n",
      "INFO:pykeen.triples.splitting:done splitting triples to groups of sizes [8505, 2602]\n",
      "WARNING:pykeen.utils:No cuda devices were available. The model runs on CPU\n",
      "INFO:pykeen.pipeline.api:Using device: None\n",
      "WARNING:pykeen.models.unimodal.conv_e:\n",
      "The ConvE model should be trained with inverse triples.\n",
      "This can be done by defining the TriplesFactory class with the _create_inverse_triples_ parameter set to true.\n",
      "INFO:pykeen.nn.modules:Resolving None * None * None = 200.\n",
      "INFO:pykeen.nn.modules:Resolved to 1 * 20 * 10 = 200.\n"
     ]
    },
    {
     "name": "stdout",
     "output_type": "stream",
     "text": [
      "PipelineResult(random_seed=0, model=RotatE(\n",
      "  (loss): MarginRankingLoss(\n",
      "    (margin_activation): ReLU()\n",
      "  )\n",
      "  (interaction): RotatEInteraction()\n",
      "  (entity_representations): ModuleList(\n",
      "    (0): Embedding(\n",
      "      (_embeddings): Embedding(1901, 400)\n",
      "    )\n",
      "  )\n",
      "  (relation_representations): ModuleList(\n",
      "    (0): Embedding(\n",
      "      (_embeddings): Embedding(9, 400)\n",
      "    )\n",
      "  )\n",
      "  (weight_regularizers): ModuleList()\n",
      "), training=TriplesFactory(num_entities=1901, num_relations=9, create_inverse_triples=False, num_triples=10404), training_loop=<pykeen.training.slcwa.SLCWATrainingLoop object at 0x107b61460>, losses=[0.9369127474180082, 0.7818712403134602, 0.6460134285252269, 0.5419303513154751, 0.47742624326450067, 0.4481342027827007, 0.42971511003447743, 0.41427465764487664, 0.38790990812022513, 0.38080929401444225, 0.3623955867639402, 0.3478671777539137, 0.3346825576410061, 0.3174407365845471, 0.29940515829295644, 0.2935860578606768, 0.2714170413773234, 0.2528545634775627, 0.23597680359351925, 0.22019745009701427, 0.2075298424901032, 0.19159490996744574, 0.17979110559312309, 0.16591145716062405, 0.1558805022661279, 0.13605580696972405, 0.12502742267963363, 0.11825585020024602, 0.114802805752289, 0.10468217294390608, 0.0936690892388181, 0.09199437426357734, 0.08711172004298466, 0.0810384428719195, 0.07832281754874601, 0.07659863671515046, 0.07582336564253016, 0.07351873969522918, 0.07028603462911234, 0.07424816934437287, 0.06818508238690656, 0.06435805404695069, 0.07223294484542638, 0.0669944282712006, 0.06691692533289514, 0.0663433301194412, 0.06512280535407183, 0.0655197093217838, 0.06412144777614896, 0.06594036683076765], metric_results=<pykeen.evaluation.rank_based_evaluator.RankBasedMetricResults object at 0x1611ef220>, train_seconds=13.31473684310913, evaluate_seconds=2.6995558738708496, stopper=<pykeen.stoppers.stopper.NopStopper object at 0x1611eff40>, configuration={'dataset': '<user defined>', 'training': '<user defined>', 'testing': '<user defined>', 'validation': '<user defined>', 'model': 'RotatE', 'model_kwargs': {'random_seed': 0, 'loss': MarginRankingLoss(\n",
      "  (margin_activation): ReLU()\n",
      "), 'embedding_dim': 200, 'entity_initializer': <function xavier_uniform_ at 0x15fcd2310>, 'relation_initializer': <function init_phases at 0x15fe3f790>, 'relation_constrainer': <function complex_normalize at 0x15d2bd8b0>, 'regularizer': None, 'regularizer_kwargs': None}, 'loss_kwargs': None, 'regularizer_kwargs': None, 'optimizer': 'Adam', 'optimizer_kwargs': {'lr': 0.001, 'betas': (0.9, 0.999), 'eps': 1e-08, 'weight_decay': 0, 'amsgrad': False, 'maximize': False, 'foreach': None, 'capturable': False, 'differentiable': False, 'fused': None}, 'training_loop': 'SLCWATrainingLoop', 'training_loop_kwargs': {}, 'evaluator': 'RankBasedEvaluator', 'evaluator_kwargs': {}, 'num_epochs': 50, 'batch_size': 256, 'evaluation_kwargs': {'additional_filter_triples': {'training': {'sha512': 'ae5f3c56c78ec2b46a7db702e4a673634bb05268559d4f66c6c5fc736618f347238a4e247f4e9cacd1128efafab0cac7698f79a3743c31f99b170e3bdf4365a9'}}}}, metadata={}, version='1.10.1', git_hash='UNHASHED')\n",
      "TriplesFactory(num_entities=1901, num_relations=9, create_inverse_triples=False, num_triples=10404)\n"
     ]
    },
    {
     "name": "stderr",
     "output_type": "stream",
     "text": [
      "Training epochs on cpu:   0%|          | 0/50 [00:00<?, ?epoch/s]INFO:pykeen.training.training_loop:Dropping last (incomplete) batch each epoch (1/40 (2.50%) batches).\n",
      "Training epochs on cpu: 100%|██████████| 50/50 [02:13<00:00,  2.68s/epoch, loss=0.0114, prev_loss=0.0116]\n",
      "INFO:pykeen.evaluation.evaluator:Currently automatic memory optimization only supports GPUs, but you're using a CPU. Therefore, the batch_size will be set to the default value.\n",
      "INFO:pykeen.evaluation.evaluator:No evaluation batch_size provided. Setting batch_size to '32'.\n",
      "Evaluating on cpu: 100%|██████████| 2.60k/2.60k [01:37<00:00, 26.8triple/s]\n",
      "INFO:pykeen.evaluation.evaluator:Evaluation took 97.10s seconds\n",
      "INFO:pykeen.triples.triples_factory:Stored TriplesFactory(num_entities=1901, num_relations=9, create_inverse_triples=False, num_triples=10404) to file:///Users/yikaiyang/Projects/SS22-Knowledge-Graph/4_kge/results/ConvE/training_triples\n",
      "INFO:pykeen.pipeline.api:Saved to directory: file:///Users/yikaiyang/Projects/SS22-Knowledge-Graph/4_kge/results/ConvE\n"
     ]
    },
    {
     "name": "stdout",
     "output_type": "stream",
     "text": [
      "PipelineResult(random_seed=0, model=ConvE(\n",
      "  (loss): MarginRankingLoss(\n",
      "    (margin_activation): ReLU()\n",
      "  )\n",
      "  (interaction): ConvEInteraction(\n",
      "    (hr2d): Sequential(\n",
      "      (0): BatchNorm2d(1, eps=1e-05, momentum=0.1, affine=True, track_running_stats=True)\n",
      "      (1): Dropout(p=0.2, inplace=False)\n",
      "      (2): Conv2d(1, 32, kernel_size=(3, 3), stride=(1, 1))\n",
      "      (3): BatchNorm2d(32, eps=1e-05, momentum=0.1, affine=True, track_running_stats=True)\n",
      "      (4): ReLU()\n",
      "      (5): Dropout2d(p=0.2, inplace=False)\n",
      "    )\n",
      "    (hr1d): Sequential(\n",
      "      (0): Linear(in_features=10368, out_features=200, bias=True)\n",
      "      (1): Dropout(p=0.3, inplace=False)\n",
      "      (2): BatchNorm1d(200, eps=1e-05, momentum=0.1, affine=True, track_running_stats=True)\n",
      "      (3): ReLU()\n",
      "    )\n",
      "  )\n",
      "  (entity_representations): ModuleList(\n",
      "    (0): Embedding(\n",
      "      (_embeddings): Embedding(1901, 200)\n",
      "    )\n",
      "    (1): Embedding(\n",
      "      (_embeddings): Embedding(1901, 1)\n",
      "    )\n",
      "  )\n",
      "  (relation_representations): ModuleList(\n",
      "    (0): Embedding(\n",
      "      (_embeddings): Embedding(9, 200)\n",
      "    )\n",
      "  )\n",
      "  (weight_regularizers): ModuleList()\n",
      "), training=TriplesFactory(num_entities=1901, num_relations=9, create_inverse_triples=False, num_triples=10404), training_loop=<pykeen.training.slcwa.SLCWATrainingLoop object at 0x1079a5910>, losses=[0.8924474269151688, 0.741683553159237, 0.6567068234086036, 0.5898014545440674, 0.5182823278009892, 0.43199808821082114, 0.3766463458538055, 0.3062301602214575, 0.25952441729605197, 0.2407405164092779, 0.21131393872201443, 0.1825928796082735, 0.17594208419322968, 0.15370530243963004, 0.1377409093081951, 0.1261018943041563, 0.11105675995349884, 0.10293684592470527, 0.09353758618235589, 0.07730669751763344, 0.07450755247846245, 0.07230121456086636, 0.058503434620797636, 0.05152264556381851, 0.04989601362030953, 0.04441306036897004, 0.04173342622816563, 0.03508911712560803, 0.03407826693728566, 0.03075916940579191, 0.0322195990011096, 0.029424832994118334, 0.02593913805903867, 0.024319284502416848, 0.0229559114202857, 0.023935866355895997, 0.021214160620002077, 0.018842892808606848, 0.01759548849076964, 0.016927141830092297, 0.015301959542557596, 0.016700743656838313, 0.016693702974589542, 0.01480868307990022, 0.014054174028569833, 0.012151736568193882, 0.01409805152215995, 0.01339810602949001, 0.011604904080741107, 0.011416762717999518], metric_results=<pykeen.evaluation.rank_based_evaluator.RankBasedMetricResults object at 0x1610dc040>, train_seconds=134.04193806648254, evaluate_seconds=97.108647108078, stopper=<pykeen.stoppers.stopper.NopStopper object at 0x1610dce50>, configuration={'dataset': '<user defined>', 'training': '<user defined>', 'testing': '<user defined>', 'validation': '<user defined>', 'model': 'ConvE', 'model_kwargs': {'random_seed': 0, 'loss': MarginRankingLoss(\n",
      "  (margin_activation): ReLU()\n",
      "), 'input_channels': None, 'output_channels': 32, 'embedding_height': None, 'embedding_width': None, 'kernel_height': 3, 'kernel_width': 3, 'input_dropout': 0.2, 'output_dropout': 0.3, 'feature_map_dropout': 0.2, 'embedding_dim': 200, 'apply_batch_normalization': True, 'entity_initializer': <function xavier_normal_ at 0x15fe30ca0>, 'relation_initializer': <function xavier_normal_ at 0x15fe30ca0>}, 'loss_kwargs': None, 'regularizer_kwargs': None, 'optimizer': 'Adam', 'optimizer_kwargs': {'lr': 0.001, 'betas': (0.9, 0.999), 'eps': 1e-08, 'weight_decay': 0, 'amsgrad': False, 'maximize': False, 'foreach': None, 'capturable': False, 'differentiable': False, 'fused': None}, 'training_loop': 'SLCWATrainingLoop', 'training_loop_kwargs': {}, 'evaluator': 'RankBasedEvaluator', 'evaluator_kwargs': {}, 'num_epochs': 50, 'batch_size': 256, 'evaluation_kwargs': {'additional_filter_triples': {'training': {'sha512': 'ae5f3c56c78ec2b46a7db702e4a673634bb05268559d4f66c6c5fc736618f347238a4e247f4e9cacd1128efafab0cac7698f79a3743c31f99b170e3bdf4365a9'}}}}, metadata={}, version='1.10.1', git_hash='UNHASHED')\n"
     ]
    }
   ],
   "source": [
    "from training import train\n",
    "models = ['TransE', 'TransH', 'TransD', 'RotatE', 'ConvE']\n",
    "train(models=models,epochs=50)"
   ]
  },
  {
   "cell_type": "code",
   "execution_count": 4,
   "metadata": {},
   "outputs": [
    {
     "name": "stdout",
     "output_type": "stream",
     "text": [
      "<h3>Head Entity Prediction</h3>\n",
      "\n",
      "|Model   |MR   |hits@10 |hits@3 | hits@1|\n",
      "|---|---|---|---|---|\n",
      "|TransE   |775.5418908531899   |0.77%   |0.08%   |0.00%   |\n",
      "|TransH   |544.1898539584935   |3.61%   |1.61%   |0.61%   |\n",
      "|TransD   |766.532667179093   |0.77%   |0.08%   |0.00%   |\n",
      "|RotatE   |419.2271329746349   |4.73%   |4.38%   |2.65%   |\n",
      "|ConvE   |812.8355111452729   |1.00%   |0.35%   |0.04%   |\n",
      "<h3>Tail Entity Prediction</h3>\n",
      "\n",
      "|Model   |MR   |hits@10 |hits@3 | hits@1|\n",
      "|---|---|---|---|---|\n",
      "|TransE   |805.1898539584935   |0.88%   |0.12%   |0.00%   |\n",
      "|TransH   |324.9792467332821   |56.23%   |55.38%   |54.00%   |\n",
      "|TransD   |552.4934665641814   |5.00%   |1.58%   |0.00%   |\n",
      "|RotatE   |215.44542659492697   |44.08%   |42.54%   |39.32%   |\n",
      "|ConvE   |343.7129131437356   |46.93%   |37.39%   |30.55%   |\n"
     ]
    }
   ],
   "source": [
    "from print_results import print_results\n",
    "print_results(write_to_file=False, embeddings=models)"
   ]
  },
  {
   "attachments": {},
   "cell_type": "markdown",
   "metadata": {},
   "source": [
    "Training and results with number of epochs set to 100."
   ]
  },
  {
   "cell_type": "code",
   "execution_count": 6,
   "metadata": {},
   "outputs": [
    {
     "name": "stderr",
     "output_type": "stream",
     "text": [
      "INFO:pykeen.triples.splitting:done splitting triples to groups of sizes [8505, 2602]\n",
      "WARNING:pykeen.utils:No cuda devices were available. The model runs on CPU\n",
      "INFO:pykeen.pipeline.api:Using device: None\n"
     ]
    },
    {
     "name": "stdout",
     "output_type": "stream",
     "text": [
      "TriplesFactory(num_entities=1901, num_relations=9, create_inverse_triples=False, num_triples=10404)\n"
     ]
    },
    {
     "name": "stderr",
     "output_type": "stream",
     "text": [
      "Training epochs on cpu: 100%|██████████| 100/100 [00:15<00:00,  6.53epoch/s, loss=0.0611, prev_loss=0.0584]\n",
      "INFO:pykeen.evaluation.evaluator:Currently automatic memory optimization only supports GPUs, but you're using a CPU. Therefore, the batch_size will be set to the default value.\n",
      "INFO:pykeen.evaluation.evaluator:No evaluation batch_size provided. Setting batch_size to '32'.\n",
      "Evaluating on cpu: 100%|██████████| 2.60k/2.60k [00:01<00:00, 1.35ktriple/s]\n",
      "INFO:pykeen.evaluation.evaluator:Evaluation took 1.95s seconds\n",
      "INFO:pykeen.triples.triples_factory:Stored TriplesFactory(num_entities=1901, num_relations=9, create_inverse_triples=False, num_triples=10404) to file:///Users/yikaiyang/Projects/SS22-Knowledge-Graph/4_kge/results/TransE/training_triples\n",
      "INFO:pykeen.pipeline.api:Saved to directory: file:///Users/yikaiyang/Projects/SS22-Knowledge-Graph/4_kge/results/TransE\n",
      "INFO:pykeen.triples.splitting:done splitting triples to groups of sizes [8505, 2602]\n",
      "WARNING:pykeen.utils:No cuda devices were available. The model runs on CPU\n",
      "INFO:pykeen.pipeline.api:Using device: None\n"
     ]
    },
    {
     "name": "stdout",
     "output_type": "stream",
     "text": [
      "PipelineResult(random_seed=0, model=TransE(\n",
      "  (loss): MarginRankingLoss(\n",
      "    (margin_activation): ReLU()\n",
      "  )\n",
      "  (interaction): TransEInteraction()\n",
      "  (entity_representations): ModuleList(\n",
      "    (0): Embedding(\n",
      "      (_embeddings): Embedding(1901, 50)\n",
      "    )\n",
      "  )\n",
      "  (relation_representations): ModuleList(\n",
      "    (0): Embedding(\n",
      "      (_embeddings): Embedding(9, 50)\n",
      "    )\n",
      "  )\n",
      "  (weight_regularizers): ModuleList()\n",
      "), training=TriplesFactory(num_entities=1901, num_relations=9, create_inverse_triples=False, num_triples=10404), training_loop=<pykeen.training.slcwa.SLCWATrainingLoop object at 0x15d455a90>, losses=[1.0786568566066463, 0.9232651940206202, 0.8187671245598211, 0.7244564919936948, 0.6704642903514024, 0.6115075945854187, 0.5599342562803408, 0.4996411342446397, 0.46094465183048716, 0.42520467464516803, 0.38052714888642475, 0.3496545938456931, 0.32538308530319027, 0.29277964118050365, 0.2663945512073796, 0.2402598567125274, 0.21765898313464188, 0.20477246547617564, 0.18374136653615208, 0.1818058447140019, 0.16439190216180755, 0.1570801556837268, 0.14705393935849026, 0.13754110238174114, 0.1349879239753979, 0.13327319701997245, 0.1260312225033597, 0.11667157854975724, 0.11402407015969114, 0.11135051599363001, 0.10435216256031175, 0.10735002532601357, 0.0989465758931346, 0.09546609004823173, 0.0967964290118799, 0.09434202476972486, 0.08964814827209566, 0.08973686169923806, 0.09052701648779032, 0.08638280843634431, 0.0847445443817755, 0.08458189893423057, 0.08428280637031649, 0.08455212795879782, 0.08094955662765153, 0.07394026056295488, 0.07676128829579527, 0.07513451903331571, 0.07928436603851435, 0.07732628840135365, 0.07802500702985903, 0.07832890385534705, 0.07308347432351694, 0.07639193934638326, 0.0701416116207838, 0.07155016818787993, 0.07019579519585865, 0.06582035042527246, 0.0706805383286825, 0.06470926964610088, 0.0696470612978063, 0.06805143896036031, 0.07690952881807234, 0.06936233508877637, 0.07070133398945738, 0.0715741766843854, 0.06902993070643122, 0.07099930269689095, 0.06705804041972975, 0.07085090185083993, 0.06473494966219111, 0.06463656306448506, 0.0682077498697653, 0.06887764856219292, 0.060938404282418694, 0.0672383444701753, 0.06277552301563867, 0.06065508536994457, 0.0634210933817596, 0.059118153572809404, 0.06338154188380009, 0.059137067325958394, 0.061026419671933826, 0.06596043351583364, 0.061369596548923634, 0.060760630612693184, 0.06509500723786471, 0.06975986236115782, 0.06492433669727023, 0.06176418938287875, 0.06394539564484503, 0.06220419268782546, 0.06393932805555623, 0.06337999152701075, 0.0659256375326616, 0.06862621690805365, 0.06299574491454334, 0.060898697412595515, 0.0584027100717876, 0.06107989403351051], metric_results=<pykeen.evaluation.rank_based_evaluator.RankBasedMetricResults object at 0x15d455760>, train_seconds=15.537193059921265, evaluate_seconds=1.955016851425171, stopper=<pykeen.stoppers.stopper.NopStopper object at 0x15d455cd0>, configuration={'dataset': '<user defined>', 'training': '<user defined>', 'testing': '<user defined>', 'validation': '<user defined>', 'model': 'TransE', 'model_kwargs': {'random_seed': 0, 'loss': MarginRankingLoss(\n",
      "  (margin_activation): ReLU()\n",
      "), 'embedding_dim': 50, 'scoring_fct_norm': 1, 'entity_initializer': <function xavier_uniform_ at 0x15fcd2310>, 'entity_constrainer': <function normalize at 0x159a99820>, 'relation_initializer': <pykeen.utils.compose object at 0x15fccf370>, 'relation_constrainer': None, 'regularizer': None, 'regularizer_kwargs': None}, 'loss_kwargs': None, 'regularizer_kwargs': None, 'optimizer': 'Adam', 'optimizer_kwargs': {'lr': 0.001, 'betas': (0.9, 0.999), 'eps': 1e-08, 'weight_decay': 0, 'amsgrad': False, 'maximize': False, 'foreach': None, 'capturable': False, 'differentiable': False, 'fused': None}, 'training_loop': 'SLCWATrainingLoop', 'training_loop_kwargs': {}, 'evaluator': 'RankBasedEvaluator', 'evaluator_kwargs': {}, 'num_epochs': 100, 'batch_size': 256, 'evaluation_kwargs': {'additional_filter_triples': {'training': {'sha512': 'ae5f3c56c78ec2b46a7db702e4a673634bb05268559d4f66c6c5fc736618f347238a4e247f4e9cacd1128efafab0cac7698f79a3743c31f99b170e3bdf4365a9'}}}}, metadata={}, version='1.10.1', git_hash='UNHASHED')\n",
      "TriplesFactory(num_entities=1901, num_relations=9, create_inverse_triples=False, num_triples=10404)\n"
     ]
    },
    {
     "name": "stderr",
     "output_type": "stream",
     "text": [
      "Training epochs on cpu: 100%|██████████| 100/100 [00:21<00:00,  4.65epoch/s, loss=0.101, prev_loss=0.104]\n",
      "INFO:pykeen.evaluation.evaluator:Currently automatic memory optimization only supports GPUs, but you're using a CPU. Therefore, the batch_size will be set to the default value.\n",
      "INFO:pykeen.evaluation.evaluator:No evaluation batch_size provided. Setting batch_size to '32'.\n",
      "Evaluating on cpu: 100%|██████████| 2.60k/2.60k [00:01<00:00, 2.56ktriple/s]\n",
      "INFO:pykeen.evaluation.evaluator:Evaluation took 1.04s seconds\n",
      "INFO:pykeen.triples.triples_factory:Stored TriplesFactory(num_entities=1901, num_relations=9, create_inverse_triples=False, num_triples=10404) to file:///Users/yikaiyang/Projects/SS22-Knowledge-Graph/4_kge/results/TransH/training_triples\n",
      "INFO:pykeen.pipeline.api:Saved to directory: file:///Users/yikaiyang/Projects/SS22-Knowledge-Graph/4_kge/results/TransH\n",
      "INFO:pykeen.triples.splitting:done splitting triples to groups of sizes [8505, 2602]\n",
      "WARNING:pykeen.utils:No cuda devices were available. The model runs on CPU\n",
      "INFO:pykeen.pipeline.api:Using device: None\n"
     ]
    },
    {
     "name": "stdout",
     "output_type": "stream",
     "text": [
      "PipelineResult(random_seed=0, model=TransH(\n",
      "  (loss): MarginRankingLoss(\n",
      "    (margin_activation): ReLU()\n",
      "  )\n",
      "  (interaction): TransHInteraction()\n",
      "  (entity_representations): ModuleList(\n",
      "    (0): Embedding(\n",
      "      (_embeddings): Embedding(1901, 50)\n",
      "    )\n",
      "  )\n",
      "  (relation_representations): ModuleList(\n",
      "    (0-1): 2 x Embedding(\n",
      "      (_embeddings): Embedding(9, 50)\n",
      "    )\n",
      "  )\n",
      "  (weight_regularizers): ModuleList(\n",
      "    (0): NormLimitRegularizer()\n",
      "    (1): OrthogonalityRegularizer()\n",
      "  )\n",
      "), training=TriplesFactory(num_entities=1901, num_relations=9, create_inverse_triples=False, num_triples=10404), training_loop=<pykeen.training.slcwa.SLCWATrainingLoop object at 0x1611effa0>, losses=[0.9734620088484229, 0.9059476896030146, 0.8258919526891011, 0.7343478377272443, 0.6609812785939473, 0.5964538934754162, 0.522462314948803, 0.45863630495420316, 0.39010018182963857, 0.33947166146301644, 0.3021462683270617, 0.2683003682915757, 0.25445901402613014, 0.23576457216972257, 0.23306415975093842, 0.2287175153813711, 0.22650780001791512, 0.21578336997729977, 0.21605672741808543, 0.20424762004759253, 0.20259157331978403, 0.2037687105376546, 0.19301342491696521, 0.18961654240038336, 0.18670803490208415, 0.1821997401917853, 0.18601474747425173, 0.1638985919516261, 0.1711431011194136, 0.16919352041512, 0.1646543232406058, 0.16157114905555073, 0.15138397438497078, 0.15285134242802131, 0.14749954077528743, 0.1460530070996866, 0.14237670037077693, 0.14092929970200468, 0.13717775301235477, 0.13215619452842853, 0.132401201419714, 0.13203485982447136, 0.12886105550498497, 0.12775134749528838, 0.12403603988449748, 0.12484811355427998, 0.12427807363068186, 0.12514602011296808, 0.11936531724726282, 0.12876108870273684, 0.12057358426291769, 0.1209188527086886, 0.11759303437500465, 0.11939283623927976, 0.11752488118846242, 0.11413651504894583, 0.11668682552692367, 0.11256665718264697, 0.11542298517576079, 0.11117112436672537, 0.11355192977480771, 0.11182738586169917, 0.11229342058664415, 0.11254770163355804, 0.11088149903751002, 0.11122460645146487, 0.11532332602797485, 0.11104320080541982, 0.10985158838149978, 0.11076234208374489, 0.11028477276970701, 0.10916294811702357, 0.1086478773050192, 0.11124266447817407, 0.11126190732891966, 0.11098134953801225, 0.10998810991281416, 0.11107654560629915, 0.10658958899538691, 0.10794291136468329, 0.1088507493458143, 0.1050283456357514, 0.10550915976849998, 0.1016549462588822, 0.10303314429957693, 0.10502918682447294, 0.10930703625809855, 0.10904165430039894, 0.10592961965537653, 0.10641447600068116, 0.10456923086468767, 0.10125654608738131, 0.10723569353179234, 0.10456080443975402, 0.10353086943306573, 0.10612357226086826, 0.10757435458462412, 0.10601344323012887, 0.10430015314642976, 0.10116741933473726], metric_results=<pykeen.evaluation.rank_based_evaluator.RankBasedMetricResults object at 0x1610db6a0>, train_seconds=21.591710090637207, evaluate_seconds=1.037113904953003, stopper=<pykeen.stoppers.stopper.NopStopper object at 0x1610dc670>, configuration={'dataset': '<user defined>', 'training': '<user defined>', 'testing': '<user defined>', 'validation': '<user defined>', 'model': 'TransH', 'model_kwargs': {'random_seed': 0, 'loss': MarginRankingLoss(\n",
      "  (margin_activation): ReLU()\n",
      "), 'embedding_dim': 50, 'scoring_fct_norm': 2, 'entity_initializer': <function xavier_normal_ at 0x159a9e5e0>, 'entity_regularizer': None, 'entity_regularizer_kwargs': None, 'relation_initializer': <function xavier_normal_ at 0x159a9e5e0>, 'relation_regularizer': None, 'relation_regularizer_kwargs': None}, 'loss_kwargs': None, 'regularizer_kwargs': None, 'optimizer': 'Adam', 'optimizer_kwargs': {'lr': 0.001, 'betas': (0.9, 0.999), 'eps': 1e-08, 'weight_decay': 0, 'amsgrad': False, 'maximize': False, 'foreach': None, 'capturable': False, 'differentiable': False, 'fused': None}, 'training_loop': 'SLCWATrainingLoop', 'training_loop_kwargs': {}, 'evaluator': 'RankBasedEvaluator', 'evaluator_kwargs': {}, 'num_epochs': 100, 'batch_size': 256, 'evaluation_kwargs': {'additional_filter_triples': {'training': {'sha512': 'ae5f3c56c78ec2b46a7db702e4a673634bb05268559d4f66c6c5fc736618f347238a4e247f4e9cacd1128efafab0cac7698f79a3743c31f99b170e3bdf4365a9'}}}}, metadata={}, version='1.10.1', git_hash='UNHASHED')\n",
      "TriplesFactory(num_entities=1901, num_relations=9, create_inverse_triples=False, num_triples=10404)\n"
     ]
    },
    {
     "name": "stderr",
     "output_type": "stream",
     "text": [
      "Training epochs on cpu: 100%|██████████| 100/100 [00:21<00:00,  4.61epoch/s, loss=0.0688, prev_loss=0.0715]\n",
      "INFO:pykeen.evaluation.evaluator:Currently automatic memory optimization only supports GPUs, but you're using a CPU. Therefore, the batch_size will be set to the default value.\n",
      "INFO:pykeen.evaluation.evaluator:No evaluation batch_size provided. Setting batch_size to '32'.\n",
      "Evaluating on cpu: 100%|██████████| 2.60k/2.60k [00:02<00:00, 1.19ktriple/s]\n",
      "INFO:pykeen.evaluation.evaluator:Evaluation took 2.20s seconds\n",
      "INFO:pykeen.triples.triples_factory:Stored TriplesFactory(num_entities=1901, num_relations=9, create_inverse_triples=False, num_triples=10404) to file:///Users/yikaiyang/Projects/SS22-Knowledge-Graph/4_kge/results/TransD/training_triples\n",
      "INFO:pykeen.pipeline.api:Saved to directory: file:///Users/yikaiyang/Projects/SS22-Knowledge-Graph/4_kge/results/TransD\n",
      "INFO:pykeen.triples.splitting:done splitting triples to groups of sizes [8505, 2602]\n",
      "WARNING:pykeen.utils:No cuda devices were available. The model runs on CPU\n",
      "INFO:pykeen.pipeline.api:Using device: None\n"
     ]
    },
    {
     "name": "stdout",
     "output_type": "stream",
     "text": [
      "PipelineResult(random_seed=0, model=TransD(\n",
      "  (loss): MarginRankingLoss(\n",
      "    (margin_activation): ReLU()\n",
      "  )\n",
      "  (interaction): TransDInteraction()\n",
      "  (entity_representations): ModuleList(\n",
      "    (0-1): 2 x Embedding(\n",
      "      (_embeddings): Embedding(1901, 50)\n",
      "    )\n",
      "  )\n",
      "  (relation_representations): ModuleList(\n",
      "    (0-1): 2 x Embedding(\n",
      "      (_embeddings): Embedding(9, 50)\n",
      "    )\n",
      "  )\n",
      "  (weight_regularizers): ModuleList()\n",
      "), training=TriplesFactory(num_entities=1901, num_relations=9, create_inverse_triples=False, num_triples=10404), training_loop=<pykeen.training.slcwa.SLCWATrainingLoop object at 0x15d4557f0>, losses=[0.9314373673462286, 0.8011449997018023, 0.707262372098318, 0.6158957292393941, 0.5231469782387338, 0.4305992875157333, 0.37620697079635246, 0.3346212411799082, 0.3044402366731225, 0.29394114162863755, 0.27943384211237837, 0.2688746797602351, 0.25965149373542973, 0.24813363864654447, 0.2385030581456859, 0.23952739776634588, 0.23244279877441684, 0.2209218039018352, 0.2146696273873492, 0.2083004793015922, 0.20479424043399533, 0.20206744496415302, 0.18663345604408077, 0.18872379929554173, 0.18070889355205907, 0.17703691415670442, 0.1734419657689769, 0.16758903642980064, 0.16402030718035815, 0.16158110266778528, 0.15777296591095807, 0.15005361016203717, 0.15375297807338761, 0.14211851849061688, 0.14250045142522672, 0.14439368684117387, 0.13654917151462742, 0.13853332109567595, 0.1279352183749036, 0.12679647690639262, 0.13064439322163418, 0.12068673804765795, 0.12370300438345933, 0.12350438862312131, 0.11873604593480505, 0.11397740844546295, 0.11767610289701601, 0.1138836301681472, 0.10969992990537387, 0.10804403736823942, 0.10742375000220973, 0.10565379897995693, 0.10839045193137192, 0.09994367355617081, 0.10206641420358564, 0.10240579214764804, 0.10200806852520966, 0.09210246574224495, 0.09587402578170706, 0.09575648851147513, 0.09214540616404719, 0.09220524059563148, 0.09039055356165258, 0.09186369907565234, 0.09079091532564745, 0.08767532057515005, 0.08695533390088779, 0.08937654680595165, 0.08209653525817685, 0.08347675349654221, 0.08382623642683029, 0.08295840043120267, 0.07290277198502203, 0.08304905064585733, 0.07960957243311696, 0.0817745351573316, 0.07850553186201467, 0.07459670705039327, 0.07748903306882556, 0.07777267503665715, 0.08141522591070431, 0.07932282284629054, 0.07900985348515394, 0.07721487214652503, 0.07715933415584447, 0.07049410145093755, 0.07359049650954037, 0.07284424681125617, 0.07180736659140122, 0.07111106667576766, 0.07248334677481069, 0.07168164722076277, 0.06910459842623734, 0.07120619368989294, 0.07054211299230413, 0.07199645351345946, 0.06552783390734254, 0.07024738728636648, 0.07149534445346856, 0.06882556037205022], metric_results=<pykeen.evaluation.rank_based_evaluator.RankBasedMetricResults object at 0x15d455c70>, train_seconds=21.798162937164307, evaluate_seconds=2.2005250453948975, stopper=<pykeen.stoppers.stopper.NopStopper object at 0x1610dc7c0>, configuration={'dataset': '<user defined>', 'training': '<user defined>', 'testing': '<user defined>', 'validation': '<user defined>', 'model': 'TransD', 'model_kwargs': {'random_seed': 0, 'loss': MarginRankingLoss(\n",
      "  (margin_activation): ReLU()\n",
      "), 'embedding_dim': 50, 'relation_dim': None, 'interaction_kwargs': None, 'entity_initializer': <function xavier_uniform_ at 0x15fcd2310>, 'relation_initializer': <pykeen.utils.compose object at 0x15fccf370>, 'entity_constrainer': <function clamp_norm at 0x15d2b78b0>, 'relation_constrainer': <function clamp_norm at 0x15d2b78b0>}, 'loss_kwargs': None, 'regularizer_kwargs': None, 'optimizer': 'Adam', 'optimizer_kwargs': {'lr': 0.001, 'betas': (0.9, 0.999), 'eps': 1e-08, 'weight_decay': 0, 'amsgrad': False, 'maximize': False, 'foreach': None, 'capturable': False, 'differentiable': False, 'fused': None}, 'training_loop': 'SLCWATrainingLoop', 'training_loop_kwargs': {}, 'evaluator': 'RankBasedEvaluator', 'evaluator_kwargs': {}, 'num_epochs': 100, 'batch_size': 256, 'evaluation_kwargs': {'additional_filter_triples': {'training': {'sha512': 'ae5f3c56c78ec2b46a7db702e4a673634bb05268559d4f66c6c5fc736618f347238a4e247f4e9cacd1128efafab0cac7698f79a3743c31f99b170e3bdf4365a9'}}}}, metadata={}, version='1.10.1', git_hash='UNHASHED')\n",
      "TriplesFactory(num_entities=1901, num_relations=9, create_inverse_triples=False, num_triples=10404)\n"
     ]
    },
    {
     "name": "stderr",
     "output_type": "stream",
     "text": [
      "Training epochs on cpu: 100%|██████████| 100/100 [00:30<00:00,  3.26epoch/s, loss=0.0606, prev_loss=0.0575]\n",
      "INFO:pykeen.evaluation.evaluator:Currently automatic memory optimization only supports GPUs, but you're using a CPU. Therefore, the batch_size will be set to the default value.\n",
      "INFO:pykeen.evaluation.evaluator:No evaluation batch_size provided. Setting batch_size to '32'.\n",
      "Evaluating on cpu: 100%|██████████| 2.60k/2.60k [00:02<00:00, 891triple/s]\n",
      "INFO:pykeen.evaluation.evaluator:Evaluation took 2.94s seconds\n",
      "INFO:pykeen.triples.triples_factory:Stored TriplesFactory(num_entities=1901, num_relations=9, create_inverse_triples=False, num_triples=10404) to file:///Users/yikaiyang/Projects/SS22-Knowledge-Graph/4_kge/results/RotatE/training_triples\n",
      "INFO:pykeen.pipeline.api:Saved to directory: file:///Users/yikaiyang/Projects/SS22-Knowledge-Graph/4_kge/results/RotatE\n",
      "INFO:pykeen.triples.splitting:done splitting triples to groups of sizes [8505, 2602]\n",
      "WARNING:pykeen.utils:No cuda devices were available. The model runs on CPU\n",
      "INFO:pykeen.pipeline.api:Using device: None\n",
      "WARNING:pykeen.models.unimodal.conv_e:\n",
      "The ConvE model should be trained with inverse triples.\n",
      "This can be done by defining the TriplesFactory class with the _create_inverse_triples_ parameter set to true.\n",
      "INFO:pykeen.nn.modules:Resolving None * None * None = 200.\n",
      "INFO:pykeen.nn.modules:Resolved to 1 * 20 * 10 = 200.\n"
     ]
    },
    {
     "name": "stdout",
     "output_type": "stream",
     "text": [
      "PipelineResult(random_seed=0, model=RotatE(\n",
      "  (loss): MarginRankingLoss(\n",
      "    (margin_activation): ReLU()\n",
      "  )\n",
      "  (interaction): RotatEInteraction()\n",
      "  (entity_representations): ModuleList(\n",
      "    (0): Embedding(\n",
      "      (_embeddings): Embedding(1901, 400)\n",
      "    )\n",
      "  )\n",
      "  (relation_representations): ModuleList(\n",
      "    (0): Embedding(\n",
      "      (_embeddings): Embedding(9, 400)\n",
      "    )\n",
      "  )\n",
      "  (weight_regularizers): ModuleList()\n",
      "), training=TriplesFactory(num_entities=1901, num_relations=9, create_inverse_triples=False, num_triples=10404), training_loop=<pykeen.training.slcwa.SLCWATrainingLoop object at 0x15d455c40>, losses=[0.9369127474180082, 0.7818712403134602, 0.6460134285252269, 0.5419303513154751, 0.47742624326450067, 0.4481342027827007, 0.42971511003447743, 0.41427465764487664, 0.38790990812022513, 0.38080929401444225, 0.3623955867639402, 0.3478671777539137, 0.3346825576410061, 0.3174407365845471, 0.29940515829295644, 0.2935860578606768, 0.2714170413773234, 0.2528545634775627, 0.23597680359351925, 0.22019745009701427, 0.2075298424901032, 0.19159490996744574, 0.17979110559312309, 0.16591145716062405, 0.1558805022661279, 0.13605580696972405, 0.12502742267963363, 0.11825585020024602, 0.114802805752289, 0.10468217294390608, 0.0936690892388181, 0.09199437426357734, 0.08711172004298466, 0.0810384428719195, 0.07832281754874601, 0.07659863671515046, 0.07582336564253016, 0.07351873969522918, 0.07028603462911234, 0.07424816934437287, 0.06818508238690656, 0.06435805404695069, 0.07223294484542638, 0.0669944282712006, 0.06691692533289514, 0.0663433301194412, 0.06512280535407183, 0.0655197093217838, 0.06412144777614896, 0.06594036683076765, 0.06594812597443418, 0.06348847720499445, 0.06486041798460775, 0.058854469711460716, 0.06330312016170199, 0.06430306653605729, 0.06427002970765276, 0.060877583375791224, 0.06346569346582018, 0.06167610016901318, 0.06387602574214703, 0.06101308299637422, 0.06619318756388455, 0.06355621765662985, 0.06384799320523332, 0.06208777745685926, 0.06154687534563425, 0.057494553669196806, 0.06292653147403787, 0.06360638386956076, 0.059810067776863166, 0.06155494327952222, 0.0598008534530314, 0.061412683574528226, 0.06255264212263793, 0.06001602313140544, 0.057062572095452284, 0.06059163854253001, 0.06138038280897024, 0.05827983296135577, 0.06176184717474914, 0.05871348828077316, 0.06337415681379598, 0.06254193895473713, 0.06114150938100931, 0.06462909353942406, 0.06328297951599447, 0.060292461841571623, 0.05976654861758395, 0.05925599976283748, 0.060537167892950335, 0.0577505329941831, 0.05827815630813924, 0.058298996218094014, 0.059425235794084826, 0.06683586029017843, 0.058874326144776695, 0.0587699549590669, 0.05750082160641507, 0.06060869919090736], metric_results=<pykeen.evaluation.rank_based_evaluator.RankBasedMetricResults object at 0x15d455a90>, train_seconds=30.81091594696045, evaluate_seconds=2.9412460327148438, stopper=<pykeen.stoppers.stopper.NopStopper object at 0x161205700>, configuration={'dataset': '<user defined>', 'training': '<user defined>', 'testing': '<user defined>', 'validation': '<user defined>', 'model': 'RotatE', 'model_kwargs': {'random_seed': 0, 'loss': MarginRankingLoss(\n",
      "  (margin_activation): ReLU()\n",
      "), 'embedding_dim': 200, 'entity_initializer': <function xavier_uniform_ at 0x15fcd2310>, 'relation_initializer': <function init_phases at 0x15fe3f790>, 'relation_constrainer': <function complex_normalize at 0x15d2bd8b0>, 'regularizer': None, 'regularizer_kwargs': None}, 'loss_kwargs': None, 'regularizer_kwargs': None, 'optimizer': 'Adam', 'optimizer_kwargs': {'lr': 0.001, 'betas': (0.9, 0.999), 'eps': 1e-08, 'weight_decay': 0, 'amsgrad': False, 'maximize': False, 'foreach': None, 'capturable': False, 'differentiable': False, 'fused': None}, 'training_loop': 'SLCWATrainingLoop', 'training_loop_kwargs': {}, 'evaluator': 'RankBasedEvaluator', 'evaluator_kwargs': {}, 'num_epochs': 100, 'batch_size': 256, 'evaluation_kwargs': {'additional_filter_triples': {'training': {'sha512': 'ae5f3c56c78ec2b46a7db702e4a673634bb05268559d4f66c6c5fc736618f347238a4e247f4e9cacd1128efafab0cac7698f79a3743c31f99b170e3bdf4365a9'}}}}, metadata={}, version='1.10.1', git_hash='UNHASHED')\n",
      "TriplesFactory(num_entities=1901, num_relations=9, create_inverse_triples=False, num_triples=10404)\n"
     ]
    },
    {
     "name": "stderr",
     "output_type": "stream",
     "text": [
      "Training epochs on cpu:   0%|          | 0/100 [00:00<?, ?epoch/s]INFO:pykeen.training.training_loop:Dropping last (incomplete) batch each epoch (1/40 (2.50%) batches).\n",
      "Training epochs on cpu: 100%|██████████| 100/100 [04:52<00:00,  2.92s/epoch, loss=0.0037, prev_loss=0.00499]\n",
      "INFO:pykeen.evaluation.evaluator:Currently automatic memory optimization only supports GPUs, but you're using a CPU. Therefore, the batch_size will be set to the default value.\n",
      "INFO:pykeen.evaluation.evaluator:No evaluation batch_size provided. Setting batch_size to '32'.\n",
      "Evaluating on cpu: 100%|██████████| 2.60k/2.60k [01:48<00:00, 23.9triple/s]\n",
      "INFO:pykeen.evaluation.evaluator:Evaluation took 108.68s seconds\n",
      "INFO:pykeen.triples.triples_factory:Stored TriplesFactory(num_entities=1901, num_relations=9, create_inverse_triples=False, num_triples=10404) to file:///Users/yikaiyang/Projects/SS22-Knowledge-Graph/4_kge/results/ConvE/training_triples\n",
      "INFO:pykeen.pipeline.api:Saved to directory: file:///Users/yikaiyang/Projects/SS22-Knowledge-Graph/4_kge/results/ConvE\n"
     ]
    },
    {
     "name": "stdout",
     "output_type": "stream",
     "text": [
      "PipelineResult(random_seed=0, model=ConvE(\n",
      "  (loss): MarginRankingLoss(\n",
      "    (margin_activation): ReLU()\n",
      "  )\n",
      "  (interaction): ConvEInteraction(\n",
      "    (hr2d): Sequential(\n",
      "      (0): BatchNorm2d(1, eps=1e-05, momentum=0.1, affine=True, track_running_stats=True)\n",
      "      (1): Dropout(p=0.2, inplace=False)\n",
      "      (2): Conv2d(1, 32, kernel_size=(3, 3), stride=(1, 1))\n",
      "      (3): BatchNorm2d(32, eps=1e-05, momentum=0.1, affine=True, track_running_stats=True)\n",
      "      (4): ReLU()\n",
      "      (5): Dropout2d(p=0.2, inplace=False)\n",
      "    )\n",
      "    (hr1d): Sequential(\n",
      "      (0): Linear(in_features=10368, out_features=200, bias=True)\n",
      "      (1): Dropout(p=0.3, inplace=False)\n",
      "      (2): BatchNorm1d(200, eps=1e-05, momentum=0.1, affine=True, track_running_stats=True)\n",
      "      (3): ReLU()\n",
      "    )\n",
      "  )\n",
      "  (entity_representations): ModuleList(\n",
      "    (0): Embedding(\n",
      "      (_embeddings): Embedding(1901, 200)\n",
      "    )\n",
      "    (1): Embedding(\n",
      "      (_embeddings): Embedding(1901, 1)\n",
      "    )\n",
      "  )\n",
      "  (relation_representations): ModuleList(\n",
      "    (0): Embedding(\n",
      "      (_embeddings): Embedding(9, 200)\n",
      "    )\n",
      "  )\n",
      "  (weight_regularizers): ModuleList()\n",
      "), training=TriplesFactory(num_entities=1901, num_relations=9, create_inverse_triples=False, num_triples=10404), training_loop=<pykeen.training.slcwa.SLCWATrainingLoop object at 0x15d455b50>, losses=[0.8924474269151688, 0.741683553159237, 0.6567068234086036, 0.5898014545440674, 0.5182823278009892, 0.43199808821082114, 0.3766463458538055, 0.3062301602214575, 0.25952441729605197, 0.2407405164092779, 0.21131393872201443, 0.1825928796082735, 0.17594208419322968, 0.15370530243963004, 0.1377409093081951, 0.1261018943041563, 0.11105675995349884, 0.10293684592470527, 0.09353758618235589, 0.07730669751763344, 0.07450755247846245, 0.07230121456086636, 0.058503434620797636, 0.05152264556381851, 0.04989601362030953, 0.04441306036897004, 0.04173342622816563, 0.03508911712560803, 0.03407826693728566, 0.03075916940579191, 0.0322195990011096, 0.029424832994118334, 0.02593913805903867, 0.024319284502416848, 0.0229559114202857, 0.023935866355895997, 0.021214160620002077, 0.018842892808606848, 0.01759548849076964, 0.016927141830092297, 0.015301959542557596, 0.016700743656838313, 0.016693702974589542, 0.01480868307990022, 0.014054174028569833, 0.012151736568193882, 0.01409805152215995, 0.01339810602949001, 0.011604904080741107, 0.011416762717999518, 0.009597699722507968, 0.01169444682309404, 0.01106589323026128, 0.010542756837094203, 0.008981098572257906, 0.009840722905937582, 0.00835326373926364, 0.009659779036883264, 0.007695855724159628, 0.008662830444518477, 0.00893425290705636, 0.008455681084888056, 0.006674377684248611, 0.00792992475326173, 0.006103694083867595, 0.0051632200367748736, 0.008174962381599472, 0.010308710037497804, 0.007808482891414314, 0.006240721442736685, 0.005209452169947326, 0.006182245368836448, 0.006619860330829397, 0.004817244317382574, 0.004853836359689012, 0.006017714913468808, 0.00567129003466107, 0.004791952244704589, 0.004915104404790327, 0.004672238603234291, 0.006627386930631474, 0.004682933987351134, 0.005510330066317693, 0.0044687496847473085, 0.005590417375788093, 0.005027775128837675, 0.003996270516654477, 0.004213378619169816, 0.005140126874903217, 0.004368232982233167, 0.005279867979697883, 0.003373759245732799, 0.003955058509018272, 0.0037430406897328793, 0.0034555352875031533, 0.00490321169490926, 0.004124596412293613, 0.0035052553343120963, 0.004988643602700904, 0.003697620506864041], metric_results=<pykeen.evaluation.rank_based_evaluator.RankBasedMetricResults object at 0x161205280>, train_seconds=292.31752920150757, evaluate_seconds=108.67694687843323, stopper=<pykeen.stoppers.stopper.NopStopper object at 0x161205df0>, configuration={'dataset': '<user defined>', 'training': '<user defined>', 'testing': '<user defined>', 'validation': '<user defined>', 'model': 'ConvE', 'model_kwargs': {'random_seed': 0, 'loss': MarginRankingLoss(\n",
      "  (margin_activation): ReLU()\n",
      "), 'input_channels': None, 'output_channels': 32, 'embedding_height': None, 'embedding_width': None, 'kernel_height': 3, 'kernel_width': 3, 'input_dropout': 0.2, 'output_dropout': 0.3, 'feature_map_dropout': 0.2, 'embedding_dim': 200, 'apply_batch_normalization': True, 'entity_initializer': <function xavier_normal_ at 0x15fe30ca0>, 'relation_initializer': <function xavier_normal_ at 0x15fe30ca0>}, 'loss_kwargs': None, 'regularizer_kwargs': None, 'optimizer': 'Adam', 'optimizer_kwargs': {'lr': 0.001, 'betas': (0.9, 0.999), 'eps': 1e-08, 'weight_decay': 0, 'amsgrad': False, 'maximize': False, 'foreach': None, 'capturable': False, 'differentiable': False, 'fused': None}, 'training_loop': 'SLCWATrainingLoop', 'training_loop_kwargs': {}, 'evaluator': 'RankBasedEvaluator', 'evaluator_kwargs': {}, 'num_epochs': 100, 'batch_size': 256, 'evaluation_kwargs': {'additional_filter_triples': {'training': {'sha512': 'ae5f3c56c78ec2b46a7db702e4a673634bb05268559d4f66c6c5fc736618f347238a4e247f4e9cacd1128efafab0cac7698f79a3743c31f99b170e3bdf4365a9'}}}}, metadata={}, version='1.10.1', git_hash='UNHASHED')\n"
     ]
    }
   ],
   "source": [
    "from training import train\n",
    "models = ['TransE', 'TransH', 'TransD', 'RotatE', 'ConvE']\n",
    "EPOCHS = 100\n",
    "train(models=models,epochs=EPOCHS)"
   ]
  },
  {
   "cell_type": "code",
   "execution_count": 7,
   "metadata": {},
   "outputs": [
    {
     "name": "stdout",
     "output_type": "stream",
     "text": [
      "<h3>Head Entity Prediction</h3>\n",
      "\n",
      "|Model   |MR   |hits@10 |hits@3 | hits@1|\n",
      "|---|---|---|---|---|\n",
      "|TransD   |21.313604919292853   |73.60%   |50.31%   |34.70%   |\n",
      "|TransE   |81.85126825518832   |62.72%   |57.26%   |41.58%   |\n",
      "|TransH   |9.021906225980015   |76.48%   |63.30%   |45.93%   |\n",
      "|RotatE   |13.947732513451191   |76.98%   |65.76%   |53.73%   |\n",
      "|ConvE   |168.35165257494236   |34.97%   |22.75%   |16.22%   |\n",
      "<h3>Tail Entity Prediction</h3>\n",
      "\n",
      "|Model   |MR   |hits@10 |hits@3 | hits@1|\n",
      "|---|---|---|---|---|\n",
      "|TransD   |20.55380476556495   |73.64%   |62.53%   |44.04%   |\n",
      "|TransE   |73.92736356648732   |63.57%   |59.34%   |54.15%   |\n",
      "|TransH   |9.028823981552652   |76.75%   |65.22%   |59.99%   |\n",
      "|RotatE   |10.744427363566487   |79.05%   |67.52%   |62.26%   |\n",
      "|ConvE   |79.61337432744043   |62.49%   |59.07%   |52.46%   |\n"
     ]
    }
   ],
   "source": [
    "from print_results import print_results\n",
    "print_results(write_to_file=False)"
   ]
  },
  {
   "attachments": {},
   "cell_type": "markdown",
   "metadata": {},
   "source": [
    "Training and results with number of epochs set to 200."
   ]
  },
  {
   "cell_type": "code",
   "execution_count": 1,
   "metadata": {},
   "outputs": [
    {
     "name": "stderr",
     "output_type": "stream",
     "text": [
      "/Users/yikaiyang/Library/Caches/pypoetry/virtualenvs/ss22-knowledge-graph-phk8xMS3-py3.9/lib/python3.9/site-packages/tqdm/auto.py:21: TqdmWarning: IProgress not found. Please update jupyter and ipywidgets. See https://ipywidgets.readthedocs.io/en/stable/user_install.html\n",
      "  from .autonotebook import tqdm as notebook_tqdm\n",
      "No cuda devices were available. The model runs on CPU\n"
     ]
    },
    {
     "name": "stdout",
     "output_type": "stream",
     "text": [
      "TriplesFactory(num_entities=1901, num_relations=9, create_inverse_triples=False, num_triples=10404)\n"
     ]
    },
    {
     "name": "stderr",
     "output_type": "stream",
     "text": [
      "Training epochs on cpu: 100%|██████████| 200/200 [00:22<00:00,  8.80epoch/s, loss=0.0573, prev_loss=0.0576]\n",
      "INFO:pykeen.evaluation.evaluator:Currently automatic memory optimization only supports GPUs, but you're using a CPU. Therefore, the batch_size will be set to the default value.\n",
      "INFO:pykeen.evaluation.evaluator:No evaluation batch_size provided. Setting batch_size to '32'.\n",
      "Evaluating on cpu: 100%|██████████| 2.60k/2.60k [00:01<00:00, 1.60ktriple/s]\n",
      "INFO:pykeen.evaluation.evaluator:Evaluation took 1.66s seconds\n",
      "INFO:pykeen.triples.triples_factory:Stored TriplesFactory(num_entities=1901, num_relations=9, create_inverse_triples=False, num_triples=10404) to file:///Users/yikaiyang/Projects/SS22-Knowledge-Graph/4_kge/results/TransE/training_triples\n",
      "INFO:pykeen.pipeline.api:Saved to directory: file:///Users/yikaiyang/Projects/SS22-Knowledge-Graph/4_kge/results/TransE\n",
      "INFO:pykeen.triples.splitting:done splitting triples to groups of sizes [8505, 2602]\n",
      "WARNING:pykeen.utils:No cuda devices were available. The model runs on CPU\n",
      "INFO:pykeen.pipeline.api:Using device: None\n"
     ]
    },
    {
     "name": "stdout",
     "output_type": "stream",
     "text": [
      "PipelineResult(random_seed=0, model=TransE(\n",
      "  (loss): MarginRankingLoss(\n",
      "    (margin_activation): ReLU()\n",
      "  )\n",
      "  (interaction): TransEInteraction()\n",
      "  (entity_representations): ModuleList(\n",
      "    (0): Embedding(\n",
      "      (_embeddings): Embedding(1901, 50)\n",
      "    )\n",
      "  )\n",
      "  (relation_representations): ModuleList(\n",
      "    (0): Embedding(\n",
      "      (_embeddings): Embedding(9, 50)\n",
      "    )\n",
      "  )\n",
      "  (weight_regularizers): ModuleList()\n",
      "), training=TriplesFactory(num_entities=1901, num_relations=9, create_inverse_triples=False, num_triples=10404), training_loop=<pykeen.training.slcwa.SLCWATrainingLoop object at 0x28edc0190>, losses=[1.0786568566066463, 0.9232651940206202, 0.8187671245598211, 0.7244564919936948, 0.6704642903514024, 0.6115075945854187, 0.5599342562803408, 0.4996411342446397, 0.46094465183048716, 0.42520467464516803, 0.38052714888642475, 0.3496545938456931, 0.32538308530319027, 0.29277964118050365, 0.2663945512073796, 0.2402598567125274, 0.21765898313464188, 0.20477246547617564, 0.18374136653615208, 0.1818058447140019, 0.16439190216180755, 0.1570801556837268, 0.14705393935849026, 0.13754110238174114, 0.1349879239753979, 0.13327319701997245, 0.1260312225033597, 0.11667157854975724, 0.11402407015969114, 0.11135051599363001, 0.10435216256031175, 0.10735002532601357, 0.0989465758931346, 0.09546609004823173, 0.0967964290118799, 0.09434202476972486, 0.08964814827209566, 0.08973686169923806, 0.09052701648779032, 0.08638280843634431, 0.0847445443817755, 0.08458189893423057, 0.08428280637031649, 0.08455212795879782, 0.08094955662765153, 0.07394026056295488, 0.07676128829579527, 0.07513451903331571, 0.07928436603851435, 0.07732628840135365, 0.07802500702985903, 0.07832890385534705, 0.07308347432351694, 0.07639193934638326, 0.0701416116207838, 0.07155016818787993, 0.07019579519585865, 0.06582035042527246, 0.0706805383286825, 0.06470926964610088, 0.0696470612978063, 0.06805143896036031, 0.07690952881807234, 0.06936233508877637, 0.07070133398945738, 0.0715741766843854, 0.06902993070643122, 0.07099930269689095, 0.06705804041972975, 0.07085090185083993, 0.06473494966219111, 0.06463656306448506, 0.0682077498697653, 0.06887764856219292, 0.060938404282418694, 0.0672383444701753, 0.06277552301563867, 0.06065508536994457, 0.0634210933817596, 0.059118153572809404, 0.06338154188380009, 0.059137067325958394, 0.061026419671933826, 0.06596043351583364, 0.061369596548923634, 0.060760630612693184, 0.06509500723786471, 0.06975986236115782, 0.06492433669727023, 0.06176418938287875, 0.06394539564484503, 0.06220419268782546, 0.06393932805555623, 0.06337999152701075, 0.0659256375326616, 0.06862621690805365, 0.06299574491454334, 0.060898697412595515, 0.0584027100717876, 0.06107989403351051, 0.06362063837487524, 0.06416865501825403, 0.06064257121122465, 0.05682214199588066, 0.05852480532556045, 0.06351099908351898, 0.061681103597326974, 0.057524058740676905, 0.060024341977224116, 0.05427800041691559, 0.06112481962616851, 0.05895823294796595, 0.06189796669272388, 0.05921426865204078, 0.057305545795981475, 0.06680964278738673, 0.061613234668606666, 0.05381537923907361, 0.0659526358472138, 0.056011440368687236, 0.060867992570487466, 0.05906439481711969, 0.05970048690896209, 0.05616704310949256, 0.056822220772141364, 0.05599292767484013, 0.05893940364987385, 0.062369949070782194, 0.059080557488813634, 0.06033316418165114, 0.05956468826568708, 0.05787935680369052, 0.059165157922884314, 0.05734130481212604, 0.05846470408141613, 0.05845634157701236, 0.0629940459550154, 0.05943260755299068, 0.05504424311220646, 0.06115045316699075, 0.05592213225800816, 0.056360761385138444, 0.06113019999025798, 0.06168043631605986, 0.05651824085450754, 0.05285500666898925, 0.05714596171931523, 0.05332252533152336, 0.05910180577235978, 0.05664904283859381, 0.05616234538213509, 0.05924431552610746, 0.058501779033643446, 0.05593815109715229, 0.05760849971415066, 0.06065744624995604, 0.05614104635286622, 0.05645096292946397, 0.05595167998860522, 0.050496778382760725, 0.054016520064778445, 0.062498650581734934, 0.058708381452938406, 0.05615977929314462, 0.056416249129830336, 0.054582326150522, 0.05656361511749465, 0.059473108454811865, 0.053533217256389015, 0.05851163410740655, 0.05903944613911757, 0.05873591998001424, 0.05436231264072221, 0.05699175210079042, 0.05366849844775549, 0.05551343470266679, 0.05773128614556498, 0.05908831944916307, 0.05427113434345257, 0.05443476990047025, 0.05405536671055526, 0.05481179712749109, 0.0515719138812728, 0.05348120102795159, 0.05630064383149147, 0.06036424732244596, 0.05518936197750452, 0.06082624242436595, 0.052182709525634606, 0.05938103527012395, 0.053569019885688296, 0.058113466357675995, 0.05838379681837268, 0.0541326588065159, 0.05440443477070913, 0.058377841305805415, 0.05922542671423133, 0.052621888451096485, 0.057643270029163945, 0.05732783007367355], metric_results=<pykeen.evaluation.rank_based_evaluator.RankBasedMetricResults object at 0x28ede94c0>, train_seconds=22.8595449924469, evaluate_seconds=1.6598267555236816, stopper=<pykeen.stoppers.stopper.NopStopper object at 0x28edc0d00>, configuration={'dataset': '<user defined>', 'training': '<user defined>', 'testing': '<user defined>', 'validation': '<user defined>', 'model': 'TransE', 'model_kwargs': {'random_seed': 0, 'loss': MarginRankingLoss(\n",
      "  (margin_activation): ReLU()\n",
      "), 'embedding_dim': 50, 'scoring_fct_norm': 1, 'entity_initializer': <function xavier_uniform_ at 0x28e195d30>, 'entity_constrainer': <function normalize at 0x11f1f2a60>, 'relation_initializer': <pykeen.utils.compose object at 0x28e1a1bb0>, 'relation_constrainer': None, 'regularizer': None, 'regularizer_kwargs': None}, 'loss_kwargs': None, 'regularizer_kwargs': None, 'optimizer': 'Adam', 'optimizer_kwargs': {'lr': 0.001, 'betas': (0.9, 0.999), 'eps': 1e-08, 'weight_decay': 0, 'amsgrad': False, 'maximize': False, 'foreach': None, 'capturable': False, 'differentiable': False, 'fused': None}, 'training_loop': 'SLCWATrainingLoop', 'training_loop_kwargs': {}, 'evaluator': 'RankBasedEvaluator', 'evaluator_kwargs': {}, 'num_epochs': 200, 'batch_size': 256, 'evaluation_kwargs': {'additional_filter_triples': {'training': {'sha512': 'ae5f3c56c78ec2b46a7db702e4a673634bb05268559d4f66c6c5fc736618f347238a4e247f4e9cacd1128efafab0cac7698f79a3743c31f99b170e3bdf4365a9'}}}}, metadata={}, version='1.10.1', git_hash='UNHASHED')\n",
      "TriplesFactory(num_entities=1901, num_relations=9, create_inverse_triples=False, num_triples=10404)\n"
     ]
    },
    {
     "name": "stderr",
     "output_type": "stream",
     "text": [
      "Training epochs on cpu: 100%|██████████| 200/200 [00:33<00:00,  5.89epoch/s, loss=0.0965, prev_loss=0.0974]\n",
      "INFO:pykeen.evaluation.evaluator:Currently automatic memory optimization only supports GPUs, but you're using a CPU. Therefore, the batch_size will be set to the default value.\n",
      "INFO:pykeen.evaluation.evaluator:No evaluation batch_size provided. Setting batch_size to '32'.\n",
      "Evaluating on cpu: 100%|██████████| 2.60k/2.60k [00:00<00:00, 3.18ktriple/s]\n",
      "INFO:pykeen.evaluation.evaluator:Evaluation took 0.84s seconds\n",
      "INFO:pykeen.triples.triples_factory:Stored TriplesFactory(num_entities=1901, num_relations=9, create_inverse_triples=False, num_triples=10404) to file:///Users/yikaiyang/Projects/SS22-Knowledge-Graph/4_kge/results/TransH/training_triples\n",
      "INFO:pykeen.pipeline.api:Saved to directory: file:///Users/yikaiyang/Projects/SS22-Knowledge-Graph/4_kge/results/TransH\n",
      "INFO:pykeen.triples.splitting:done splitting triples to groups of sizes [8505, 2602]\n",
      "WARNING:pykeen.utils:No cuda devices were available. The model runs on CPU\n",
      "INFO:pykeen.pipeline.api:Using device: None\n"
     ]
    },
    {
     "name": "stdout",
     "output_type": "stream",
     "text": [
      "PipelineResult(random_seed=0, model=TransH(\n",
      "  (loss): MarginRankingLoss(\n",
      "    (margin_activation): ReLU()\n",
      "  )\n",
      "  (interaction): TransHInteraction()\n",
      "  (entity_representations): ModuleList(\n",
      "    (0): Embedding(\n",
      "      (_embeddings): Embedding(1901, 50)\n",
      "    )\n",
      "  )\n",
      "  (relation_representations): ModuleList(\n",
      "    (0-1): 2 x Embedding(\n",
      "      (_embeddings): Embedding(9, 50)\n",
      "    )\n",
      "  )\n",
      "  (weight_regularizers): ModuleList(\n",
      "    (0): NormLimitRegularizer()\n",
      "    (1): OrthogonalityRegularizer()\n",
      "  )\n",
      "), training=TriplesFactory(num_entities=1901, num_relations=9, create_inverse_triples=False, num_triples=10404), training_loop=<pykeen.training.slcwa.SLCWATrainingLoop object at 0x28edc0bb0>, losses=[0.9734620088484229, 0.9059476896030146, 0.8258919526891011, 0.7343478377272443, 0.6609812785939473, 0.5964538934754162, 0.522462314948803, 0.45863630495420316, 0.39010018182963857, 0.33947166146301644, 0.3021462683270617, 0.2683003682915757, 0.25445901402613014, 0.23576457216972257, 0.23306415975093842, 0.2287175153813711, 0.22650780001791512, 0.21578336997729977, 0.21605672741808543, 0.20424762004759253, 0.20259157331978403, 0.2037687105376546, 0.19301342491696521, 0.18961654240038336, 0.18670803490208415, 0.1821997401917853, 0.18601474747425173, 0.1638985919516261, 0.1711431011194136, 0.16919352041512, 0.1646543232406058, 0.16157114905555073, 0.15138397438497078, 0.15285134242802131, 0.14749954077528743, 0.1460530070996866, 0.14237670037077693, 0.14092929970200468, 0.13717775301235477, 0.13215619452842853, 0.132401201419714, 0.13203485982447136, 0.12886105550498497, 0.12775134749528838, 0.12403603988449748, 0.12484811355427998, 0.12427807363068186, 0.12514602011296808, 0.11936531724726282, 0.12876108870273684, 0.12057358426291769, 0.1209188527086886, 0.11759303437500465, 0.11939283623927976, 0.11752488118846242, 0.11413651504894583, 0.11668682552692367, 0.11256665718264697, 0.11542298517576079, 0.11117112436672537, 0.11355192977480771, 0.11182738586169917, 0.11229342058664415, 0.11254770163355804, 0.11088149903751002, 0.11122460645146487, 0.11532332602797485, 0.11104320080541982, 0.10985158838149978, 0.11076234208374489, 0.11028477276970701, 0.10916294811702357, 0.1086478773050192, 0.11124266447817407, 0.11126190732891966, 0.11098134953801225, 0.10998810991281416, 0.11107654560629915, 0.10658958899538691, 0.10794291136468329, 0.1088507493458143, 0.1050283456357514, 0.10550915976849998, 0.1016549462588822, 0.10303314429957693, 0.10502918682447294, 0.10930703625809855, 0.10904165430039894, 0.10592961965537653, 0.10641447600068116, 0.10456923086468767, 0.10125654608738131, 0.10723569353179234, 0.10456080443975402, 0.10353086943306573, 0.10612357226086826, 0.10757435458462412, 0.10601344323012887, 0.10430015314642976, 0.10116741933473726, 0.1019767759049811, 0.10511287756082488, 0.10599112601541891, 0.0994580213616534, 0.10412026487472581, 0.10309044180846796, 0.10680943473083217, 0.10738426192504603, 0.10871425725337935, 0.1030051399294923, 0.1037080188895144, 0.10342243659060175, 0.10040724459217816, 0.09701656241242479, 0.10364832856306215, 0.10385690720343008, 0.1030077618069765, 0.10042259424197965, 0.10255391441467332, 0.10401036790231379, 0.10613164696388128, 0.09777344917742217, 0.10490312572659516, 0.09965714975828077, 0.10469893656852769, 0.0992343037775377, 0.09952351923395948, 0.10131872572549959, 0.10222190963785822, 0.1016330997028002, 0.10154930066044737, 0.10569089487558458, 0.10357645735508059, 0.10091790520563358, 0.1018229826557927, 0.10063446840135062, 0.10148281640395886, 0.10304949668849386, 0.1001885494262707, 0.09824886409247793, 0.10000614930943745, 0.09675358835516906, 0.0989582416851346, 0.0975989010639307, 0.10323516806451286, 0.09984023996242662, 0.09735371435924274, 0.10180057730616593, 0.09829101348068656, 0.09880171207393088, 0.10062495491853575, 0.10341076062219899, 0.09494159125336786, 0.0997110145484529, 0.09810639845161903, 0.09746222815862517, 0.09830707129908771, 0.09788371368152339, 0.09749430572477782, 0.10065384000176336, 0.09925536129896234, 0.09851913790150386, 0.10337954341638379, 0.09817299510284168, 0.092308351724613, 0.10336463716698856, 0.10109406927736794, 0.09834065851641864, 0.10033749625450228, 0.10219673557979304, 0.10226138699345472, 0.0985976121411091, 0.10078691963742419, 0.09740111631591146, 0.09563764529984171, 0.09662534678127707, 0.1039157237221555, 0.09669465026477488, 0.09512027353048325, 0.0986629828083806, 0.09851181343561266, 0.10111465050679881, 0.10136588263075526, 0.09715146825807851, 0.09760386096995051, 0.10000019356971834, 0.09540455806546094, 0.094395460333766, 0.09681591973072146, 0.10016526136456466, 0.09833720562661566, 0.10118976090012527, 0.09951007765967672, 0.1066032482720003, 0.09678413909746379, 0.10161054406951113, 0.09860520609995214, 0.0970715290707786, 0.09744745174922594, 0.09645168392396555], metric_results=<pykeen.evaluation.rank_based_evaluator.RankBasedMetricResults object at 0x28edc05b0>, train_seconds=34.03645706176758, evaluate_seconds=0.8454270362854004, stopper=<pykeen.stoppers.stopper.NopStopper object at 0x28ede9e50>, configuration={'dataset': '<user defined>', 'training': '<user defined>', 'testing': '<user defined>', 'validation': '<user defined>', 'model': 'TransH', 'model_kwargs': {'random_seed': 0, 'loss': MarginRankingLoss(\n",
      "  (margin_activation): ReLU()\n",
      "), 'embedding_dim': 50, 'scoring_fct_norm': 2, 'entity_initializer': <function xavier_normal_ at 0x11f1fa820>, 'entity_regularizer': None, 'entity_regularizer_kwargs': None, 'relation_initializer': <function xavier_normal_ at 0x11f1fa820>, 'relation_regularizer': None, 'relation_regularizer_kwargs': None}, 'loss_kwargs': None, 'regularizer_kwargs': None, 'optimizer': 'Adam', 'optimizer_kwargs': {'lr': 0.001, 'betas': (0.9, 0.999), 'eps': 1e-08, 'weight_decay': 0, 'amsgrad': False, 'maximize': False, 'foreach': None, 'capturable': False, 'differentiable': False, 'fused': None}, 'training_loop': 'SLCWATrainingLoop', 'training_loop_kwargs': {}, 'evaluator': 'RankBasedEvaluator', 'evaluator_kwargs': {}, 'num_epochs': 200, 'batch_size': 256, 'evaluation_kwargs': {'additional_filter_triples': {'training': {'sha512': 'ae5f3c56c78ec2b46a7db702e4a673634bb05268559d4f66c6c5fc736618f347238a4e247f4e9cacd1128efafab0cac7698f79a3743c31f99b170e3bdf4365a9'}}}}, metadata={}, version='1.10.1', git_hash='UNHASHED')\n",
      "TriplesFactory(num_entities=1901, num_relations=9, create_inverse_triples=False, num_triples=10404)\n"
     ]
    },
    {
     "name": "stderr",
     "output_type": "stream",
     "text": [
      "Training epochs on cpu: 100%|██████████| 200/200 [00:36<00:00,  5.47epoch/s, loss=0.0641, prev_loss=0.0651]\n",
      "INFO:pykeen.evaluation.evaluator:Currently automatic memory optimization only supports GPUs, but you're using a CPU. Therefore, the batch_size will be set to the default value.\n",
      "INFO:pykeen.evaluation.evaluator:No evaluation batch_size provided. Setting batch_size to '32'.\n",
      "Evaluating on cpu: 100%|██████████| 2.60k/2.60k [00:01<00:00, 1.51ktriple/s]\n",
      "INFO:pykeen.evaluation.evaluator:Evaluation took 1.75s seconds\n",
      "INFO:pykeen.triples.triples_factory:Stored TriplesFactory(num_entities=1901, num_relations=9, create_inverse_triples=False, num_triples=10404) to file:///Users/yikaiyang/Projects/SS22-Knowledge-Graph/4_kge/results/TransD/training_triples\n",
      "INFO:pykeen.pipeline.api:Saved to directory: file:///Users/yikaiyang/Projects/SS22-Knowledge-Graph/4_kge/results/TransD\n",
      "INFO:pykeen.triples.splitting:done splitting triples to groups of sizes [8505, 2602]\n",
      "WARNING:pykeen.utils:No cuda devices were available. The model runs on CPU\n",
      "INFO:pykeen.pipeline.api:Using device: None\n"
     ]
    },
    {
     "name": "stdout",
     "output_type": "stream",
     "text": [
      "PipelineResult(random_seed=0, model=TransD(\n",
      "  (loss): MarginRankingLoss(\n",
      "    (margin_activation): ReLU()\n",
      "  )\n",
      "  (interaction): TransDInteraction()\n",
      "  (entity_representations): ModuleList(\n",
      "    (0-1): 2 x Embedding(\n",
      "      (_embeddings): Embedding(1901, 50)\n",
      "    )\n",
      "  )\n",
      "  (relation_representations): ModuleList(\n",
      "    (0-1): 2 x Embedding(\n",
      "      (_embeddings): Embedding(9, 50)\n",
      "    )\n",
      "  )\n",
      "  (weight_regularizers): ModuleList()\n",
      "), training=TriplesFactory(num_entities=1901, num_relations=9, create_inverse_triples=False, num_triples=10404), training_loop=<pykeen.training.slcwa.SLCWATrainingLoop object at 0x28edc0400>, losses=[0.9314373673462286, 0.8011449997018023, 0.707262372098318, 0.6158957292393941, 0.5231469782387338, 0.4305992875157333, 0.37620697079635246, 0.3346212411799082, 0.3044402366731225, 0.29394114162863755, 0.27943384211237837, 0.2688746797602351, 0.25965149373542973, 0.24813363864654447, 0.2385030581456859, 0.23952739776634588, 0.23244279877441684, 0.2209218039018352, 0.2146696273873492, 0.2083004793015922, 0.20479424043399533, 0.20206744496415302, 0.18663345604408077, 0.18872379929554173, 0.18070889355205907, 0.17703691415670442, 0.1734419657689769, 0.16758903642980064, 0.16402030718035815, 0.16158110266778528, 0.15777296591095807, 0.15005361016203717, 0.15375297807338761, 0.14211851849061688, 0.14250045142522672, 0.14439368684117387, 0.13654917151462742, 0.13853332109567595, 0.1279352183749036, 0.12679647690639262, 0.13064439322163418, 0.12068673804765795, 0.12370300438345933, 0.12350438862312131, 0.11873604593480505, 0.11397740844546295, 0.11767610289701601, 0.1138836301681472, 0.10969992990537387, 0.10804403736823942, 0.10742375000220973, 0.10565379897995693, 0.10839045193137192, 0.09994367355617081, 0.10206641420358564, 0.10240579214764804, 0.10200806852520966, 0.09210246574224495, 0.09587402578170706, 0.09575648851147513, 0.09214540616404719, 0.09220524059563148, 0.09039055356165258, 0.09186369907565234, 0.09079091532564745, 0.08767532057515005, 0.08695533390088779, 0.08937654680595165, 0.08209653525817685, 0.08347675349654221, 0.08382623642683029, 0.08295840043120267, 0.07290277198502203, 0.08304905064585733, 0.07960957243311696, 0.0817745351573316, 0.07850553186201467, 0.07459670705039327, 0.07748903306882556, 0.07777267503665715, 0.08141522591070431, 0.07932282284629054, 0.07900985348515394, 0.07721487214652503, 0.07715933415584447, 0.07049410145093755, 0.07359049650954037, 0.07284424681125617, 0.07180736659140122, 0.07111106667576766, 0.07248334677481069, 0.07168164722076277, 0.06910459842623734, 0.07120619368989294, 0.07054211299230413, 0.07199645351345946, 0.06552783390734254, 0.07024738728636648, 0.07149534445346856, 0.06882556037205022, 0.06969294451722284, 0.07134636246213098, 0.07442529981092709, 0.0692481369507022, 0.06696466529151289, 0.0689235677624621, 0.069685961415128, 0.06936056212317653, 0.07304446599105509, 0.06660405037606634, 0.07096228285170184, 0.06666584367432245, 0.06950221328837115, 0.06520355047612655, 0.07067362355386339, 0.0711131751900766, 0.06916603564125735, 0.06993548612950778, 0.06990992659475745, 0.06584578734345553, 0.06452499861579115, 0.06746840685969446, 0.06601773184247134, 0.06717842008645941, 0.06777655746696926, 0.06521131461713373, 0.06678205914795399, 0.06594763487213995, 0.06608526917492472, 0.07057806236169688, 0.0636446191588553, 0.06533880440927134, 0.07169767778094221, 0.06450835488191466, 0.06820505298674107, 0.06544127256223341, 0.06902068299127788, 0.06524503994278791, 0.0684700393822135, 0.06574262892145936, 0.06452664051477502, 0.06731869289424361, 0.0638345990602563, 0.07133851027706774, 0.06489427951050968, 0.06513775812416542, 0.06811306680121072, 0.060877820704041456, 0.06775599827126759, 0.06548496926339661, 0.06468652970180279, 0.06619593737328924, 0.0637811147494287, 0.0687610165375035, 0.06761759764901022, 0.06717447977422214, 0.06216707248695013, 0.06554998262081205, 0.0652293420237739, 0.06344257740349304, 0.06617777958148863, 0.06624481545352354, 0.0684639682039255, 0.06536080388397705, 0.0690945471387084, 0.06638485538523371, 0.06491307532641946, 0.06544261834606892, 0.06785144997624362, 0.06408118011384475, 0.06599775483695472, 0.06779521549256837, 0.06712348613797164, 0.06266963936206771, 0.05984906906761774, 0.06712577246674677, 0.05834009389324886, 0.06982488312372347, 0.06495677625260703, 0.06407517421899772, 0.06640435237346626, 0.06553817744843843, 0.06443785326328219, 0.0663558374636057, 0.06542307919845348, 0.06265943620081355, 0.06276750437370161, 0.0625892331505694, 0.06447586476257662, 0.06547647805475607, 0.06524149464761339, 0.06466342763202947, 0.06372204986287326, 0.06546103627216525, 0.06719379563157152, 0.06495704356490112, 0.06499442485410993, 0.05966211528312869, 0.06505345198802831, 0.0640773611461244], metric_results=<pykeen.evaluation.rank_based_evaluator.RankBasedMetricResults object at 0x28ede9490>, train_seconds=36.659005880355835, evaluate_seconds=1.7493550777435303, stopper=<pykeen.stoppers.stopper.NopStopper object at 0x28ede9f40>, configuration={'dataset': '<user defined>', 'training': '<user defined>', 'testing': '<user defined>', 'validation': '<user defined>', 'model': 'TransD', 'model_kwargs': {'random_seed': 0, 'loss': MarginRankingLoss(\n",
      "  (margin_activation): ReLU()\n",
      "), 'embedding_dim': 50, 'relation_dim': None, 'interaction_kwargs': None, 'entity_initializer': <function xavier_uniform_ at 0x28e195d30>, 'relation_initializer': <pykeen.utils.compose object at 0x28e1a1bb0>, 'entity_constrainer': <function clamp_norm at 0x169927550>, 'relation_constrainer': <function clamp_norm at 0x169927550>}, 'loss_kwargs': None, 'regularizer_kwargs': None, 'optimizer': 'Adam', 'optimizer_kwargs': {'lr': 0.001, 'betas': (0.9, 0.999), 'eps': 1e-08, 'weight_decay': 0, 'amsgrad': False, 'maximize': False, 'foreach': None, 'capturable': False, 'differentiable': False, 'fused': None}, 'training_loop': 'SLCWATrainingLoop', 'training_loop_kwargs': {}, 'evaluator': 'RankBasedEvaluator', 'evaluator_kwargs': {}, 'num_epochs': 200, 'batch_size': 256, 'evaluation_kwargs': {'additional_filter_triples': {'training': {'sha512': 'ae5f3c56c78ec2b46a7db702e4a673634bb05268559d4f66c6c5fc736618f347238a4e247f4e9cacd1128efafab0cac7698f79a3743c31f99b170e3bdf4365a9'}}}}, metadata={}, version='1.10.1', git_hash='UNHASHED')\n",
      "TriplesFactory(num_entities=1901, num_relations=9, create_inverse_triples=False, num_triples=10404)\n"
     ]
    },
    {
     "name": "stderr",
     "output_type": "stream",
     "text": [
      "Training epochs on cpu: 100%|██████████| 200/200 [00:54<00:00,  3.68epoch/s, loss=0.0543, prev_loss=0.0541]\n",
      "INFO:pykeen.evaluation.evaluator:Currently automatic memory optimization only supports GPUs, but you're using a CPU. Therefore, the batch_size will be set to the default value.\n",
      "INFO:pykeen.evaluation.evaluator:No evaluation batch_size provided. Setting batch_size to '32'.\n",
      "Evaluating on cpu: 100%|██████████| 2.60k/2.60k [00:02<00:00, 956triple/s]\n",
      "INFO:pykeen.evaluation.evaluator:Evaluation took 2.75s seconds\n",
      "INFO:pykeen.triples.triples_factory:Stored TriplesFactory(num_entities=1901, num_relations=9, create_inverse_triples=False, num_triples=10404) to file:///Users/yikaiyang/Projects/SS22-Knowledge-Graph/4_kge/results/RotatE/training_triples\n",
      "INFO:pykeen.pipeline.api:Saved to directory: file:///Users/yikaiyang/Projects/SS22-Knowledge-Graph/4_kge/results/RotatE\n",
      "INFO:pykeen.triples.splitting:done splitting triples to groups of sizes [8505, 2602]\n",
      "WARNING:pykeen.utils:No cuda devices were available. The model runs on CPU\n",
      "INFO:pykeen.pipeline.api:Using device: None\n",
      "WARNING:pykeen.models.unimodal.conv_e:\n",
      "The ConvE model should be trained with inverse triples.\n",
      "This can be done by defining the TriplesFactory class with the _create_inverse_triples_ parameter set to true.\n",
      "INFO:pykeen.nn.modules:Resolving None * None * None = 200.\n",
      "INFO:pykeen.nn.modules:Resolved to 1 * 20 * 10 = 200.\n"
     ]
    },
    {
     "name": "stdout",
     "output_type": "stream",
     "text": [
      "PipelineResult(random_seed=0, model=RotatE(\n",
      "  (loss): MarginRankingLoss(\n",
      "    (margin_activation): ReLU()\n",
      "  )\n",
      "  (interaction): RotatEInteraction()\n",
      "  (entity_representations): ModuleList(\n",
      "    (0): Embedding(\n",
      "      (_embeddings): Embedding(1901, 400)\n",
      "    )\n",
      "  )\n",
      "  (relation_representations): ModuleList(\n",
      "    (0): Embedding(\n",
      "      (_embeddings): Embedding(9, 400)\n",
      "    )\n",
      "  )\n",
      "  (weight_regularizers): ModuleList()\n",
      "), training=TriplesFactory(num_entities=1901, num_relations=9, create_inverse_triples=False, num_triples=10404), training_loop=<pykeen.training.slcwa.SLCWATrainingLoop object at 0x28edb3730>, losses=[0.9369127474180082, 0.7818712403134602, 0.6460134285252269, 0.5419303513154751, 0.47742624326450067, 0.4481342027827007, 0.42971511003447743, 0.41427465764487664, 0.38790990812022513, 0.38080929401444225, 0.3623955867639402, 0.3478671777539137, 0.3346825576410061, 0.3174407365845471, 0.29940515829295644, 0.2935860578606768, 0.2714170413773234, 0.2528545634775627, 0.23597680359351925, 0.22019745009701427, 0.2075298424901032, 0.19159490996744574, 0.17979110559312309, 0.16591145716062405, 0.1558805022661279, 0.13605580696972405, 0.12502742267963363, 0.11825585020024602, 0.114802805752289, 0.10468217294390608, 0.0936690892388181, 0.09199437426357734, 0.08711172004298466, 0.0810384428719195, 0.07832281754874601, 0.07659863671515046, 0.07582336564253016, 0.07351873969522918, 0.07028603462911234, 0.07424816934437287, 0.06818508238690656, 0.06435805404695069, 0.07223294484542638, 0.0669944282712006, 0.06691692533289514, 0.0663433301194412, 0.06512280535407183, 0.0655197093217838, 0.06412144777614896, 0.06594036683076765, 0.06594812597443418, 0.06348847720499445, 0.06486041798460775, 0.058854469711460716, 0.06330312016170199, 0.06430306653605729, 0.06427002970765276, 0.060877583375791224, 0.06346569346582018, 0.06167610016901318, 0.06387602574214703, 0.06101308299637422, 0.06619318756388455, 0.06355621765662985, 0.06384799320523332, 0.06208777745685926, 0.06154687534563425, 0.057494553669196806, 0.06292653147403787, 0.06360638386956076, 0.059810067776863166, 0.06155494327952222, 0.0598008534530314, 0.061412683574528226, 0.06255264212263793, 0.06001602313140544, 0.057062572095452284, 0.06059163854253001, 0.06138038280897024, 0.05827983296135577, 0.06176184717474914, 0.05871348828077316, 0.06337415681379598, 0.06254193895473713, 0.06114150938100931, 0.06462909353942406, 0.06328297951599447, 0.060292461841571623, 0.05976654861758395, 0.05925599976283748, 0.060537167892950335, 0.0577505329941831, 0.05827815630813924, 0.058298996218094014, 0.059425235794084826, 0.06683586029017843, 0.058874326144776695, 0.0587699549590669, 0.05750082160641507, 0.06060869919090736, 0.06097694695359323, 0.059458580322381924, 0.061708388441219564, 0.059713724546316196, 0.05972010237959827, 0.055736309462567656, 0.05987162915308301, 0.05808181924427428, 0.062199884525886394, 0.06171434599815345, 0.06061433192069938, 0.05707326504151996, 0.05658001997848836, 0.06189661345830778, 0.05709750705012461, 0.05922065648000415, 0.05872367549596763, 0.061835701236637626, 0.05692914373627523, 0.05539084380356277, 0.06058888491697428, 0.061933037529631356, 0.05879368451310367, 0.056574494282646874, 0.056181155599471996, 0.05676835071204639, 0.060791857994911144, 0.059176565534094484, 0.06048438112001594, 0.05902000780149204, 0.05675647544061265, 0.05954937691368708, 0.05962056743844253, 0.0595660541297459, 0.06210174247985933, 0.058184359449802374, 0.05642692758361014, 0.05418449958286634, 0.057654307292002, 0.057391499419037886, 0.05619735325255045, 0.057482617657359056, 0.05681543879029227, 0.05721371475516296, 0.057199041018398795, 0.06167819032945284, 0.05667260175616276, 0.05759313343683394, 0.058584982620143305, 0.05777317421828828, 0.05513453031549367, 0.056566985460316264, 0.05723279187592065, 0.05747135592306533, 0.05685762986086491, 0.05684266793655186, 0.0558227398773519, 0.055678321502921055, 0.060363444613247386, 0.0544857370962457, 0.05241852371794421, 0.05572390869804999, 0.05406050947381229, 0.049956053949710796, 0.055179984604076644, 0.05794403629332054, 0.057491310803991995, 0.05968733186401972, 0.057168972065172546, 0.05362092244734124, 0.05641996587921933, 0.05599641277477509, 0.05918765704079372, 0.0569282892818858, 0.056477673079182465, 0.054642874111489555, 0.05261039606681684, 0.056525357340167205, 0.059828165191702726, 0.05972622253182458, 0.055261245769698444, 0.05494371070185813, 0.055025189478949806, 0.053388478279840654, 0.05674611200101492, 0.054552453093049, 0.05323530724499284, 0.05706264651039752, 0.054547145281259604, 0.05556109561244162, 0.05746954815780244, 0.05180177078923074, 0.05617362742380398, 0.054091708189467104, 0.05713663709054633, 0.055824259659502565, 0.053571292358200726, 0.05408136628386451, 0.05412057196585143, 0.0542686299034735], metric_results=<pykeen.evaluation.rank_based_evaluator.RankBasedMetricResults object at 0x28ede97c0>, train_seconds=54.422290086746216, evaluate_seconds=2.75179123878479, stopper=<pykeen.stoppers.stopper.NopStopper object at 0x28edc0370>, configuration={'dataset': '<user defined>', 'training': '<user defined>', 'testing': '<user defined>', 'validation': '<user defined>', 'model': 'RotatE', 'model_kwargs': {'random_seed': 0, 'loss': MarginRankingLoss(\n",
      "  (margin_activation): ReLU()\n",
      "), 'embedding_dim': 200, 'entity_initializer': <function xavier_uniform_ at 0x28e195d30>, 'relation_initializer': <function init_phases at 0x28e3161f0>, 'relation_constrainer': <function complex_normalize at 0x16992e550>, 'regularizer': None, 'regularizer_kwargs': None}, 'loss_kwargs': None, 'regularizer_kwargs': None, 'optimizer': 'Adam', 'optimizer_kwargs': {'lr': 0.001, 'betas': (0.9, 0.999), 'eps': 1e-08, 'weight_decay': 0, 'amsgrad': False, 'maximize': False, 'foreach': None, 'capturable': False, 'differentiable': False, 'fused': None}, 'training_loop': 'SLCWATrainingLoop', 'training_loop_kwargs': {}, 'evaluator': 'RankBasedEvaluator', 'evaluator_kwargs': {}, 'num_epochs': 200, 'batch_size': 256, 'evaluation_kwargs': {'additional_filter_triples': {'training': {'sha512': 'ae5f3c56c78ec2b46a7db702e4a673634bb05268559d4f66c6c5fc736618f347238a4e247f4e9cacd1128efafab0cac7698f79a3743c31f99b170e3bdf4365a9'}}}}, metadata={}, version='1.10.1', git_hash='UNHASHED')\n",
      "TriplesFactory(num_entities=1901, num_relations=9, create_inverse_triples=False, num_triples=10404)\n"
     ]
    },
    {
     "name": "stderr",
     "output_type": "stream",
     "text": [
      "Training epochs on cpu:   0%|          | 0/200 [00:00<?, ?epoch/s]INFO:pykeen.training.training_loop:Dropping last (incomplete) batch each epoch (1/40 (2.50%) batches).\n",
      "Training epochs on cpu: 100%|██████████| 200/200 [08:59<00:00,  2.70s/epoch, loss=0.00103, prev_loss=0.00158] \n",
      "INFO:pykeen.evaluation.evaluator:Currently automatic memory optimization only supports GPUs, but you're using a CPU. Therefore, the batch_size will be set to the default value.\n",
      "INFO:pykeen.evaluation.evaluator:No evaluation batch_size provided. Setting batch_size to '32'.\n",
      "Evaluating on cpu: 100%|██████████| 2.60k/2.60k [01:37<00:00, 26.6triple/s]\n",
      "INFO:pykeen.evaluation.evaluator:Evaluation took 97.77s seconds\n",
      "INFO:pykeen.triples.triples_factory:Stored TriplesFactory(num_entities=1901, num_relations=9, create_inverse_triples=False, num_triples=10404) to file:///Users/yikaiyang/Projects/SS22-Knowledge-Graph/4_kge/results/ConvE/training_triples\n",
      "INFO:pykeen.pipeline.api:Saved to directory: file:///Users/yikaiyang/Projects/SS22-Knowledge-Graph/4_kge/results/ConvE\n"
     ]
    },
    {
     "name": "stdout",
     "output_type": "stream",
     "text": [
      "PipelineResult(random_seed=0, model=ConvE(\n",
      "  (loss): MarginRankingLoss(\n",
      "    (margin_activation): ReLU()\n",
      "  )\n",
      "  (interaction): ConvEInteraction(\n",
      "    (hr2d): Sequential(\n",
      "      (0): BatchNorm2d(1, eps=1e-05, momentum=0.1, affine=True, track_running_stats=True)\n",
      "      (1): Dropout(p=0.2, inplace=False)\n",
      "      (2): Conv2d(1, 32, kernel_size=(3, 3), stride=(1, 1))\n",
      "      (3): BatchNorm2d(32, eps=1e-05, momentum=0.1, affine=True, track_running_stats=True)\n",
      "      (4): ReLU()\n",
      "      (5): Dropout2d(p=0.2, inplace=False)\n",
      "    )\n",
      "    (hr1d): Sequential(\n",
      "      (0): Linear(in_features=10368, out_features=200, bias=True)\n",
      "      (1): Dropout(p=0.3, inplace=False)\n",
      "      (2): BatchNorm1d(200, eps=1e-05, momentum=0.1, affine=True, track_running_stats=True)\n",
      "      (3): ReLU()\n",
      "    )\n",
      "  )\n",
      "  (entity_representations): ModuleList(\n",
      "    (0): Embedding(\n",
      "      (_embeddings): Embedding(1901, 200)\n",
      "    )\n",
      "    (1): Embedding(\n",
      "      (_embeddings): Embedding(1901, 1)\n",
      "    )\n",
      "  )\n",
      "  (relation_representations): ModuleList(\n",
      "    (0): Embedding(\n",
      "      (_embeddings): Embedding(9, 200)\n",
      "    )\n",
      "  )\n",
      "  (weight_regularizers): ModuleList()\n",
      "), training=TriplesFactory(num_entities=1901, num_relations=9, create_inverse_triples=False, num_triples=10404), training_loop=<pykeen.training.slcwa.SLCWATrainingLoop object at 0x28ede56d0>, losses=[0.8924474269151688, 0.741683553159237, 0.6567068234086036, 0.5898014545440674, 0.5182823278009892, 0.43199808821082114, 0.3766463458538055, 0.3062301602214575, 0.25952441729605197, 0.2407405164092779, 0.21131393872201443, 0.1825928796082735, 0.17594208419322968, 0.15370530243963004, 0.1377409093081951, 0.1261018943041563, 0.11105675995349884, 0.10293684592470527, 0.09353758618235589, 0.07730669751763344, 0.07450755247846245, 0.07230121456086636, 0.058503434620797636, 0.05152264556381851, 0.04989601362030953, 0.04441306036897004, 0.04173342622816563, 0.03508911712560803, 0.03407826693728566, 0.03075916940579191, 0.0322195990011096, 0.029424832994118334, 0.02593913805903867, 0.024319284502416848, 0.0229559114202857, 0.023935866355895997, 0.021214160620002077, 0.018842892808606848, 0.01759548849076964, 0.016927141830092297, 0.015301959542557596, 0.016700743656838313, 0.016693702974589542, 0.01480868307990022, 0.014054174028569833, 0.012151736568193882, 0.01409805152215995, 0.01339810602949001, 0.011604904080741107, 0.011416762717999518, 0.009597699722507968, 0.01169444682309404, 0.01106589323026128, 0.010542756837094203, 0.008981098572257906, 0.009840722905937582, 0.00835326373926364, 0.009659779036883264, 0.007695855724159628, 0.008662830444518477, 0.00893425290705636, 0.008455681084888056, 0.006674377684248611, 0.00792992475326173, 0.006103694083867595, 0.0051632200367748736, 0.008174962381599472, 0.010308710037497804, 0.007808482891414314, 0.006240721442736685, 0.005209452169947326, 0.006182245368836448, 0.006619860330829397, 0.004817244317382574, 0.004853836359689012, 0.006017714913468808, 0.00567129003466107, 0.004791952244704589, 0.004915104404790327, 0.004672238603234291, 0.006627386930631474, 0.004682933987351134, 0.005510330066317693, 0.0044687496847473085, 0.005590417375788093, 0.005027775128837675, 0.003996270516654477, 0.004213378619169816, 0.005140126874903217, 0.004368232982233167, 0.005279867979697883, 0.003373759245732799, 0.003955058509018272, 0.0037430406897328793, 0.0034555352875031533, 0.00490321169490926, 0.004124596412293613, 0.0035052553343120963, 0.004988643602700904, 0.003697620506864041, 0.003471207228722051, 0.0035642551316414028, 0.003685932740336284, 0.0029417819692753254, 0.004152250930201262, 0.0031040925823617727, 0.003183241107035428, 0.00380775262019597, 0.0029713208321481945, 0.0027218811388593166, 0.0036621136590838433, 0.0029507600993383676, 0.0036607087240554392, 0.0035647439770400526, 0.004450863262172788, 0.003033000376308337, 0.003200796229066327, 0.004058034007903189, 0.0025369177921675144, 0.0026628062885720285, 0.004144655668642372, 0.0033854220295324922, 0.0023131482594180852, 0.0038778293936047705, 0.0029363206936977803, 0.0024195971491280943, 0.0031885149131994695, 0.002536108664935455, 0.0029713815602008253, 0.003437424672301859, 0.0025573972903657704, 0.00282185819814913, 0.0023924988054204732, 0.003748132451437414, 0.0031335885229054838, 0.004107911657774821, 0.003484815632691607, 0.002761097624897957, 0.0024870262946933507, 0.0023437189985997973, 0.002125151932705194, 0.0024380817485507578, 0.0015441805124282836, 0.0026117634144611655, 0.002303637785371393, 0.002569739002501592, 0.0018536119663622231, 0.002559631475014612, 0.0016643118637148292, 0.001751828851411119, 0.0013376320770476014, 0.0038264091999735683, 0.001949183875694871, 0.0026037814386654645, 0.001985562819754705, 0.0023480050847865643, 0.0016805427498184145, 0.002408735413337126, 0.0028636298433411867, 0.0024783118278719485, 0.0024438204476609827, 0.0015834823600016535, 0.0017698062642011792, 0.0023086960660293697, 0.0019914846401661635, 0.0017512778926175089, 0.0021157872455660255, 0.0018429123272653669, 0.0015921730431728066, 0.0009321060497313738, 0.0023468091269023715, 0.0025061986525543034, 0.0021524034207686784, 0.0017143574834335596, 0.0009059638658072799, 0.0011655670998152346, 0.000938645878341049, 0.0013180862064473332, 0.001735752896638587, 0.001999564137076959, 0.0011566815082915127, 0.0022914468601811675, 0.000826165423495695, 0.0017216200940310955, 0.0011237918108236045, 0.0026112249586731197, 0.0016049418540205807, 0.00139831897104159, 0.0024862809863407166, 0.0022302942466922103, 0.001509832253213972, 0.0024120627378579227, 0.0014699207153171302, 0.0019023388798814268, 0.001628839218756184, 0.0009418115834705532, 0.0012945403228513896, 0.0020981776528060437, 0.0015835141064599156, 0.0010298489942215383], metric_results=<pykeen.evaluation.rank_based_evaluator.RankBasedMetricResults object at 0x28edc01c0>, train_seconds=539.271938085556, evaluate_seconds=97.77015495300293, stopper=<pykeen.stoppers.stopper.NopStopper object at 0x28ede9bb0>, configuration={'dataset': '<user defined>', 'training': '<user defined>', 'testing': '<user defined>', 'validation': '<user defined>', 'model': 'ConvE', 'model_kwargs': {'random_seed': 0, 'loss': MarginRankingLoss(\n",
      "  (margin_activation): ReLU()\n",
      "), 'input_channels': None, 'output_channels': 32, 'embedding_height': None, 'embedding_width': None, 'kernel_height': 3, 'kernel_width': 3, 'input_dropout': 0.2, 'output_dropout': 0.3, 'feature_map_dropout': 0.2, 'embedding_dim': 200, 'apply_batch_normalization': True, 'entity_initializer': <function xavier_normal_ at 0x28e307700>, 'relation_initializer': <function xavier_normal_ at 0x28e307700>}, 'loss_kwargs': None, 'regularizer_kwargs': None, 'optimizer': 'Adam', 'optimizer_kwargs': {'lr': 0.001, 'betas': (0.9, 0.999), 'eps': 1e-08, 'weight_decay': 0, 'amsgrad': False, 'maximize': False, 'foreach': None, 'capturable': False, 'differentiable': False, 'fused': None}, 'training_loop': 'SLCWATrainingLoop', 'training_loop_kwargs': {}, 'evaluator': 'RankBasedEvaluator', 'evaluator_kwargs': {}, 'num_epochs': 200, 'batch_size': 256, 'evaluation_kwargs': {'additional_filter_triples': {'training': {'sha512': 'ae5f3c56c78ec2b46a7db702e4a673634bb05268559d4f66c6c5fc736618f347238a4e247f4e9cacd1128efafab0cac7698f79a3743c31f99b170e3bdf4365a9'}}}}, metadata={}, version='1.10.1', git_hash='UNHASHED')\n"
     ]
    }
   ],
   "source": [
    "from training import train\n",
    "models = ['TransE', 'TransH', 'TransD', 'RotatE', 'ConvE']\n",
    "EPOCHS = 200\n",
    "train(models=models,epochs=EPOCHS)"
   ]
  },
  {
   "cell_type": "code",
   "execution_count": 3,
   "metadata": {},
   "outputs": [
    {
     "name": "stdout",
     "output_type": "stream",
     "text": [
      "<h3>Head Entity Prediction</h3>\n",
      "\n",
      "|Model   |MR   |hits@10 |hits@3 | hits@1|\n",
      "|---|---|---|---|---|\n",
      "|TransD   |13.30284396617986   |76.21%   |49.35%   |39.12%   |\n",
      "|TransE   |51.73635664873174   |64.91%   |56.03%   |46.08%   |\n",
      "|TransH   |8.574558032282859   |75.83%   |64.03%   |51.04%   |\n",
      "|RotatE   |13.443120676402767   |80.71%   |66.99%   |51.00%   |\n",
      "|ConvE   |160.67140661029978   |43.35%   |28.25%   |14.53%   |\n",
      "<h3>Tail Entity Prediction</h3>\n",
      "\n",
      "|Model   |MR   |hits@10 |hits@3 | hits@1|\n",
      "|---|---|---|---|---|\n",
      "|TransD   |12.627978478093773   |76.59%   |63.45%   |42.24%   |\n",
      "|TransE   |45.26825518831668   |65.95%   |58.30%   |47.35%   |\n",
      "|TransH   |9.043812451960031   |75.63%   |64.03%   |58.57%   |\n",
      "|RotatE   |11.03305149884704   |77.56%   |66.68%   |62.03%   |\n",
      "|ConvE   |77.24980784012298   |60.61%   |47.62%   |32.17%   |\n"
     ]
    }
   ],
   "source": [
    "from print_results import print_results\n",
    "print_results(write_to_file=False)"
   ]
  },
  {
   "cell_type": "markdown",
   "metadata": {},
   "source": [
    "Training results for Epochs = 400"
   ]
  },
  {
   "cell_type": "code",
   "execution_count": 4,
   "metadata": {},
   "outputs": [
    {
     "name": "stderr",
     "output_type": "stream",
     "text": [
      "INFO:pykeen.triples.splitting:done splitting triples to groups of sizes [8505, 2602]\n",
      "WARNING:pykeen.utils:No cuda devices were available. The model runs on CPU\n",
      "INFO:pykeen.pipeline.api:Using device: None\n"
     ]
    },
    {
     "name": "stdout",
     "output_type": "stream",
     "text": [
      "TriplesFactory(num_entities=1901, num_relations=9, create_inverse_triples=False, num_triples=10404)\n"
     ]
    },
    {
     "name": "stderr",
     "output_type": "stream",
     "text": [
      "Training epochs on cpu: 100%|██████████| 400/400 [00:46<00:00,  8.60epoch/s, loss=0.0476, prev_loss=0.0485]\n",
      "INFO:pykeen.evaluation.evaluator:Currently automatic memory optimization only supports GPUs, but you're using a CPU. Therefore, the batch_size will be set to the default value.\n",
      "INFO:pykeen.evaluation.evaluator:No evaluation batch_size provided. Setting batch_size to '32'.\n",
      "Evaluating on cpu: 100%|██████████| 2.60k/2.60k [00:01<00:00, 1.57ktriple/s]\n",
      "INFO:pykeen.evaluation.evaluator:Evaluation took 1.68s seconds\n",
      "INFO:pykeen.triples.triples_factory:Stored TriplesFactory(num_entities=1901, num_relations=9, create_inverse_triples=False, num_triples=10404) to file:///Users/yikaiyang/Projects/SS22-Knowledge-Graph/4_kge/results/TransE/training_triples\n",
      "INFO:pykeen.pipeline.api:Saved to directory: file:///Users/yikaiyang/Projects/SS22-Knowledge-Graph/4_kge/results/TransE\n",
      "INFO:pykeen.triples.splitting:done splitting triples to groups of sizes [8505, 2602]\n",
      "WARNING:pykeen.utils:No cuda devices were available. The model runs on CPU\n",
      "INFO:pykeen.pipeline.api:Using device: None\n"
     ]
    },
    {
     "name": "stdout",
     "output_type": "stream",
     "text": [
      "PipelineResult(random_seed=0, model=TransE(\n",
      "  (loss): MarginRankingLoss(\n",
      "    (margin_activation): ReLU()\n",
      "  )\n",
      "  (interaction): TransEInteraction()\n",
      "  (entity_representations): ModuleList(\n",
      "    (0): Embedding(\n",
      "      (_embeddings): Embedding(1901, 50)\n",
      "    )\n",
      "  )\n",
      "  (relation_representations): ModuleList(\n",
      "    (0): Embedding(\n",
      "      (_embeddings): Embedding(9, 50)\n",
      "    )\n",
      "  )\n",
      "  (weight_regularizers): ModuleList()\n",
      "), training=TriplesFactory(num_entities=1901, num_relations=9, create_inverse_triples=False, num_triples=10404), training_loop=<pykeen.training.slcwa.SLCWATrainingLoop object at 0x28f2fbbb0>, losses=[1.0786568566066463, 0.9232651940206202, 0.8187671245598211, 0.7244564919936948, 0.6704642903514024, 0.6115075945854187, 0.5599342562803408, 0.4996411342446397, 0.46094465183048716, 0.42520467464516803, 0.38052714888642475, 0.3496545938456931, 0.32538308530319027, 0.29277964118050365, 0.2663945512073796, 0.2402598567125274, 0.21765898313464188, 0.20477246547617564, 0.18374136653615208, 0.1818058447140019, 0.16439190216180755, 0.1570801556837268, 0.14705393935849026, 0.13754110238174114, 0.1349879239753979, 0.13327319701997245, 0.1260312225033597, 0.11667157854975724, 0.11402407015969114, 0.11135051599363001, 0.10435216256031175, 0.10735002532601357, 0.0989465758931346, 0.09546609004823173, 0.0967964290118799, 0.09434202476972486, 0.08964814827209566, 0.08973686169923806, 0.09052701648779032, 0.08638280843634431, 0.0847445443817755, 0.08458189893423057, 0.08428280637031649, 0.08455212795879782, 0.08094955662765153, 0.07394026056295488, 0.07676128829579527, 0.07513451903331571, 0.07928436603851435, 0.07732628840135365, 0.07802500702985903, 0.07832890385534705, 0.07308347432351694, 0.07639193934638326, 0.0701416116207838, 0.07155016818787993, 0.07019579519585865, 0.06582035042527246, 0.0706805383286825, 0.06470926964610088, 0.0696470612978063, 0.06805143896036031, 0.07690952881807234, 0.06936233508877637, 0.07070133398945738, 0.0715741766843854, 0.06902993070643122, 0.07099930269689095, 0.06705804041972975, 0.07085090185083993, 0.06473494966219111, 0.06463656306448506, 0.0682077498697653, 0.06887764856219292, 0.060938404282418694, 0.0672383444701753, 0.06277552301563867, 0.06065508536994457, 0.0634210933817596, 0.059118153572809404, 0.06338154188380009, 0.059137067325958394, 0.061026419671933826, 0.06596043351583364, 0.061369596548923634, 0.060760630612693184, 0.06509500723786471, 0.06975986236115782, 0.06492433669727023, 0.06176418938287875, 0.06394539564484503, 0.06220419268782546, 0.06393932805555623, 0.06337999152701075, 0.0659256375326616, 0.06862621690805365, 0.06299574491454334, 0.060898697412595515, 0.0584027100717876, 0.06107989403351051, 0.06362063837487524, 0.06416865501825403, 0.06064257121122465, 0.05682214199588066, 0.05852480532556045, 0.06351099908351898, 0.061681103597326974, 0.057524058740676905, 0.060024341977224116, 0.05427800041691559, 0.06112481962616851, 0.05895823294796595, 0.06189796669272388, 0.05921426865204078, 0.057305545795981475, 0.06680964278738673, 0.061613234668606666, 0.05381537923907361, 0.0659526358472138, 0.056011440368687236, 0.060867992570487466, 0.05906439481711969, 0.05970048690896209, 0.05616704310949256, 0.056822220772141364, 0.05599292767484013, 0.05893940364987385, 0.062369949070782194, 0.059080557488813634, 0.06033316418165114, 0.05956468826568708, 0.05787935680369052, 0.059165157922884314, 0.05734130481212604, 0.05846470408141613, 0.05845634157701236, 0.0629940459550154, 0.05943260755299068, 0.05504424311220646, 0.06115045316699075, 0.05592213225800816, 0.056360761385138444, 0.06113019999025798, 0.06168043631605986, 0.05651824085450754, 0.05285500666898925, 0.05714596171931523, 0.05332252533152336, 0.05910180577235978, 0.05664904283859381, 0.05616234538213509, 0.05924431552610746, 0.058501779033643446, 0.05593815109715229, 0.05760849971415066, 0.06065744624995604, 0.05614104635286622, 0.05645096292946397, 0.05595167998860522, 0.050496778382760725, 0.054016520064778445, 0.062498650581734934, 0.058708381452938406, 0.05615977929314462, 0.056416249129830336, 0.054582326150522, 0.05656361511749465, 0.059473108454811865, 0.053533217256389015, 0.05851163410740655, 0.05903944613911757, 0.05873591998001424, 0.05436231264072221, 0.05699175210079042, 0.05366849844775549, 0.05551343470266679, 0.05773128614556498, 0.05908831944916307, 0.05427113434345257, 0.05443476990047025, 0.05405536671055526, 0.05481179712749109, 0.0515719138812728, 0.05348120102795159, 0.05630064383149147, 0.06036424732244596, 0.05518936197750452, 0.06082624242436595, 0.052182709525634606, 0.05938103527012395, 0.053569019885688296, 0.058113466357675995, 0.05838379681837268, 0.0541326588065159, 0.05440443477070913, 0.058377841305805415, 0.05922542671423133, 0.052621888451096485, 0.057643270029163945, 0.05732783007367355, 0.057969970492328084, 0.05866179410822508, 0.059049306982537596, 0.055983282125941135, 0.049159271188262035, 0.05573460300702874, 0.05074265022285101, 0.053516592148963996, 0.055059539154171944, 0.05453789397710707, 0.055771386478005384, 0.05120797573429782, 0.05567282538225011, 0.05336716357709431, 0.05653386990108141, 0.057846911842139755, 0.051646110079273944, 0.05112319330616695, 0.054102462148521005, 0.05643036293729049, 0.05720000909414233, 0.05374020778733056, 0.05271788818261972, 0.052048413128387636, 0.0567368770517954, 0.05444589643398436, 0.055813592199872177, 0.0558020403018085, 0.057022488880448224, 0.05888319442548403, 0.05425462444744459, 0.055150717996606015, 0.05864945662821212, 0.053787525016360166, 0.05389922362093518, 0.058558469956241005, 0.056109254770889516, 0.05176036446014556, 0.0546893428829385, 0.05160751375483304, 0.05481684021651745, 0.05352028963587633, 0.05511175763861435, 0.052082955700958646, 0.05401016367463077, 0.05022960565075642, 0.055228012591236976, 0.05258420491363944, 0.05300938097260347, 0.0519892223997087, 0.05592818417381949, 0.0565802503104617, 0.05430652832657826, 0.05455766922635276, 0.054073998477400805, 0.04942826090789423, 0.050287746074723035, 0.05623539173748435, 0.0547401725609855, 0.05317134946221259, 0.050666622090630414, 0.054094354644781205, 0.05385471376158842, 0.05229987199531823, 0.05001983873364402, 0.0551129343306146, 0.04987455073108033, 0.05854992718413109, 0.0533239735154117, 0.05000826030424455, 0.05287309224921756, 0.05255885185991845, 0.056120111039135515, 0.05527134525884942, 0.05583511551887524, 0.05291231953334517, 0.05267748695502921, 0.05402132528039014, 0.0531240336869548, 0.0540777447110996, 0.05501093624568567, 0.05237849342932061, 0.05331193083306638, 0.055414507029260075, 0.05792971659542584, 0.0534716960406158, 0.051072107446266383, 0.05581980184992639, 0.05974029640598995, 0.04710985929137323, 0.0473756852400739, 0.05501171124235886, 0.050077850816816816, 0.05221496972187263, 0.05767077198479234, 0.05380370549675895, 0.050967486756967335, 0.0551522075221306, 0.05438759813948375, 0.051157599315047264, 0.0537900284568711, 0.04852898317820779, 0.05573621991930938, 0.05619594522910874, 0.05007956635842963, 0.05260126274533388, 0.05798320899285921, 0.053277976129476615, 0.049746953768701085, 0.05118249579355484, 0.052733803031648076, 0.05404198133363956, 0.052082284966983444, 0.04667769072622788, 0.05231196728603142, 0.05223664073500692, 0.050744954360330975, 0.05470494589791065, 0.05361823637674495, 0.048291346012819106, 0.04856083728373051, 0.049810781120890525, 0.05838943718046677, 0.05158869554175109, 0.05017347234051402, 0.050774418499048166, 0.05480744966828242, 0.05449622101718333, 0.05563846444029633, 0.054139380502264675, 0.05567070033128669, 0.05810789473173095, 0.04838344904525978, 0.049083611950641724, 0.05599200770985789, 0.05620436652041063, 0.052968974611381205, 0.055097210879732926, 0.05028696635329142, 0.05529262184551576, 0.05154738307180928, 0.05424986547994905, 0.053669948130846024, 0.05381101692413411, 0.05154121553570759, 0.052300806861461664, 0.050881726803576076, 0.0509780092028583, 0.054115086021583256, 0.05281737864744372, 0.05106758730622327, 0.05824530815205923, 0.054080314116507044, 0.051457754677025284, 0.052756488595793884, 0.055880458071464446, 0.05310148900238479, 0.05014879606300738, 0.05359645187854767, 0.05268698957998578, 0.050512787408945034, 0.04835261368170017, 0.049472350490892804, 0.05235161986656305, 0.05185347827287709, 0.05730365741452793, 0.05126148012534874, 0.05334658848076332, 0.05859843246275332, 0.052721254073265125, 0.049670236730357496, 0.052189894020557404, 0.05159539370456847, 0.04894125984027618, 0.055002232968080336, 0.04883914213718438, 0.053859998631041225, 0.053602819989730675, 0.05100904900308063, 0.054040577762374066, 0.05268955317030593, 0.04988075715557831, 0.05520375195618083, 0.051604470919545106, 0.05250866088743617, 0.05202016602383881, 0.05064918482448996, 0.04845059976526877, 0.05155115888067862, 0.048846907141368565, 0.05425154890229062, 0.05721041528371776, 0.050949130979616467, 0.0543553954580935, 0.05092925510210235, 0.049300032531524575, 0.051635748138878404, 0.05393665084024755, 0.04845763120527675, 0.047610095724826905], metric_results=<pykeen.evaluation.rank_based_evaluator.RankBasedMetricResults object at 0x28f2fbd90>, train_seconds=46.5972421169281, evaluate_seconds=1.6843690872192383, stopper=<pykeen.stoppers.stopper.NopStopper object at 0x28edc0d60>, configuration={'dataset': '<user defined>', 'training': '<user defined>', 'testing': '<user defined>', 'validation': '<user defined>', 'model': 'TransE', 'model_kwargs': {'random_seed': 0, 'loss': MarginRankingLoss(\n",
      "  (margin_activation): ReLU()\n",
      "), 'embedding_dim': 50, 'scoring_fct_norm': 1, 'entity_initializer': <function xavier_uniform_ at 0x28e195d30>, 'entity_constrainer': <function normalize at 0x11f1f2a60>, 'relation_initializer': <pykeen.utils.compose object at 0x28e1a1bb0>, 'relation_constrainer': None, 'regularizer': None, 'regularizer_kwargs': None}, 'loss_kwargs': None, 'regularizer_kwargs': None, 'optimizer': 'Adam', 'optimizer_kwargs': {'lr': 0.001, 'betas': (0.9, 0.999), 'eps': 1e-08, 'weight_decay': 0, 'amsgrad': False, 'maximize': False, 'foreach': None, 'capturable': False, 'differentiable': False, 'fused': None}, 'training_loop': 'SLCWATrainingLoop', 'training_loop_kwargs': {}, 'evaluator': 'RankBasedEvaluator', 'evaluator_kwargs': {}, 'num_epochs': 400, 'batch_size': 256, 'evaluation_kwargs': {'additional_filter_triples': {'training': {'sha512': 'ae5f3c56c78ec2b46a7db702e4a673634bb05268559d4f66c6c5fc736618f347238a4e247f4e9cacd1128efafab0cac7698f79a3743c31f99b170e3bdf4365a9'}}}}, metadata={}, version='1.10.1', git_hash='UNHASHED')\n",
      "TriplesFactory(num_entities=1901, num_relations=9, create_inverse_triples=False, num_triples=10404)\n"
     ]
    },
    {
     "name": "stderr",
     "output_type": "stream",
     "text": [
      "Training epochs on cpu: 100%|██████████| 400/400 [01:14<00:00,  5.38epoch/s, loss=0.0938, prev_loss=0.0968]\n",
      "INFO:pykeen.evaluation.evaluator:Currently automatic memory optimization only supports GPUs, but you're using a CPU. Therefore, the batch_size will be set to the default value.\n",
      "INFO:pykeen.evaluation.evaluator:No evaluation batch_size provided. Setting batch_size to '32'.\n",
      "Evaluating on cpu: 100%|██████████| 2.60k/2.60k [00:00<00:00, 3.24ktriple/s]\n",
      "INFO:pykeen.evaluation.evaluator:Evaluation took 0.83s seconds\n",
      "INFO:pykeen.triples.triples_factory:Stored TriplesFactory(num_entities=1901, num_relations=9, create_inverse_triples=False, num_triples=10404) to file:///Users/yikaiyang/Projects/SS22-Knowledge-Graph/4_kge/results/TransH/training_triples\n",
      "INFO:pykeen.pipeline.api:Saved to directory: file:///Users/yikaiyang/Projects/SS22-Knowledge-Graph/4_kge/results/TransH\n",
      "INFO:pykeen.triples.splitting:done splitting triples to groups of sizes [8505, 2602]\n",
      "WARNING:pykeen.utils:No cuda devices were available. The model runs on CPU\n",
      "INFO:pykeen.pipeline.api:Using device: None\n"
     ]
    },
    {
     "name": "stdout",
     "output_type": "stream",
     "text": [
      "PipelineResult(random_seed=0, model=TransH(\n",
      "  (loss): MarginRankingLoss(\n",
      "    (margin_activation): ReLU()\n",
      "  )\n",
      "  (interaction): TransHInteraction()\n",
      "  (entity_representations): ModuleList(\n",
      "    (0): Embedding(\n",
      "      (_embeddings): Embedding(1901, 50)\n",
      "    )\n",
      "  )\n",
      "  (relation_representations): ModuleList(\n",
      "    (0-1): 2 x Embedding(\n",
      "      (_embeddings): Embedding(9, 50)\n",
      "    )\n",
      "  )\n",
      "  (weight_regularizers): ModuleList(\n",
      "    (0): NormLimitRegularizer()\n",
      "    (1): OrthogonalityRegularizer()\n",
      "  )\n",
      "), training=TriplesFactory(num_entities=1901, num_relations=9, create_inverse_triples=False, num_triples=10404), training_loop=<pykeen.training.slcwa.SLCWATrainingLoop object at 0x103d6f430>, losses=[0.9734620088484229, 0.9059476896030146, 0.8258919526891011, 0.7343478377272443, 0.6609812785939473, 0.5964538934754162, 0.522462314948803, 0.45863630495420316, 0.39010018182963857, 0.33947166146301644, 0.3021462683270617, 0.2683003682915757, 0.25445901402613014, 0.23576457216972257, 0.23306415975093842, 0.2287175153813711, 0.22650780001791512, 0.21578336997729977, 0.21605672741808543, 0.20424762004759253, 0.20259157331978403, 0.2037687105376546, 0.19301342491696521, 0.18961654240038336, 0.18670803490208415, 0.1821997401917853, 0.18601474747425173, 0.1638985919516261, 0.1711431011194136, 0.16919352041512, 0.1646543232406058, 0.16157114905555073, 0.15138397438497078, 0.15285134242802131, 0.14749954077528743, 0.1460530070996866, 0.14237670037077693, 0.14092929970200468, 0.13717775301235477, 0.13215619452842853, 0.132401201419714, 0.13203485982447136, 0.12886105550498497, 0.12775134749528838, 0.12403603988449748, 0.12484811355427998, 0.12427807363068186, 0.12514602011296808, 0.11936531724726282, 0.12876108870273684, 0.12057358426291769, 0.1209188527086886, 0.11759303437500465, 0.11939283623927976, 0.11752488118846242, 0.11413651504894583, 0.11668682552692367, 0.11256665718264697, 0.11542298517576079, 0.11117112436672537, 0.11355192977480771, 0.11182738586169917, 0.11229342058664415, 0.11254770163355804, 0.11088149903751002, 0.11122460645146487, 0.11532332602797485, 0.11104320080541982, 0.10985158838149978, 0.11076234208374489, 0.11028477276970701, 0.10916294811702357, 0.1086478773050192, 0.11124266447817407, 0.11126190732891966, 0.11098134953801225, 0.10998810991281416, 0.11107654560629915, 0.10658958899538691, 0.10794291136468329, 0.1088507493458143, 0.1050283456357514, 0.10550915976849998, 0.1016549462588822, 0.10303314429957693, 0.10502918682447294, 0.10930703625809855, 0.10904165430039894, 0.10592961965537653, 0.10641447600068116, 0.10456923086468767, 0.10125654608738131, 0.10723569353179234, 0.10456080443975402, 0.10353086943306573, 0.10612357226086826, 0.10757435458462412, 0.10601344323012887, 0.10430015314642976, 0.10116741933473726, 0.1019767759049811, 0.10511287756082488, 0.10599112601541891, 0.0994580213616534, 0.10412026487472581, 0.10309044180846796, 0.10680943473083217, 0.10738426192504603, 0.10871425725337935, 0.1030051399294923, 0.1037080188895144, 0.10342243659060175, 0.10040724459217816, 0.09701656241242479, 0.10364832856306215, 0.10385690720343008, 0.1030077618069765, 0.10042259424197965, 0.10255391441467332, 0.10401036790231379, 0.10613164696388128, 0.09777344917742217, 0.10490312572659516, 0.09965714975828077, 0.10469893656852769, 0.0992343037775377, 0.09952351923395948, 0.10131872572549959, 0.10222190963785822, 0.1016330997028002, 0.10154930066044737, 0.10569089487558458, 0.10357645735508059, 0.10091790520563358, 0.1018229826557927, 0.10063446840135062, 0.10148281640395886, 0.10304949668849386, 0.1001885494262707, 0.09824886409247793, 0.10000614930943745, 0.09675358835516906, 0.0989582416851346, 0.0975989010639307, 0.10323516806451286, 0.09984023996242662, 0.09735371435924274, 0.10180057730616593, 0.09829101348068656, 0.09880171207393088, 0.10062495491853575, 0.10341076062219899, 0.09494159125336786, 0.0997110145484529, 0.09810639845161903, 0.09746222815862517, 0.09830707129908771, 0.09788371368152339, 0.09749430572477782, 0.10065384000176336, 0.09925536129896234, 0.09851913790150386, 0.10337954341638379, 0.09817299510284168, 0.092308351724613, 0.10336463716698856, 0.10109406927736794, 0.09834065851641864, 0.10033749625450228, 0.10219673557979304, 0.10226138699345472, 0.0985976121411091, 0.10078691963742419, 0.09740111631591146, 0.09563764529984171, 0.09662534678127707, 0.1039157237221555, 0.09669465026477488, 0.09512027353048325, 0.0986629828083806, 0.09851181343561266, 0.10111465050679881, 0.10136588263075526, 0.09715146825807851, 0.09760386096995051, 0.10000019356971834, 0.09540455806546094, 0.094395460333766, 0.09681591973072146, 0.10016526136456466, 0.09833720562661566, 0.10118976090012527, 0.09951007765967672, 0.1066032482720003, 0.09678413909746379, 0.10161054406951113, 0.09860520609995214, 0.0970715290707786, 0.09744745174922594, 0.09645168392396555, 0.09917573430916159, 0.09799075371971945, 0.10081022432664545, 0.10006008133655642, 0.09870929343671334, 0.10098596789487978, 0.09829816567461665, 0.10276994527113147, 0.09675291998357308, 0.09441413212476707, 0.10062687953070897, 0.09698033441857594, 0.09876145222565023, 0.09788235367798223, 0.09421231306907607, 0.09942700477634989, 0.09623717062356996, 0.09637981562352763, 0.10125854466019607, 0.0977930337554071, 0.09676741554242808, 0.09480593807813598, 0.09943851192549961, 0.09482264009917654, 0.0978778649757548, 0.0972020471604859, 0.0995873531735525, 0.0969515588225388, 0.1007642907703795, 0.09510538781561502, 0.0955681455571477, 0.09613320204179461, 0.10067376494407654, 0.09886881872648146, 0.0972286710833631, 0.09759971081483655, 0.0976831060720653, 0.0969499078829114, 0.0972642785892254, 0.09414592158140206, 0.09598638353551306, 0.09904061684884675, 0.09878003978874625, 0.09769593442722065, 0.09495001758744077, 0.09440364979389237, 0.09582718788850599, 0.09352569036730905, 0.09913502887981694, 0.09498887381902556, 0.09582974307420777, 0.09741024036959904, 0.09865340899403502, 0.09623981503451742, 0.09885395936122755, 0.09286492681357919, 0.09784267442982371, 0.10115316964504195, 0.10025988228437377, 0.09855519171531607, 0.09531663194662188, 0.09736974064896746, 0.09568532574467542, 0.09707515559545378, 0.09541914993669928, 0.09638195212294416, 0.09736222973683985, 0.10227414420465143, 0.09736252376219122, 0.0966079418615597, 0.09805217149054132, 0.09459599834389804, 0.09175621381983524, 0.09610431732200994, 0.09532108321422483, 0.09534609899288271, 0.09958663037637384, 0.09100500712307488, 0.09380609941918676, 0.0948239399529085, 0.09433633834123611, 0.0902343589539935, 0.09719297171729367, 0.09660638141922834, 0.09713155112978888, 0.09563513063802952, 0.10038226897396692, 0.09293892970535814, 0.09617160169816599, 0.09186195255052752, 0.09500277678414089, 0.09569225487549131, 0.09580983085239805, 0.09570563693599003, 0.09600885375970747, 0.09678571934743625, 0.0944783112443075, 0.09511366195795012, 0.09531355140412726, 0.09609854148655403, 0.10089072612364118, 0.0965470973311401, 0.09687550347752688, 0.09140221120380773, 0.0919837657271362, 0.09398850798606873, 0.09914364638488467, 0.09759195548732107, 0.09181992927702462, 0.0968199379560424, 0.09565016463762377, 0.10029874614826063, 0.09914237587917142, 0.09152272934230363, 0.09166055808706981, 0.09429258980402132, 0.0936528993997632, 0.09706493485264661, 0.09587792216277705, 0.09104148362104486, 0.09176163429894098, 0.09605207784873683, 0.09434212907785322, 0.09822128822163838, 0.09160348518592555, 0.09416643439269648, 0.0952580320398982, 0.09418586296279256, 0.0999831068443089, 0.09443880036109831, 0.09670148117513191, 0.09722244630499584, 0.09733014026793038, 0.09384251694853712, 0.097761889965069, 0.09433439128646036, 0.09692165182857979, 0.093789052490781, 0.09502650161341923, 0.09342036105510665, 0.09562652267333938, 0.09333814435252329, 0.09982242725971269, 0.09529520080583852, 0.09687993711814648, 0.09515000461805158, 0.09345512728138668, 0.09619268247993981, 0.09809568488016361, 0.09299857223906167, 0.09592306541233528, 0.09098292432907151, 0.09733259941383106, 0.09373416288233385, 0.09329396359077315, 0.09642512587512411, 0.09663052829663928, 0.09397705408131204, 0.09847129308959333, 0.09469173557874633, 0.09533085365120958, 0.09464440022299929, 0.09617386558433859, 0.09753450260656636, 0.09846132793804495, 0.09123743734345204, 0.09785072351010835, 0.0956993439212078, 0.09326455124267717, 0.09437780400238387, 0.0934590813590259, 0.09404536427521124, 0.0963737365857857, 0.09510507216540778, 0.09407364358989204, 0.097349888213524, 0.09490937149015868, 0.09261748903408283, 0.09456234788749276, 0.09489687259604292, 0.10058574360318301, 0.0931546366432818, 0.09642092511057854, 0.0969511404996965, 0.09935340448850538, 0.0944186019279608, 0.09398374070481556, 0.0947303354013257, 0.09166351542240236, 0.0978589019760853, 0.09579139293693914, 0.09263252539605629, 0.09083002060651779, 0.09558977750016422, 0.09768934402523971, 0.09448697745073133, 0.09452478287786972, 0.09214964527182462, 0.09681105068544062, 0.09377720579504967], metric_results=<pykeen.evaluation.rank_based_evaluator.RankBasedMetricResults object at 0x28ede9dc0>, train_seconds=74.40791916847229, evaluate_seconds=0.8329639434814453, stopper=<pykeen.stoppers.stopper.NopStopper object at 0x28edc0a90>, configuration={'dataset': '<user defined>', 'training': '<user defined>', 'testing': '<user defined>', 'validation': '<user defined>', 'model': 'TransH', 'model_kwargs': {'random_seed': 0, 'loss': MarginRankingLoss(\n",
      "  (margin_activation): ReLU()\n",
      "), 'embedding_dim': 50, 'scoring_fct_norm': 2, 'entity_initializer': <function xavier_normal_ at 0x11f1fa820>, 'entity_regularizer': None, 'entity_regularizer_kwargs': None, 'relation_initializer': <function xavier_normal_ at 0x11f1fa820>, 'relation_regularizer': None, 'relation_regularizer_kwargs': None}, 'loss_kwargs': None, 'regularizer_kwargs': None, 'optimizer': 'Adam', 'optimizer_kwargs': {'lr': 0.001, 'betas': (0.9, 0.999), 'eps': 1e-08, 'weight_decay': 0, 'amsgrad': False, 'maximize': False, 'foreach': None, 'capturable': False, 'differentiable': False, 'fused': None}, 'training_loop': 'SLCWATrainingLoop', 'training_loop_kwargs': {}, 'evaluator': 'RankBasedEvaluator', 'evaluator_kwargs': {}, 'num_epochs': 400, 'batch_size': 256, 'evaluation_kwargs': {'additional_filter_triples': {'training': {'sha512': 'ae5f3c56c78ec2b46a7db702e4a673634bb05268559d4f66c6c5fc736618f347238a4e247f4e9cacd1128efafab0cac7698f79a3743c31f99b170e3bdf4365a9'}}}}, metadata={}, version='1.10.1', git_hash='UNHASHED')\n",
      "TriplesFactory(num_entities=1901, num_relations=9, create_inverse_triples=False, num_triples=10404)\n"
     ]
    },
    {
     "name": "stderr",
     "output_type": "stream",
     "text": [
      "Training epochs on cpu: 100%|██████████| 400/400 [01:17<00:00,  5.16epoch/s, loss=0.0617, prev_loss=0.0627]\n",
      "INFO:pykeen.evaluation.evaluator:Currently automatic memory optimization only supports GPUs, but you're using a CPU. Therefore, the batch_size will be set to the default value.\n",
      "INFO:pykeen.evaluation.evaluator:No evaluation batch_size provided. Setting batch_size to '32'.\n",
      "Evaluating on cpu: 100%|██████████| 2.60k/2.60k [00:01<00:00, 1.65ktriple/s]\n",
      "INFO:pykeen.evaluation.evaluator:Evaluation took 1.60s seconds\n",
      "INFO:pykeen.triples.triples_factory:Stored TriplesFactory(num_entities=1901, num_relations=9, create_inverse_triples=False, num_triples=10404) to file:///Users/yikaiyang/Projects/SS22-Knowledge-Graph/4_kge/results/TransD/training_triples\n",
      "INFO:pykeen.pipeline.api:Saved to directory: file:///Users/yikaiyang/Projects/SS22-Knowledge-Graph/4_kge/results/TransD\n",
      "INFO:pykeen.triples.splitting:done splitting triples to groups of sizes [8505, 2602]\n",
      "WARNING:pykeen.utils:No cuda devices were available. The model runs on CPU\n",
      "INFO:pykeen.pipeline.api:Using device: None\n"
     ]
    },
    {
     "name": "stdout",
     "output_type": "stream",
     "text": [
      "PipelineResult(random_seed=0, model=TransD(\n",
      "  (loss): MarginRankingLoss(\n",
      "    (margin_activation): ReLU()\n",
      "  )\n",
      "  (interaction): TransDInteraction()\n",
      "  (entity_representations): ModuleList(\n",
      "    (0-1): 2 x Embedding(\n",
      "      (_embeddings): Embedding(1901, 50)\n",
      "    )\n",
      "  )\n",
      "  (relation_representations): ModuleList(\n",
      "    (0-1): 2 x Embedding(\n",
      "      (_embeddings): Embedding(9, 50)\n",
      "    )\n",
      "  )\n",
      "  (weight_regularizers): ModuleList()\n",
      "), training=TriplesFactory(num_entities=1901, num_relations=9, create_inverse_triples=False, num_triples=10404), training_loop=<pykeen.training.slcwa.SLCWATrainingLoop object at 0x28edc0ac0>, losses=[0.9314373673462286, 0.8011449997018023, 0.707262372098318, 0.6158957292393941, 0.5231469782387338, 0.4305992875157333, 0.37620697079635246, 0.3346212411799082, 0.3044402366731225, 0.29394114162863755, 0.27943384211237837, 0.2688746797602351, 0.25965149373542973, 0.24813363864654447, 0.2385030581456859, 0.23952739776634588, 0.23244279877441684, 0.2209218039018352, 0.2146696273873492, 0.2083004793015922, 0.20479424043399533, 0.20206744496415302, 0.18663345604408077, 0.18872379929554173, 0.18070889355205907, 0.17703691415670442, 0.1734419657689769, 0.16758903642980064, 0.16402030718035815, 0.16158110266778528, 0.15777296591095807, 0.15005361016203717, 0.15375297807338761, 0.14211851849061688, 0.14250045142522672, 0.14439368684117387, 0.13654917151462742, 0.13853332109567595, 0.1279352183749036, 0.12679647690639262, 0.13064439322163418, 0.12068673804765795, 0.12370300438345933, 0.12350438862312131, 0.11873604593480505, 0.11397740844546295, 0.11767610289701601, 0.1138836301681472, 0.10969992990537387, 0.10804403736823942, 0.10742375000220973, 0.10565379897995693, 0.10839045193137192, 0.09994367355617081, 0.10206641420358564, 0.10240579214764804, 0.10200806852520966, 0.09210246574224495, 0.09587402578170706, 0.09575648851147513, 0.09214540616404719, 0.09220524059563148, 0.09039055356165258, 0.09186369907565234, 0.09079091532564745, 0.08767532057515005, 0.08695533390088779, 0.08937654680595165, 0.08209653525817685, 0.08347675349654221, 0.08382623642683029, 0.08295840043120267, 0.07290277198502203, 0.08304905064585733, 0.07960957243311696, 0.0817745351573316, 0.07850553186201467, 0.07459670705039327, 0.07748903306882556, 0.07777267503665715, 0.08141522591070431, 0.07932282284629054, 0.07900985348515394, 0.07721487214652503, 0.07715933415584447, 0.07049410145093755, 0.07359049650954037, 0.07284424681125617, 0.07180736659140122, 0.07111106667576766, 0.07248334677481069, 0.07168164722076277, 0.06910459842623734, 0.07120619368989294, 0.07054211299230413, 0.07199645351345946, 0.06552783390734254, 0.07024738728636648, 0.07149534445346856, 0.06882556037205022, 0.06969294451722284, 0.07134636246213098, 0.07442529981092709, 0.0692481369507022, 0.06696466529151289, 0.0689235677624621, 0.069685961415128, 0.06936056212317653, 0.07304446599105509, 0.06660405037606634, 0.07096228285170184, 0.06666584367432245, 0.06950221328837115, 0.06520355047612655, 0.07067362355386339, 0.0711131751900766, 0.06916603564125735, 0.06993548612950778, 0.06990992659475745, 0.06584578734345553, 0.06452499861579115, 0.06746840685969446, 0.06601773184247134, 0.06717842008645941, 0.06777655746696926, 0.06521131461713373, 0.06678205914795399, 0.06594763487213995, 0.06608526917492472, 0.07057806236169688, 0.0636446191588553, 0.06533880440927134, 0.07169767778094221, 0.06450835488191466, 0.06820505298674107, 0.06544127256223341, 0.06902068299127788, 0.06524503994278791, 0.0684700393822135, 0.06574262892145936, 0.06452664051477502, 0.06731869289424361, 0.0638345990602563, 0.07133851027706774, 0.06489427951050968, 0.06513775812416542, 0.06811306680121072, 0.060877820704041456, 0.06775599827126759, 0.06548496926339661, 0.06468652970180279, 0.06619593737328924, 0.0637811147494287, 0.0687610165375035, 0.06761759764901022, 0.06717447977422214, 0.06216707248695013, 0.06554998262081205, 0.0652293420237739, 0.06344257740349304, 0.06617777958148863, 0.06624481545352354, 0.0684639682039255, 0.06536080388397705, 0.0690945471387084, 0.06638485538523371, 0.06491307532641946, 0.06544261834606892, 0.06785144997624362, 0.06408118011384475, 0.06599775483695472, 0.06779521549256837, 0.06712348613797164, 0.06266963936206771, 0.05984906906761774, 0.06712577246674677, 0.05834009389324886, 0.06982488312372347, 0.06495677625260703, 0.06407517421899772, 0.06640435237346626, 0.06553817744843843, 0.06443785326328219, 0.0663558374636057, 0.06542307919845348, 0.06265943620081355, 0.06276750437370161, 0.0625892331505694, 0.06447586476257662, 0.06547647805475607, 0.06524149464761339, 0.06466342763202947, 0.06372204986287326, 0.06546103627216525, 0.06719379563157152, 0.06495704356490112, 0.06499442485410993, 0.05966211528312869, 0.06505345198802831, 0.0640773611461244, 0.06398692163752347, 0.06555820674431033, 0.06770196448012096, 0.0646060338107551, 0.06453898485477377, 0.06343839880896777, 0.06627991195858979, 0.06216942346314105, 0.060853929872192986, 0.06277969206978636, 0.06501141953759076, 0.06308913826033836, 0.06311338340363852, 0.06378944018265097, 0.06586019740235514, 0.06484494649055528, 0.06870346816211212, 0.06357374623781298, 0.05904397077676726, 0.06291633290125102, 0.0694516204842707, 0.06406196733800376, 0.06179944525768117, 0.05944124454768693, 0.06734242453807737, 0.059990813001626876, 0.06655602575075335, 0.06365480283048094, 0.061528905862715186, 0.061339674017778255, 0.06610742247686154, 0.062434174938172826, 0.06760769128435995, 0.062444232267940915, 0.06339519570876913, 0.05945083208200408, 0.06616298072948688, 0.06545772103638184, 0.061146939673074864, 0.05953757355852825, 0.06022016976664706, 0.061482398884325495, 0.06468410980774135, 0.0622420105628851, 0.0641346007767247, 0.06418741253636233, 0.059777829432632865, 0.07016138132752442, 0.06109824535868517, 0.06122270503603831, 0.06344050232593607, 0.06013653695401622, 0.06149177017008386, 0.06397739443473699, 0.06569385882921336, 0.06404341075841974, 0.06503015888355128, 0.06389833859554152, 0.06376859391244447, 0.0618570447876686, 0.060630343581845124, 0.06529509394270618, 0.06279474451411061, 0.05947711995643813, 0.06243194835033358, 0.06221649023454364, 0.062359796882402604, 0.06056581310382703, 0.0659217794493931, 0.06109435574674025, 0.0614223934982608, 0.062486538754367243, 0.0648845963906951, 0.06494575439066422, 0.062343045251398554, 0.061816804292725354, 0.06638344386365355, 0.061069717131009914, 0.06444943414592161, 0.06229868903756142, 0.05824319023366382, 0.06297175740686858, 0.0609095968851229, 0.06723820872423125, 0.0617647243709099, 0.060653617650997346, 0.05932525867914281, 0.06314368841306466, 0.06215922343658238, 0.06333945891479166, 0.06391170430110722, 0.06013733039541942, 0.06231007752258603, 0.061434077235256755, 0.06165483607569846, 0.06274974291644446, 0.05982571731253368, 0.06628604760257209, 0.0608740542992586, 0.06574835955369764, 0.06137917045412994, 0.05941597345035251, 0.06305389683239343, 0.061827975166280094, 0.06142301862014503, 0.06436728858729689, 0.06198644538114711, 0.06657029479378607, 0.0624326954527599, 0.06312573383130678, 0.060514491596599905, 0.06601656814355676, 0.06760308391800741, 0.06369735845705359, 0.06153080239892006, 0.06588565249268602, 0.06333856148327269, 0.06462251104232741, 0.06650322575758143, 0.0628691690905792, 0.0641915254385733, 0.06538303132827689, 0.06310325960923986, 0.06087225920906881, 0.06467659853217078, 0.06351044901260515, 0.06648061111024241, 0.05919014726106713, 0.06397346552552247, 0.06134205729496188, 0.0621085648493069, 0.06446532687036002, 0.06173327042743927, 0.06076351462340936, 0.06101529023087606, 0.061773654800362704, 0.061868947817058095, 0.06025515083314442, 0.06073397079982409, 0.06248202838185357, 0.06240916597407039, 0.06509727012456917, 0.062145876266607426, 0.05969207061500084, 0.06480742436720104, 0.06039976219578487, 0.06094188788315145, 0.06503247033532072, 0.06129948813013914, 0.06368131226882702, 0.06426696215824383, 0.06214620509162182, 0.06227599257012693, 0.06371393681662839, 0.06297939834071369, 0.0633507438640042, 0.06556287135292845, 0.060203756682756474, 0.06516499599305595, 0.06347933029983102, 0.065201685332307, 0.06517335399985313, 0.06075006169153423, 0.060120424664602046, 0.06392659474073387, 0.06302160951422482, 0.06398483874594293, 0.06546495209743337, 0.05657761316837334, 0.06317595456068109, 0.05870816375060779, 0.06350803020887258, 0.06198372964451953, 0.05829742778001762, 0.06161077075251719, 0.05956493945020001, 0.06281288731388929, 0.0598044856110724, 0.061643471532478566, 0.061910122042385544, 0.05598381007226502, 0.06033597295967544, 0.06199135236078646, 0.06037149823656896, 0.05981988709692548, 0.06181746366910818, 0.06247787077615901, 0.0635771372514527, 0.0603654956581389, 0.06131661810526034, 0.063402807476317, 0.06243856478391624, 0.06339332302350824, 0.0603828116251928, 0.06325065962425093, 0.057564033059085286, 0.059502327133242675, 0.06406088350567876, 0.06269426353094054, 0.06172593237786758], metric_results=<pykeen.evaluation.rank_based_evaluator.RankBasedMetricResults object at 0x28edc0220>, train_seconds=77.6240029335022, evaluate_seconds=1.6051619052886963, stopper=<pykeen.stoppers.stopper.NopStopper object at 0x103db3c70>, configuration={'dataset': '<user defined>', 'training': '<user defined>', 'testing': '<user defined>', 'validation': '<user defined>', 'model': 'TransD', 'model_kwargs': {'random_seed': 0, 'loss': MarginRankingLoss(\n",
      "  (margin_activation): ReLU()\n",
      "), 'embedding_dim': 50, 'relation_dim': None, 'interaction_kwargs': None, 'entity_initializer': <function xavier_uniform_ at 0x28e195d30>, 'relation_initializer': <pykeen.utils.compose object at 0x28e1a1bb0>, 'entity_constrainer': <function clamp_norm at 0x169927550>, 'relation_constrainer': <function clamp_norm at 0x169927550>}, 'loss_kwargs': None, 'regularizer_kwargs': None, 'optimizer': 'Adam', 'optimizer_kwargs': {'lr': 0.001, 'betas': (0.9, 0.999), 'eps': 1e-08, 'weight_decay': 0, 'amsgrad': False, 'maximize': False, 'foreach': None, 'capturable': False, 'differentiable': False, 'fused': None}, 'training_loop': 'SLCWATrainingLoop', 'training_loop_kwargs': {}, 'evaluator': 'RankBasedEvaluator', 'evaluator_kwargs': {}, 'num_epochs': 400, 'batch_size': 256, 'evaluation_kwargs': {'additional_filter_triples': {'training': {'sha512': 'ae5f3c56c78ec2b46a7db702e4a673634bb05268559d4f66c6c5fc736618f347238a4e247f4e9cacd1128efafab0cac7698f79a3743c31f99b170e3bdf4365a9'}}}}, metadata={}, version='1.10.1', git_hash='UNHASHED')\n",
      "TriplesFactory(num_entities=1901, num_relations=9, create_inverse_triples=False, num_triples=10404)\n"
     ]
    },
    {
     "name": "stderr",
     "output_type": "stream",
     "text": [
      "Training epochs on cpu: 100%|██████████| 400/400 [01:49<00:00,  3.65epoch/s, loss=0.0482, prev_loss=0.0513]\n",
      "INFO:pykeen.evaluation.evaluator:Currently automatic memory optimization only supports GPUs, but you're using a CPU. Therefore, the batch_size will be set to the default value.\n",
      "INFO:pykeen.evaluation.evaluator:No evaluation batch_size provided. Setting batch_size to '32'.\n",
      "Evaluating on cpu: 100%|██████████| 2.60k/2.60k [00:02<00:00, 966triple/s]\n",
      "INFO:pykeen.evaluation.evaluator:Evaluation took 2.72s seconds\n",
      "INFO:pykeen.triples.triples_factory:Stored TriplesFactory(num_entities=1901, num_relations=9, create_inverse_triples=False, num_triples=10404) to file:///Users/yikaiyang/Projects/SS22-Knowledge-Graph/4_kge/results/RotatE/training_triples\n",
      "INFO:pykeen.pipeline.api:Saved to directory: file:///Users/yikaiyang/Projects/SS22-Knowledge-Graph/4_kge/results/RotatE\n",
      "INFO:pykeen.triples.splitting:done splitting triples to groups of sizes [8505, 2602]\n",
      "WARNING:pykeen.utils:No cuda devices were available. The model runs on CPU\n",
      "INFO:pykeen.pipeline.api:Using device: None\n",
      "WARNING:pykeen.models.unimodal.conv_e:\n",
      "The ConvE model should be trained with inverse triples.\n",
      "This can be done by defining the TriplesFactory class with the _create_inverse_triples_ parameter set to true.\n",
      "INFO:pykeen.nn.modules:Resolving None * None * None = 200.\n",
      "INFO:pykeen.nn.modules:Resolved to 1 * 20 * 10 = 200.\n"
     ]
    },
    {
     "name": "stdout",
     "output_type": "stream",
     "text": [
      "PipelineResult(random_seed=0, model=RotatE(\n",
      "  (loss): MarginRankingLoss(\n",
      "    (margin_activation): ReLU()\n",
      "  )\n",
      "  (interaction): RotatEInteraction()\n",
      "  (entity_representations): ModuleList(\n",
      "    (0): Embedding(\n",
      "      (_embeddings): Embedding(1901, 400)\n",
      "    )\n",
      "  )\n",
      "  (relation_representations): ModuleList(\n",
      "    (0): Embedding(\n",
      "      (_embeddings): Embedding(9, 400)\n",
      "    )\n",
      "  )\n",
      "  (weight_regularizers): ModuleList()\n",
      "), training=TriplesFactory(num_entities=1901, num_relations=9, create_inverse_triples=False, num_triples=10404), training_loop=<pykeen.training.slcwa.SLCWATrainingLoop object at 0x103db3730>, losses=[0.9369127474180082, 0.7818712403134602, 0.6460134285252269, 0.5419303513154751, 0.47742624326450067, 0.4481342027827007, 0.42971511003447743, 0.41427465764487664, 0.38790990812022513, 0.38080929401444225, 0.3623955867639402, 0.3478671777539137, 0.3346825576410061, 0.3174407365845471, 0.29940515829295644, 0.2935860578606768, 0.2714170413773234, 0.2528545634775627, 0.23597680359351925, 0.22019745009701427, 0.2075298424901032, 0.19159490996744574, 0.17979110559312309, 0.16591145716062405, 0.1558805022661279, 0.13605580696972405, 0.12502742267963363, 0.11825585020024602, 0.114802805752289, 0.10468217294390608, 0.0936690892388181, 0.09199437426357734, 0.08711172004298466, 0.0810384428719195, 0.07832281754874601, 0.07659863671515046, 0.07582336564253016, 0.07351873969522918, 0.07028603462911234, 0.07424816934437287, 0.06818508238690656, 0.06435805404695069, 0.07223294484542638, 0.0669944282712006, 0.06691692533289514, 0.0663433301194412, 0.06512280535407183, 0.0655197093217838, 0.06412144777614896, 0.06594036683076765, 0.06594812597443418, 0.06348847720499445, 0.06486041798460775, 0.058854469711460716, 0.06330312016170199, 0.06430306653605729, 0.06427002970765276, 0.060877583375791224, 0.06346569346582018, 0.06167610016901318, 0.06387602574214703, 0.06101308299637422, 0.06619318756388455, 0.06355621765662985, 0.06384799320523332, 0.06208777745685926, 0.06154687534563425, 0.057494553669196806, 0.06292653147403787, 0.06360638386956076, 0.059810067776863166, 0.06155494327952222, 0.0598008534530314, 0.061412683574528226, 0.06255264212263793, 0.06001602313140544, 0.057062572095452284, 0.06059163854253001, 0.06138038280897024, 0.05827983296135577, 0.06176184717474914, 0.05871348828077316, 0.06337415681379598, 0.06254193895473713, 0.06114150938100931, 0.06462909353942406, 0.06328297951599447, 0.060292461841571623, 0.05976654861758395, 0.05925599976283748, 0.060537167892950335, 0.0577505329941831, 0.05827815630813924, 0.058298996218094014, 0.059425235794084826, 0.06683586029017843, 0.058874326144776695, 0.0587699549590669, 0.05750082160641507, 0.06060869919090736, 0.06097694695359323, 0.059458580322381924, 0.061708388441219564, 0.059713724546316196, 0.05972010237959827, 0.055736309462567656, 0.05987162915308301, 0.05808181924427428, 0.062199884525886394, 0.06171434599815345, 0.06061433192069938, 0.05707326504151996, 0.05658001997848836, 0.06189661345830778, 0.05709750705012461, 0.05922065648000415, 0.05872367549596763, 0.061835701236637626, 0.05692914373627523, 0.05539084380356277, 0.06058888491697428, 0.061933037529631356, 0.05879368451310367, 0.056574494282646874, 0.056181155599471996, 0.05676835071204639, 0.060791857994911144, 0.059176565534094484, 0.06048438112001594, 0.05902000780149204, 0.05675647544061265, 0.05954937691368708, 0.05962056743844253, 0.0595660541297459, 0.06210174247985933, 0.058184359449802374, 0.05642692758361014, 0.05418449958286634, 0.057654307292002, 0.057391499419037886, 0.05619735325255045, 0.057482617657359056, 0.05681543879029227, 0.05721371475516296, 0.057199041018398795, 0.06167819032945284, 0.05667260175616276, 0.05759313343683394, 0.058584982620143305, 0.05777317421828828, 0.05513453031549367, 0.056566985460316264, 0.05723279187592065, 0.05747135592306533, 0.05685762986086491, 0.05684266793655186, 0.0558227398773519, 0.055678321502921055, 0.060363444613247386, 0.0544857370962457, 0.05241852371794421, 0.05572390869804999, 0.05406050947381229, 0.049956053949710796, 0.055179984604076644, 0.05794403629332054, 0.057491310803991995, 0.05968733186401972, 0.057168972065172546, 0.05362092244734124, 0.05641996587921933, 0.05599641277477509, 0.05918765704079372, 0.0569282892818858, 0.056477673079182465, 0.054642874111489555, 0.05261039606681684, 0.056525357340167205, 0.059828165191702726, 0.05972622253182458, 0.055261245769698444, 0.05494371070185813, 0.055025189478949806, 0.053388478279840654, 0.05674611200101492, 0.054552453093049, 0.05323530724499284, 0.05706264651039752, 0.054547145281259604, 0.05556109561244162, 0.05746954815780244, 0.05180177078923074, 0.05617362742380398, 0.054091708189467104, 0.05713663709054633, 0.055824259659502565, 0.053571292358200726, 0.05408136628386451, 0.05412057196585143, 0.0542686299034735, 0.0582946443521395, 0.05474248169580611, 0.05760502651697252, 0.055006081238389015, 0.052951939085998184, 0.05119486512025682, 0.0550240617154575, 0.05481375181456891, 0.05343401032250102, 0.05430462129595803, 0.05528967373254823, 0.053924802917896246, 0.05120597766121713, 0.053456131187154025, 0.05663093397530114, 0.052074663431906115, 0.05437132116498017, 0.05382787000115325, 0.05382522313696582, 0.05152708818999732, 0.05361846938911008, 0.05554029327340242, 0.05337535008424666, 0.05052948088907614, 0.056443144453734884, 0.05011643310327355, 0.05196681859471449, 0.0524557686251838, 0.05067370141424784, 0.05348854421115503, 0.04959207786837729, 0.052572760004095914, 0.053176743909716606, 0.05265410080915544, 0.052559549579533134, 0.05409616159229744, 0.04948725201552961, 0.05163960445036248, 0.05632115786940586, 0.05005500002241716, 0.05133867559091347, 0.05352928580307379, 0.05689405877052284, 0.052215213319513856, 0.05040486624873266, 0.04943059598345582, 0.05317358799823901, 0.05293730882609763, 0.053156002947106595, 0.051998393064955385, 0.05436559930080321, 0.05378302541084406, 0.05189486906477591, 0.05411711207977155, 0.05501049666143045, 0.0513725033166205, 0.05377673098772037, 0.05071287120624286, 0.049074747486085424, 0.04905839986735728, 0.04506451073216229, 0.04947656333991667, 0.04958106622826762, 0.05163893371638728, 0.04972901595074956, 0.05112474443527257, 0.04919560925989616, 0.05211979627790975, 0.04870577519986688, 0.05072195414544606, 0.04916693656364592, 0.053227108426210354, 0.05030243048762403, 0.04494179317318812, 0.04729833780992322, 0.0533093017775838, 0.051365930950496255, 0.05260385352573017, 0.048694754337392204, 0.04991446735291946, 0.049594197422266006, 0.05064643487879416, 0.050723106305046776, 0.047573386100915875, 0.05515257210084578, 0.049212463063801205, 0.04999880483601152, 0.049553574267320516, 0.048619156112758126, 0.05272871932787139, 0.051945907313649245, 0.04919853456681821, 0.04889398781446422, 0.052072297054819944, 0.051434490511693604, 0.04875228567639502, 0.04892592518249663, 0.0489948123420884, 0.05331801205146604, 0.05190260035962593, 0.054270317141966125, 0.05028055367491594, 0.04934499728516108, 0.04502278898002171, 0.04896416042636081, 0.050329073309534934, 0.05095701033204067, 0.051244735899494916, 0.050109731169735515, 0.0532186313918451, 0.05006620069829429, 0.046058414503932, 0.04914041358704974, 0.0516833373140998, 0.05068845197376681, 0.04937423829261849, 0.04849348607950094, 0.04720378812493348, 0.05152066506263686, 0.04977165098960807, 0.04973020995172059, 0.05513083698546014, 0.04910378998554334, 0.04845180725905954, 0.05097996479854351, 0.04477821033811424, 0.05101457678871911, 0.0494967887132633, 0.048630390997703485, 0.049507433957443, 0.04803025618013812, 0.04795695459697305, 0.04650903025233164, 0.05171519154455603, 0.04960653826412631, 0.050627655372387025, 0.05196383463718542, 0.049204834895889935, 0.047925847650664606, 0.05172243341803551, 0.05458781709213082, 0.04954433627426624, 0.04866050365494519, 0.05068471214575011, 0.049727911038733114, 0.04916734134823811, 0.04818983089814826, 0.05173021545860826, 0.05147790150126306, 0.04968611468992582, 0.050466592718915244, 0.04909203428684211, 0.04746645248336036, 0.049147625090327204, 0.05017718695467565, 0.0469326408261933, 0.048563058101912825, 0.04500696726325082, 0.04989271211188014, 0.05256176549123555, 0.04575440526099467, 0.04855261111586559, 0.04938498493738291, 0.04877967196630269, 0.047271226873485055, 0.04582571351855266, 0.05109803110542821, 0.046685088653026556, 0.048950461398174126, 0.04960290933164155, 0.04921769936818902, 0.049482679357979356, 0.04799521959772924, 0.048730029474671296, 0.050798361348669704, 0.051934384945325734, 0.04911097988668012, 0.048367501940669085, 0.05045499121088807, 0.04565651991927042, 0.04898086726302054, 0.04809602558976266, 0.04656878250037751, 0.053531403925905864, 0.04994093222407306, 0.04752642043480059, 0.049088790422169175, 0.05146471197467025, 0.04616483073772454, 0.05012468266777876, 0.04827459347320766, 0.04788705374954677, 0.04951927193054339, 0.04782459884881973, 0.049590496800658176, 0.04789514026445586, 0.04980563831220313, 0.04861158850352939, 0.05133158177500818, 0.04822533277840149], metric_results=<pykeen.evaluation.rank_based_evaluator.RankBasedMetricResults object at 0x103d6f0d0>, train_seconds=109.80313229560852, evaluate_seconds=2.7232720851898193, stopper=<pykeen.stoppers.stopper.NopStopper object at 0x28edc0340>, configuration={'dataset': '<user defined>', 'training': '<user defined>', 'testing': '<user defined>', 'validation': '<user defined>', 'model': 'RotatE', 'model_kwargs': {'random_seed': 0, 'loss': MarginRankingLoss(\n",
      "  (margin_activation): ReLU()\n",
      "), 'embedding_dim': 200, 'entity_initializer': <function xavier_uniform_ at 0x28e195d30>, 'relation_initializer': <function init_phases at 0x28e3161f0>, 'relation_constrainer': <function complex_normalize at 0x16992e550>, 'regularizer': None, 'regularizer_kwargs': None}, 'loss_kwargs': None, 'regularizer_kwargs': None, 'optimizer': 'Adam', 'optimizer_kwargs': {'lr': 0.001, 'betas': (0.9, 0.999), 'eps': 1e-08, 'weight_decay': 0, 'amsgrad': False, 'maximize': False, 'foreach': None, 'capturable': False, 'differentiable': False, 'fused': None}, 'training_loop': 'SLCWATrainingLoop', 'training_loop_kwargs': {}, 'evaluator': 'RankBasedEvaluator', 'evaluator_kwargs': {}, 'num_epochs': 400, 'batch_size': 256, 'evaluation_kwargs': {'additional_filter_triples': {'training': {'sha512': 'ae5f3c56c78ec2b46a7db702e4a673634bb05268559d4f66c6c5fc736618f347238a4e247f4e9cacd1128efafab0cac7698f79a3743c31f99b170e3bdf4365a9'}}}}, metadata={}, version='1.10.1', git_hash='UNHASHED')\n",
      "TriplesFactory(num_entities=1901, num_relations=9, create_inverse_triples=False, num_triples=10404)\n"
     ]
    },
    {
     "name": "stderr",
     "output_type": "stream",
     "text": [
      "Training epochs on cpu:   0%|          | 0/400 [00:00<?, ?epoch/s]INFO:pykeen.training.training_loop:Dropping last (incomplete) batch each epoch (1/40 (2.50%) batches).\n",
      "Training epochs on cpu: 100%|██████████| 400/400 [17:53<00:00,  2.68s/epoch, loss=0.000685, prev_loss=0.000765]\n",
      "INFO:pykeen.evaluation.evaluator:Currently automatic memory optimization only supports GPUs, but you're using a CPU. Therefore, the batch_size will be set to the default value.\n",
      "INFO:pykeen.evaluation.evaluator:No evaluation batch_size provided. Setting batch_size to '32'.\n",
      "Evaluating on cpu: 100%|██████████| 2.60k/2.60k [01:46<00:00, 24.4triple/s]\n",
      "INFO:pykeen.evaluation.evaluator:Evaluation took 106.77s seconds\n",
      "INFO:pykeen.triples.triples_factory:Stored TriplesFactory(num_entities=1901, num_relations=9, create_inverse_triples=False, num_triples=10404) to file:///Users/yikaiyang/Projects/SS22-Knowledge-Graph/4_kge/results/ConvE/training_triples\n",
      "INFO:pykeen.pipeline.api:Saved to directory: file:///Users/yikaiyang/Projects/SS22-Knowledge-Graph/4_kge/results/ConvE\n"
     ]
    },
    {
     "name": "stdout",
     "output_type": "stream",
     "text": [
      "PipelineResult(random_seed=0, model=ConvE(\n",
      "  (loss): MarginRankingLoss(\n",
      "    (margin_activation): ReLU()\n",
      "  )\n",
      "  (interaction): ConvEInteraction(\n",
      "    (hr2d): Sequential(\n",
      "      (0): BatchNorm2d(1, eps=1e-05, momentum=0.1, affine=True, track_running_stats=True)\n",
      "      (1): Dropout(p=0.2, inplace=False)\n",
      "      (2): Conv2d(1, 32, kernel_size=(3, 3), stride=(1, 1))\n",
      "      (3): BatchNorm2d(32, eps=1e-05, momentum=0.1, affine=True, track_running_stats=True)\n",
      "      (4): ReLU()\n",
      "      (5): Dropout2d(p=0.2, inplace=False)\n",
      "    )\n",
      "    (hr1d): Sequential(\n",
      "      (0): Linear(in_features=10368, out_features=200, bias=True)\n",
      "      (1): Dropout(p=0.3, inplace=False)\n",
      "      (2): BatchNorm1d(200, eps=1e-05, momentum=0.1, affine=True, track_running_stats=True)\n",
      "      (3): ReLU()\n",
      "    )\n",
      "  )\n",
      "  (entity_representations): ModuleList(\n",
      "    (0): Embedding(\n",
      "      (_embeddings): Embedding(1901, 200)\n",
      "    )\n",
      "    (1): Embedding(\n",
      "      (_embeddings): Embedding(1901, 1)\n",
      "    )\n",
      "  )\n",
      "  (relation_representations): ModuleList(\n",
      "    (0): Embedding(\n",
      "      (_embeddings): Embedding(9, 200)\n",
      "    )\n",
      "  )\n",
      "  (weight_regularizers): ModuleList()\n",
      "), training=TriplesFactory(num_entities=1901, num_relations=9, create_inverse_triples=False, num_triples=10404), training_loop=<pykeen.training.slcwa.SLCWATrainingLoop object at 0x28ede55e0>, losses=[0.8924474269151688, 0.741683553159237, 0.6567068234086036, 0.5898014545440674, 0.5182823278009892, 0.43199808821082114, 0.3766463458538055, 0.3062301602214575, 0.25952441729605197, 0.2407405164092779, 0.21131393872201443, 0.1825928796082735, 0.17594208419322968, 0.15370530243963004, 0.1377409093081951, 0.1261018943041563, 0.11105675995349884, 0.10293684592470527, 0.09353758618235589, 0.07730669751763344, 0.07450755247846245, 0.07230121456086636, 0.058503434620797636, 0.05152264556381851, 0.04989601362030953, 0.04441306036897004, 0.04173342622816563, 0.03508911712560803, 0.03407826693728566, 0.03075916940579191, 0.0322195990011096, 0.029424832994118334, 0.02593913805903867, 0.024319284502416848, 0.0229559114202857, 0.023935866355895997, 0.021214160620002077, 0.018842892808606848, 0.01759548849076964, 0.016927141830092297, 0.015301959542557596, 0.016700743656838313, 0.016693702974589542, 0.01480868307990022, 0.014054174028569833, 0.012151736568193882, 0.01409805152215995, 0.01339810602949001, 0.011604904080741107, 0.011416762717999518, 0.009597699722507968, 0.01169444682309404, 0.01106589323026128, 0.010542756837094203, 0.008981098572257906, 0.009840722905937582, 0.00835326373926364, 0.009659779036883264, 0.007695855724159628, 0.008662830444518477, 0.00893425290705636, 0.008455681084888056, 0.006674377684248611, 0.00792992475326173, 0.006103694083867595, 0.0051632200367748736, 0.008174962381599472, 0.010308710037497804, 0.007808482891414314, 0.006240721442736685, 0.005209452169947326, 0.006182245368836448, 0.006619860330829397, 0.004817244317382574, 0.004853836359689012, 0.006017714913468808, 0.00567129003466107, 0.004791952244704589, 0.004915104404790327, 0.004672238603234291, 0.006627386930631474, 0.004682933987351134, 0.005510330066317693, 0.0044687496847473085, 0.005590417375788093, 0.005027775128837675, 0.003996270516654477, 0.004213378619169816, 0.005140126874903217, 0.004368232982233167, 0.005279867979697883, 0.003373759245732799, 0.003955058509018272, 0.0037430406897328793, 0.0034555352875031533, 0.00490321169490926, 0.004124596412293613, 0.0035052553343120963, 0.004988643602700904, 0.003697620506864041, 0.003471207228722051, 0.0035642551316414028, 0.003685932740336284, 0.0029417819692753254, 0.004152250930201262, 0.0031040925823617727, 0.003183241107035428, 0.00380775262019597, 0.0029713208321481945, 0.0027218811388593166, 0.0036621136590838433, 0.0029507600993383676, 0.0036607087240554392, 0.0035647439770400526, 0.004450863262172788, 0.003033000376308337, 0.003200796229066327, 0.004058034007903189, 0.0025369177921675144, 0.0026628062885720285, 0.004144655668642372, 0.0033854220295324922, 0.0023131482594180852, 0.0038778293936047705, 0.0029363206936977803, 0.0024195971491280943, 0.0031885149131994695, 0.002536108664935455, 0.0029713815602008253, 0.003437424672301859, 0.0025573972903657704, 0.00282185819814913, 0.0023924988054204732, 0.003748132451437414, 0.0031335885229054838, 0.004107911657774821, 0.003484815632691607, 0.002761097624897957, 0.0024870262946933507, 0.0023437189985997973, 0.002125151932705194, 0.0024380817485507578, 0.0015441805124282836, 0.0026117634144611655, 0.002303637785371393, 0.002569739002501592, 0.0018536119663622231, 0.002559631475014612, 0.0016643118637148292, 0.001751828851411119, 0.0013376320770476014, 0.0038264091999735683, 0.001949183875694871, 0.0026037814386654645, 0.001985562819754705, 0.0023480050847865643, 0.0016805427498184145, 0.002408735413337126, 0.0028636298433411867, 0.0024783118278719485, 0.0024438204476609827, 0.0015834823600016535, 0.0017698062642011792, 0.0023086960660293697, 0.0019914846401661635, 0.0017512778926175089, 0.0021157872455660255, 0.0018429123272653669, 0.0015921730431728066, 0.0009321060497313738, 0.0023468091269023715, 0.0025061986525543034, 0.0021524034207686784, 0.0017143574834335596, 0.0009059638658072799, 0.0011655670998152346, 0.000938645878341049, 0.0013180862064473332, 0.001735752896638587, 0.001999564137076959, 0.0011566815082915127, 0.0022914468601811675, 0.000826165423495695, 0.0017216200940310955, 0.0011237918108236045, 0.0026112249586731197, 0.0016049418540205807, 0.00139831897104159, 0.0024862809863407166, 0.0022302942466922103, 0.001509832253213972, 0.0024120627378579227, 0.0014699207153171302, 0.0019023388798814268, 0.001628839218756184, 0.0009418115834705532, 0.0012945403228513896, 0.0020981776528060437, 0.0015835141064599156, 0.0010298489942215383, 0.0010466121835634111, 0.0012255581445060671, 0.0010263632226269691, 0.0009529059519991278, 0.0016477511846460402, 0.0027984160871710627, 0.001833902020007372, 0.001953191141365096, 0.0015202988870441914, 0.0008584660361520946, 0.002181264525279403, 0.001595729764085263, 0.0015893657109700143, 0.001491824974073097, 0.0009736127045471221, 0.0015652831993065775, 0.00163440351607278, 0.0013579817838035523, 0.0016677215811796487, 0.0012073133839294314, 0.0013653367990627886, 0.001934951002476737, 0.0011430605896748602, 0.0020461386768147348, 0.000750279804924503, 0.001665981038240716, 0.0011344885220751165, 0.00103181746089831, 0.0015436045941896737, 0.0012714785349089651, 0.0017728396982420237, 0.001269728789338842, 0.0003597138274926692, 0.0015211068908683955, 0.0008869303565006703, 0.0010806297592353075, 0.0010086699214298279, 0.0004562332760542631, 0.0006958147452678532, 0.0015866273606661707, 0.0011631717439740895, 0.001186001522000879, 0.0013202498375903815, 0.001445360528305173, 0.0009628432802855968, 0.0007861258636694402, 0.001203005644492805, 0.0008568224147893488, 0.0015687631326727568, 0.0016442713502328842, 0.000829367944970727, 0.0009003106446471065, 0.000773235724773258, 0.0013901253114454448, 0.0009489575983025134, 0.0020161168766207995, 0.001195150607964024, 0.0010155055671930314, 0.00014167717308737337, 0.0009072078973986208, 0.0011553796182852238, 0.0013750047306530177, 0.0010991902789101004, 0.0014427389309275896, 0.0009917626390233635, 0.0018989716074429453, 0.0006601455388590693, 0.0006456189963500947, 0.0010151433118153364, 0.0010627741285134107, 0.0011185361188836395, 0.0009995930769946427, 0.0006092612806241959, 0.0006560006295330822, 0.000554016639944166, 0.00023904995759949088, 0.0015646329906303436, 0.000642900966340676, 0.0004592656274326146, 0.0008770563872531056, 0.0007346748723648488, 0.0012757332413457334, 0.0009132826700806618, 0.0006118416786193848, 0.0012521913333330304, 0.0004997872281819582, 0.0013370234461035579, 0.0009833708580117672, 0.0010756895644590259, 0.0005247683729976416, 0.001306572463363409, 0.00019659227691590787, 0.0007407694705761969, 0.0009109314356464893, 0.0011261859093792737, 0.0007808887108694762, 0.00115413055755198, 0.0009591940732207149, 0.0010790676868055015, 0.0007110181613825262, 0.00046149055706337096, 0.0003677103202790022, 0.00010430352995172143, 0.0007506571710109711, 0.001077906327554956, 0.0010106384463142604, 0.0010731292131822556, 0.0009387135971337557, 0.0012728395347949117, 0.001264571415958926, 0.0009894887858536094, 0.0008818932343274355, 0.000664091040380299, 0.00041712304810062053, 0.00013364111073315143, 0.0005068063968792557, 0.0014741332386620342, 0.0006180956610478461, 0.0006381327228154987, 0.0008617891813628376, 0.000763312733033672, 0.0006489363848231732, 0.0004980612196959555, 0.0009868889348581434, 0.00071983162779361, 0.000828236568486318, 0.0006455873139202595, 0.0005956200882792472, 0.0005104334093630313, 0.0004999906406737864, 0.000514046783791855, 0.00034829777432605625, 0.0011107778991572559, 0.0007381516392342746, 0.0005468923773150891, 0.0003623303782660514, 0.0006766612816136331, 0.0017774056235793979, 0.00029468750581145285, 0.0009044901584275067, 0.001644643023610115, 0.0011071243905462324, 0.0005260269274003804, 0.0010637842817232013, 0.0007689345511607826, 0.000615837873192504, 0.0004098056990187615, 0.0011627593659795821, 0.0008970018825493753, 0.0008406539913266897, 0.0011000416649039834, 0.0005582162411883473, 0.0004697562428191304, 8.130302303470671e-05, 0.0005160016764421016, 0.0004457766655832529, 0.0007858067809138447, 0.0004371314949821681, 5.907438462600112e-05, 0.0001963602495379746, 0.0002682954363990575, 0.0003371632017660886, 0.00047451325808651746, 0.00030396021902561187, 0.00038351421244442463, 0.000524077785667032, 0.0004849707416724414, 0.0008846782147884369, 0.0009140162030234933, 0.00045201859320513903, 0.0008657586702611297, 0.00015517667634412646, 0.00033873089705593884, 0.0002830754849128425, 0.00039327016565948725, 0.0004574897640850395, 0.000375212705694139, 0.000604336807737127, 0.0007165217772126198, 0.0002503654803149402, 0.0005743870511651039, 0.00046900694724172354, 0.00016920520574785768, 0.0005690196296200157, 0.0006003083661198616, 0.00013432650011964143, 0.00019296603859402238, 0.00023078513331711292, 0.00012895532418042422, 0.0007293759321328252, 0.0003106030635535717, 0.0006188688334077596, 0.0002570006065070629, 0.0006775392161216587, 0.0007206088746897876, 0.00028645785059779885, 0.000739759928546846, 0.0007267234264872968, 0.0007649763254448771, 0.000684616289800033], metric_results=<pykeen.evaluation.rank_based_evaluator.RankBasedMetricResults object at 0x28edc0190>, train_seconds=1073.8213529586792, evaluate_seconds=106.76787519454956, stopper=<pykeen.stoppers.stopper.NopStopper object at 0x28ede9250>, configuration={'dataset': '<user defined>', 'training': '<user defined>', 'testing': '<user defined>', 'validation': '<user defined>', 'model': 'ConvE', 'model_kwargs': {'random_seed': 0, 'loss': MarginRankingLoss(\n",
      "  (margin_activation): ReLU()\n",
      "), 'input_channels': None, 'output_channels': 32, 'embedding_height': None, 'embedding_width': None, 'kernel_height': 3, 'kernel_width': 3, 'input_dropout': 0.2, 'output_dropout': 0.3, 'feature_map_dropout': 0.2, 'embedding_dim': 200, 'apply_batch_normalization': True, 'entity_initializer': <function xavier_normal_ at 0x28e307700>, 'relation_initializer': <function xavier_normal_ at 0x28e307700>}, 'loss_kwargs': None, 'regularizer_kwargs': None, 'optimizer': 'Adam', 'optimizer_kwargs': {'lr': 0.001, 'betas': (0.9, 0.999), 'eps': 1e-08, 'weight_decay': 0, 'amsgrad': False, 'maximize': False, 'foreach': None, 'capturable': False, 'differentiable': False, 'fused': None}, 'training_loop': 'SLCWATrainingLoop', 'training_loop_kwargs': {}, 'evaluator': 'RankBasedEvaluator', 'evaluator_kwargs': {}, 'num_epochs': 400, 'batch_size': 256, 'evaluation_kwargs': {'additional_filter_triples': {'training': {'sha512': 'ae5f3c56c78ec2b46a7db702e4a673634bb05268559d4f66c6c5fc736618f347238a4e247f4e9cacd1128efafab0cac7698f79a3743c31f99b170e3bdf4365a9'}}}}, metadata={}, version='1.10.1', git_hash='UNHASHED')\n"
     ]
    }
   ],
   "source": [
    "from training import train\n",
    "models = ['TransE', 'TransH', 'TransD', 'RotatE', 'ConvE']\n",
    "EPOCHS = 400\n",
    "train(models=models,epochs=EPOCHS)"
   ]
  },
  {
   "cell_type": "code",
   "execution_count": 5,
   "metadata": {},
   "outputs": [
    {
     "name": "stdout",
     "output_type": "stream",
     "text": [
      "<h3>Head Entity Prediction</h3>\n",
      "\n",
      "|Model   |MR   |hits@10 |hits@3 | hits@1|\n",
      "|---|---|---|---|---|\n",
      "|TransD   |13.829362029208301   |77.33%   |46.46%   |28.40%   |\n",
      "|TransE   |41.484627209838585   |62.03%   |49.42%   |33.82%   |\n",
      "|TransH   |8.581475787855496   |76.25%   |64.18%   |41.81%   |\n",
      "|RotatE   |16.662567255956954   |77.02%   |64.49%   |48.89%   |\n",
      "|ConvE   |175.71598770176786   |51.19%   |38.78%   |24.71%   |\n",
      "<h3>Tail Entity Prediction</h3>\n",
      "\n",
      "|Model   |MR   |hits@10 |hits@3 | hits@1|\n",
      "|---|---|---|---|---|\n",
      "|TransD   |12.52229054573405   |76.29%   |55.50%   |30.28%   |\n",
      "|TransE   |32.1510376633359   |64.64%   |50.81%   |35.20%   |\n",
      "|TransH   |9.340122982321292   |75.83%   |63.68%   |57.96%   |\n",
      "|RotatE   |15.956571867794004   |71.60%   |54.65%   |43.62%   |\n",
      "|ConvE   |97.64911606456572   |40.12%   |23.17%   |13.11%   |\n"
     ]
    }
   ],
   "source": [
    "from print_results import print_results\n",
    "print_results(write_to_file=False)"
   ]
  }
 ],
 "metadata": {
  "kernelspec": {
   "display_name": "ss22-knowledge-graph-phk8xMS3-py3.9",
   "language": "python",
   "name": "python3"
  },
  "language_info": {
   "codemirror_mode": {
    "name": "ipython",
    "version": 3
   },
   "file_extension": ".py",
   "mimetype": "text/x-python",
   "name": "python",
   "nbconvert_exporter": "python",
   "pygments_lexer": "ipython3",
   "version": "3.9.16"
  },
  "orig_nbformat": 4
 },
 "nbformat": 4,
 "nbformat_minor": 2
}
